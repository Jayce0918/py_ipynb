{
  "nbformat": 4,
  "nbformat_minor": 0,
  "metadata": {
    "colab": {
      "name": "Python初學.ipynb",
      "provenance": [],
      "collapsed_sections": [
        "aToDNiVxG9iq",
        "wSaWS6UoG4CX",
        "fuDMEn1A5pbm",
        "hMkpz6p3u2Tg",
        "2Gq2aUd1Vn4A",
        "q3NnBkc9YNFC"
      ],
      "toc_visible": true
    },
    "kernelspec": {
      "name": "python3",
      "display_name": "Python 3"
    }
  },
  "cells": [
    {
      "cell_type": "markdown",
      "metadata": {
        "id": "d_G33CJS46AY",
        "colab_type": "text"
      },
      "source": [
        "# Python初學"
      ]
    },
    {
      "cell_type": "markdown",
      "metadata": {
        "id": "aToDNiVxG9iq",
        "colab_type": "text"
      },
      "source": [
        "##2019-05-22"
      ]
    },
    {
      "cell_type": "code",
      "metadata": {
        "id": "zn9sZ6qIXNAu",
        "colab_type": "code",
        "colab": {
          "base_uri": "https://localhost:8080/",
          "height": 34
        },
        "outputId": "43734ba8-06d0-4f3a-ede6-bb9f4afb1d37"
      },
      "source": [
        "print(\"Hello Ting!\")"
      ],
      "execution_count": null,
      "outputs": [
        {
          "output_type": "stream",
          "text": [
            "Hello Ting!\n"
          ],
          "name": "stdout"
        }
      ]
    },
    {
      "cell_type": "code",
      "metadata": {
        "id": "21GwWh5gYUBC",
        "colab_type": "code",
        "colab": {
          "base_uri": "https://localhost:8080/",
          "height": 374
        },
        "outputId": "18094a61-d16d-49ad-c7a5-32eca6374c0b"
      },
      "source": [
        "import this "
      ],
      "execution_count": null,
      "outputs": [
        {
          "output_type": "stream",
          "text": [
            "The Zen of Python, by Tim Peters\n",
            "\n",
            "Beautiful is better than ugly.\n",
            "Explicit is better than implicit.\n",
            "Simple is better than complex.\n",
            "Complex is better than complicated.\n",
            "Flat is better than nested.\n",
            "Sparse is better than dense.\n",
            "Readability counts.\n",
            "Special cases aren't special enough to break the rules.\n",
            "Although practicality beats purity.\n",
            "Errors should never pass silently.\n",
            "Unless explicitly silenced.\n",
            "In the face of ambiguity, refuse the temptation to guess.\n",
            "There should be one-- and preferably only one --obvious way to do it.\n",
            "Although that way may not be obvious at first unless you're Dutch.\n",
            "Now is better than never.\n",
            "Although never is often better than *right* now.\n",
            "If the implementation is hard to explain, it's a bad idea.\n",
            "If the implementation is easy to explain, it may be a good idea.\n",
            "Namespaces are one honking great idea -- let's do more of those!\n"
          ],
          "name": "stdout"
        }
      ]
    },
    {
      "cell_type": "code",
      "metadata": {
        "id": "8-splO7AqDIW",
        "colab_type": "code",
        "colab": {
          "base_uri": "https://localhost:8080/",
          "height": 34
        },
        "outputId": "25dcb336-8a63-487d-8229-1cfcba011c9f"
      },
      "source": [
        "#儲存資訊\n",
        "rating = 8.8\n",
        "#印出資訊\n",
        "print(rating)"
      ],
      "execution_count": null,
      "outputs": [
        {
          "output_type": "stream",
          "text": [
            "8.8\n"
          ],
          "name": "stdout"
        }
      ]
    },
    {
      "cell_type": "code",
      "metadata": {
        "id": "zqve3GM5no5G",
        "colab_type": "code",
        "colab": {
          "base_uri": "https://localhost:8080/",
          "height": 51
        },
        "outputId": "d53935e3-2551-4ab0-b5b0-1f0b9f82fe82"
      },
      "source": [
        "#GOOD\n",
        "cannot_die=\"56 不能亡\"\n",
        "print(cannot_die)\n",
        "#BAD\n",
        "Cannot_Die=\"56 不能亡\"\n",
        "print(Cannot_Die)"
      ],
      "execution_count": null,
      "outputs": [
        {
          "output_type": "stream",
          "text": [
            "56 不能亡\n",
            "56 不能亡\n"
          ],
          "name": "stdout"
        }
      ]
    },
    {
      "cell_type": "code",
      "metadata": {
        "id": "TLoj3D60srB7",
        "colab_type": "code",
        "colab": {
          "base_uri": "https://localhost:8080/",
          "height": 131
        },
        "outputId": "e1bd1ed0-cba6-426d-a87d-3fa2e49a72f9"
      },
      "source": [
        "#Error\n",
        "56 cannot_die=\"56 不能亡\"\n",
        "print(56cannot_die)"
      ],
      "execution_count": null,
      "outputs": [
        {
          "output_type": "error",
          "ename": "SyntaxError",
          "evalue": "ignored",
          "traceback": [
            "\u001b[0;36m  File \u001b[0;32m\"<ipython-input-14-735b8fe7649e>\"\u001b[0;36m, line \u001b[0;32m1\u001b[0m\n\u001b[0;31m    56 cannot_die=\"56 不能亡\"\u001b[0m\n\u001b[0m                ^\u001b[0m\n\u001b[0;31mSyntaxError\u001b[0m\u001b[0;31m:\u001b[0m invalid syntax\n"
          ]
        }
      ]
    },
    {
      "cell_type": "code",
      "metadata": {
        "id": "VFJqoWyms74S",
        "colab_type": "code",
        "colab": {
          "base_uri": "https://localhost:8080/",
          "height": 34
        },
        "outputId": "d49ea20d-cbce-4a4f-d81c-7ff0df930dfd"
      },
      "source": [
        "#abs絕對值\n",
        "#自動印出最後一行函數\n",
        "abs(-1000)\n",
        "abs(-100)"
      ],
      "execution_count": null,
      "outputs": [
        {
          "output_type": "execute_result",
          "data": {
            "text/plain": [
              "100"
            ]
          },
          "metadata": {
            "tags": []
          },
          "execution_count": 16
        }
      ]
    },
    {
      "cell_type": "code",
      "metadata": {
        "id": "7W1tuPqLuj55",
        "colab_type": "code",
        "colab": {
          "base_uri": "https://localhost:8080/",
          "height": 51
        },
        "outputId": "0b77b9f0-3d8c-4241-be89-dbdd29729b1d"
      },
      "source": [
        "print(abs(-100))\n",
        "abs(-5566)"
      ],
      "execution_count": null,
      "outputs": [
        {
          "output_type": "stream",
          "text": [
            "100\n"
          ],
          "name": "stdout"
        },
        {
          "output_type": "execute_result",
          "data": {
            "text/plain": [
              "5566"
            ]
          },
          "metadata": {
            "tags": []
          },
          "execution_count": 17
        }
      ]
    },
    {
      "cell_type": "code",
      "metadata": {
        "id": "BvgYlO6NwDCH",
        "colab_type": "code",
        "colab": {
          "base_uri": "https://localhost:8080/",
          "height": 85
        },
        "outputId": "e668e0ce-701f-4234-e0e0-da64bd99c960"
      },
      "source": [
        "help(print)"
      ],
      "execution_count": null,
      "outputs": [
        {
          "output_type": "stream",
          "text": [
            "No Python documentation found for '你好'.\n",
            "Use help() to get the interactive help utility.\n",
            "Use help(str) for help on the str class.\n",
            "\n"
          ],
          "name": "stdout"
        }
      ]
    },
    {
      "cell_type": "code",
      "metadata": {
        "id": "W3rhWpS6yxY9",
        "colab_type": "code",
        "colab": {
          "base_uri": "https://localhost:8080/",
          "height": 68
        },
        "outputId": "de2339fc-2312-4288-e371-e9d9fcc5bfe3"
      },
      "source": [
        "movie_length=181\n",
        "print(movie_length)\n",
        "movie_rating=8.8\n",
        "print(movie_rating)\n",
        "movie_name=\"Avengers:Endgame\"\n",
        "print(movie_name)"
      ],
      "execution_count": null,
      "outputs": [
        {
          "output_type": "stream",
          "text": [
            "181\n",
            "8.8\n",
            "Avengers:Endgame\n"
          ],
          "name": "stdout"
        }
      ]
    },
    {
      "cell_type": "code",
      "metadata": {
        "id": "9y6MkaH_0mTI",
        "colab_type": "code",
        "colab": {
          "base_uri": "https://localhost:8080/",
          "height": 206
        },
        "outputId": "485c6bbb-71e8-46b7-f2d7-0c452c39b59b"
      },
      "source": [
        "print(type(movie_time))\n",
        "print(type(movie_rating))\n",
        "print(type(movie_title))"
      ],
      "execution_count": null,
      "outputs": [
        {
          "output_type": "error",
          "ename": "NameError",
          "evalue": "ignored",
          "traceback": [
            "\u001b[0;31m---------------------------------------------------------------------------\u001b[0m",
            "\u001b[0;31mNameError\u001b[0m                                 Traceback (most recent call last)",
            "\u001b[0;32m<ipython-input-65-996c599f8a01>\u001b[0m in \u001b[0;36m<module>\u001b[0;34m()\u001b[0m\n\u001b[0;32m----> 1\u001b[0;31m \u001b[0mprint\u001b[0m\u001b[0;34m(\u001b[0m\u001b[0mtype\u001b[0m\u001b[0;34m(\u001b[0m\u001b[0mmovie_time\u001b[0m\u001b[0;34m)\u001b[0m\u001b[0;34m)\u001b[0m\u001b[0;34m\u001b[0m\u001b[0;34m\u001b[0m\u001b[0m\n\u001b[0m\u001b[1;32m      2\u001b[0m \u001b[0mprint\u001b[0m\u001b[0;34m(\u001b[0m\u001b[0mtype\u001b[0m\u001b[0;34m(\u001b[0m\u001b[0mmovie_rating\u001b[0m\u001b[0;34m)\u001b[0m\u001b[0;34m)\u001b[0m\u001b[0;34m\u001b[0m\u001b[0;34m\u001b[0m\u001b[0m\n\u001b[1;32m      3\u001b[0m \u001b[0mprint\u001b[0m\u001b[0;34m(\u001b[0m\u001b[0mtype\u001b[0m\u001b[0;34m(\u001b[0m\u001b[0mmovie_title\u001b[0m\u001b[0;34m)\u001b[0m\u001b[0;34m)\u001b[0m\u001b[0;34m\u001b[0m\u001b[0;34m\u001b[0m\u001b[0m\n",
            "\u001b[0;31mNameError\u001b[0m: name 'movie_time' is not defined"
          ]
        }
      ]
    },
    {
      "cell_type": "markdown",
      "metadata": {
        "id": "wSaWS6UoG4CX",
        "colab_type": "text"
      },
      "source": [
        "##2019-05-25"
      ]
    },
    {
      "cell_type": "code",
      "metadata": {
        "id": "iiNtsOpQG8lX",
        "colab_type": "code",
        "colab": {}
      },
      "source": [
        ""
      ],
      "execution_count": null,
      "outputs": []
    },
    {
      "cell_type": "markdown",
      "metadata": {
        "colab_type": "text",
        "id": "fuDMEn1A5pbm"
      },
      "source": [
        "## 2019-.5-29"
      ]
    },
    {
      "cell_type": "code",
      "metadata": {
        "colab_type": "code",
        "id": "i-KXu6Qs5pbq",
        "colab": {
          "base_uri": "https://localhost:8080/",
          "height": 34
        },
        "outputId": "ab9a96cd-f7b6-4205-c731-b522a5f40e72"
      },
      "source": [
        "if True :\n",
        "  print(\"Hello World\")\n",
        "  "
      ],
      "execution_count": null,
      "outputs": [
        {
          "output_type": "stream",
          "text": [
            "Hello World\n"
          ],
          "name": "stdout"
        }
      ]
    },
    {
      "cell_type": "code",
      "metadata": {
        "colab_type": "code",
        "id": "209tngU45pb2",
        "colab": {
          "base_uri": "https://localhost:8080/",
          "height": 34
        },
        "outputId": "14de5caf-a38c-4a6f-a477-ca712e4ae9a9"
      },
      "source": [
        "if False:\n",
        "  print(\"Hello World!\")\n",
        "print(\"I am on 3rd line.\")  "
      ],
      "execution_count": null,
      "outputs": [
        {
          "output_type": "stream",
          "text": [
            "I am on 3rd line.\n"
          ],
          "name": "stdout"
        }
      ]
    },
    {
      "cell_type": "code",
      "metadata": {
        "colab_type": "code",
        "id": "C9tHISlr5pcG",
        "colab": {
          "base_uri": "https://localhost:8080/",
          "height": 35
        },
        "outputId": "cd02abb3-173e-44ed-d106-0433c3c01344"
      },
      "source": [
        "if  8 == 8:\n",
        "  print(\"eight equals eight\")\n",
        "  "
      ],
      "execution_count": null,
      "outputs": [
        {
          "output_type": "stream",
          "text": [
            "eight equals eight\n"
          ],
          "name": "stdout"
        }
      ]
    },
    {
      "cell_type": "code",
      "metadata": {
        "colab_type": "code",
        "id": "sVFY0HB15pcU",
        "colab": {
          "base_uri": "https://localhost:8080/",
          "height": 85
        },
        "outputId": "db267f1a-6386-4fbd-b768-87f98d04f6f5"
      },
      "source": [
        "movie_title = input(\"Please input a movie:\")\n",
        "movie_rating = input(\"Please input its rating:\")\n",
        "movie_rating = float(movie_rating)\n",
        "\n",
        "if movie_rating > 7:\n",
        "  print(\"{}值得去電影院看!\".format(movie_title))\n",
        "  print(\"記得買爆米花!\")\n",
        "else:\n",
        "   print(\"{}不值得去電影院看!\".format(movie_title))\n",
        "   print(\"把錢省下來吧吃好料!\")"
      ],
      "execution_count": null,
      "outputs": [
        {
          "output_type": "stream",
          "text": [
            "Please input a movie:哥吉拉\n",
            "Please input its rating:10\n",
            "哥吉拉值得去電影院看!\n",
            "記得買爆米花!\n"
          ],
          "name": "stdout"
        }
      ]
    },
    {
      "cell_type": "code",
      "metadata": {
        "colab_type": "code",
        "id": "BjVfCj1Y5pco",
        "colab": {
          "base_uri": "https://localhost:8080/",
          "height": 70
        },
        "outputId": "2abfad1d-8e3a-4b5e-c02e-13abc6e6e5b6"
      },
      "source": [
        "movie_title = input(\"Please input a movie:\")\n",
        "movie_rating = input(\"Please input its rating:\")\n",
        "movie_rating = float(movie_rating)\n",
        "\n",
        "if movie_rating >= 8:\n",
        "  print(\"{}值得去電影院看!\".format(movie_title))\n",
        "elif movie_rating >=7 and movie_rating < 8:\n",
        "  print(\"{}值得一看，但不一定要去電影院!\".format(movie_title))\n",
        "else:\n",
        "   print(\"{}不值得去電影院看!\".format(movie_title))\n",
        "   print(\"把錢省下來吧吃好料!\")  \n",
        "  "
      ],
      "execution_count": null,
      "outputs": [
        {
          "output_type": "stream",
          "text": [
            "Please input a movie:JoBS\n",
            "Please input its rating:7.5\n",
            "JoBS值得一看，但不一定要去電影院!\n"
          ],
          "name": "stdout"
        }
      ]
    },
    {
      "cell_type": "code",
      "metadata": {
        "colab_type": "code",
        "id": "0Akkfgts5pcx",
        "colab": {
          "base_uri": "https://localhost:8080/",
          "height": 52
        },
        "outputId": "08806702-6b57-4445-cfde-92413cbc87de"
      },
      "source": [
        "bmi=input(\"請任意輸入BMI數值\")\n",
        "bmi=float(bmi)\n",
        "\n",
        "if bmi>=18.5 and bmi <=30:\n",
        "  print(\"{}是屬於正常的區間\".format(bmi))"
      ],
      "execution_count": null,
      "outputs": [
        {
          "output_type": "stream",
          "text": [
            "請任意輸入BMI數值20\n",
            "20.0是屬於正常的區間\n"
          ],
          "name": "stdout"
        }
      ]
    },
    {
      "cell_type": "code",
      "metadata": {
        "colab_type": "code",
        "id": "yXa0ZdfZ5pc5",
        "colab": {
          "base_uri": "https://localhost:8080/",
          "height": 52
        },
        "outputId": "46afd82b-a197-4fff-cb36-2cf1f913ebff"
      },
      "source": [
        "bmi = input(\"請任意輸入一個 BMI 數值:\")\n",
        "bmi = float(bmi)\n",
        "\n",
        "if bmi < 18.5 or bmi > 30:\n",
        "    print(\"{}是屬於不正常的區間\".format(bmi))"
      ],
      "execution_count": null,
      "outputs": [
        {
          "output_type": "stream",
          "text": [
            "請任意輸入一個 BMI 數值:15\n",
            "15.0是屬於不正常的區間\n"
          ],
          "name": "stdout"
        }
      ]
    },
    {
      "cell_type": "code",
      "metadata": {
        "colab_type": "code",
        "id": "kb4ntdZm5pdH",
        "colab": {
          "base_uri": "https://localhost:8080/",
          "height": 52
        },
        "outputId": "3bd39dde-5caf-4b40-cfd2-155c792019de"
      },
      "source": [
        "number=input(\"請輸入一個正整數:\")\n",
        "number=int(number)\n",
        "if number%2==0:\n",
        "  print(\"{}是偶數\".format(number))\n",
        "else:\n",
        "  print(\"{}是奇數\".format(number))\n"
      ],
      "execution_count": null,
      "outputs": [
        {
          "output_type": "stream",
          "text": [
            "請輸入一個正整數:7\n",
            "7是奇數\n"
          ],
          "name": "stdout"
        }
      ]
    },
    {
      "cell_type": "code",
      "metadata": {
        "colab_type": "code",
        "id": "MQsuAq7j5pdK",
        "colab": {
          "base_uri": "https://localhost:8080/",
          "height": 70
        },
        "outputId": "4fec91e4-c2cb-48e2-879e-733bae1b782d"
      },
      "source": [
        "#BMI計算機\n",
        "number_high=input(\"請輸入身高(公尺)\")\n",
        "number_weight=input(\"請輸入體重(公斤)\")\n",
        "number_high=float(number_high)\n",
        "number_weight=float(number_weight)\n",
        "if number_weight/number_high**2 < 18.5:\n",
        "   print(\"身高{}公尺,體重{}公斤,屬於Underweight\".format(number_high,number_weight))\n",
        "    \n",
        "elif number_weight/number_high**2>=18.5 and number_high/number_weight**2<25:\n",
        "   print(\"身高{}公尺,體重{}公斤,屬於Normal weight\".format(number_high , number_weight))\n",
        "    \n",
        "elif number_weight/number_high**2>= 25 and number_high/number_weight**2<30:\n",
        "   print(\"身高{}公尺,體重{}公斤,屬於Overweight weight\".format(number_high, number_weight))\n",
        "  \n",
        "else:\n",
        "  print(\"身高{}公尺,體重{}公斤,屬於Obese\".format(number_high, number_weight))\n",
        "  "
      ],
      "execution_count": null,
      "outputs": [
        {
          "output_type": "stream",
          "text": [
            "請輸入身高(公尺)1.76\n",
            "請輸入體重(公斤)71\n",
            "身高1.76公尺,體重71.0公斤,屬於Normal weight\n"
          ],
          "name": "stdout"
        }
      ]
    },
    {
      "cell_type": "code",
      "metadata": {
        "colab_type": "code",
        "id": "QfCTZ8gc5pdP",
        "colab": {
          "base_uri": "https://localhost:8080/",
          "height": 70
        },
        "outputId": "4c7c2057-1363-4020-ed1a-1126bb4c6efa"
      },
      "source": [
        "#老師版\n",
        "weight = float(input(\"請輸入球員的體重(kg):\"))\n",
        "height = float(input(\"請輸入球員的身高(cm):\"))\n",
        "bmi = weight / (height*0.01)**2\n",
        "\n",
        "if bmi > 30:\n",
        "    bmi_index = \"Obese\"\n",
        "elif bmi < 18.5:\n",
        "    bmi_index = \"Underweight\"\n",
        "elif bmi >= 25:\n",
        "    bmi_index = \"Overweight\"\n",
        "else:\n",
        "    bmi_index = \"Normal Weight\"\n",
        "print(\"身高 {} 公分, 體重 {} 公斤, 屬於 {}\".format(height, weight, bmi_index))"
      ],
      "execution_count": null,
      "outputs": [
        {
          "output_type": "stream",
          "text": [
            "請輸入球員的體重(kg):71\n",
            "請輸入球員的身高(cm):176\n",
            "身高 176.0 公分, 體重 71.0 公斤, 屬於 Normal Weight\n"
          ],
          "name": "stdout"
        }
      ]
    },
    {
      "cell_type": "code",
      "metadata": {
        "colab_type": "code",
        "id": "F8wZjo5c5pdV",
        "colab": {}
      },
      "source": [
        "#print1~100\n",
        "i=1\n",
        "while i<101:\n",
        "  print(i)\n",
        "  i+=1"
      ],
      "execution_count": null,
      "outputs": []
    },
    {
      "cell_type": "code",
      "metadata": {
        "colab_type": "code",
        "id": "wgsHcgWV5pdZ",
        "colab": {
          "base_uri": "https://localhost:8080/",
          "height": 52
        },
        "outputId": "676c1429-6e27-4126-a15f-15d346e4a6ab"
      },
      "source": [
        "print(i)\n",
        "print(i < 101)"
      ],
      "execution_count": null,
      "outputs": [
        {
          "output_type": "stream",
          "text": [
            "101\n",
            "False\n"
          ],
          "name": "stdout"
        }
      ]
    },
    {
      "cell_type": "code",
      "metadata": {
        "colab_type": "code",
        "id": "irWK0Cqi5pdc",
        "colab": {
          "base_uri": "https://localhost:8080/",
          "height": 892
        },
        "outputId": "6e281983-06ad-48d0-a8a4-3b9519a2434d"
      },
      "source": [
        "i=2\n",
        "while i<102:\n",
        " print(i)\n",
        " i+=2"
      ],
      "execution_count": null,
      "outputs": [
        {
          "output_type": "stream",
          "text": [
            "2\n",
            "4\n",
            "6\n",
            "8\n",
            "10\n",
            "12\n",
            "14\n",
            "16\n",
            "18\n",
            "20\n",
            "22\n",
            "24\n",
            "26\n",
            "28\n",
            "30\n",
            "32\n",
            "34\n",
            "36\n",
            "38\n",
            "40\n",
            "42\n",
            "44\n",
            "46\n",
            "48\n",
            "50\n",
            "52\n",
            "54\n",
            "56\n",
            "58\n",
            "60\n",
            "62\n",
            "64\n",
            "66\n",
            "68\n",
            "70\n",
            "72\n",
            "74\n",
            "76\n",
            "78\n",
            "80\n",
            "82\n",
            "84\n",
            "86\n",
            "88\n",
            "90\n",
            "92\n",
            "94\n",
            "96\n",
            "98\n",
            "100\n"
          ],
          "name": "stdout"
        }
      ]
    },
    {
      "cell_type": "markdown",
      "metadata": {
        "id": "hMkpz6p3u2Tg",
        "colab_type": "text"
      },
      "source": [
        "##2019-06-01"
      ]
    },
    {
      "cell_type": "code",
      "metadata": {
        "id": "fNZee2KEVgst",
        "colab_type": "code",
        "colab": {}
      },
      "source": [
        "#LIST&DICT最重要"
      ],
      "execution_count": null,
      "outputs": []
    },
    {
      "cell_type": "code",
      "metadata": {
        "id": "TlmlxBgeu_To",
        "colab_type": "code",
        "colab": {}
      },
      "source": [
        "#永不停止\n",
        "while 2 > 1:\n",
        "  print(Endless)"
      ],
      "execution_count": null,
      "outputs": []
    },
    {
      "cell_type": "code",
      "metadata": {
        "id": "Amz0rbavwICF",
        "colab_type": "code",
        "colab": {}
      },
      "source": [
        "num = 1 # 重複的起始值\n",
        "while num <= 100: # while 保留字、任務重複的運行條件\n",
        "    print(num) # 縮排中編寫重複運行的程式\n",
        "    num += 1 # Update\n",
        "#常見的迴圈任務不會只是 print()\n",
        "#計數（Counter）\n",
        "#加總（Summation）"
      ],
      "execution_count": null,
      "outputs": []
    },
    {
      "cell_type": "code",
      "metadata": {
        "id": "XFOSxiqWwzeD",
        "colab_type": "code",
        "colab": {
          "base_uri": "https://localhost:8080/",
          "height": 34
        },
        "outputId": "ebf77bc7-6c90-4a76-dcea-d1c387c24c81"
      },
      "source": [
        "#計數器counter\n",
        "num = 1 # 重複的起始值\n",
        "odd_counter = 0\n",
        "while num <= 100: # while 保留字、任務重複的運行條件\n",
        "    #print(num) # 縮排中編寫重複運行的程式\n",
        "    if num % 2:\n",
        "        odd_counter += 1\n",
        "    num += 1 # Update\n",
        "print(odd_counter)\n"
      ],
      "execution_count": null,
      "outputs": [
        {
          "output_type": "stream",
          "text": [
            "50\n"
          ],
          "name": "stdout"
        }
      ]
    },
    {
      "cell_type": "code",
      "metadata": {
        "id": "BYlgAi8by1JT",
        "colab_type": "code",
        "colab": {
          "base_uri": "https://localhost:8080/",
          "height": 50
        },
        "outputId": "9b15e19c-c192-4962-b785-d381f0463b76"
      },
      "source": [
        "num = 1 # 重複的起始值\n",
        "odds_summation = 0\n",
        "evens_summation = 0\n",
        "while num <= 100: # while 保留字、任務重複的運行條件\n",
        "    #print(num) # 縮排中編寫重複運行的程式\n",
        "    if num % 2:\n",
        "        odds_summation += num\n",
        "    else:\n",
        "        evens_summation += num\n",
        "    num += 1 # Update\n",
        "print(odds_summation)\n",
        "print(evens_summation)"
      ],
      "execution_count": null,
      "outputs": [
        {
          "output_type": "stream",
          "text": [
            "2500\n",
            "2550\n"
          ],
          "name": "stdout"
        }
      ]
    },
    {
      "cell_type": "code",
      "metadata": {
        "id": "qXmdwZ0DzJjn",
        "colab_type": "code",
        "colab": {
          "base_uri": "https://localhost:8080/",
          "height": 890
        },
        "outputId": "4c7c0b58-8fbe-4f0e-c955-e5a8ada469f0"
      },
      "source": [
        "#印出數字間奇數\n",
        "x = int(input(\"請輸入起始整數:\"))\n",
        "y = int(input(\"請輸入終止整數\"))\n",
        "\n",
        "while x <= y:\n",
        "    if x % 2 == 1:\n",
        "        print(x)\n",
        "    x += 1\n",
        "    "
      ],
      "execution_count": null,
      "outputs": [
        {
          "output_type": "stream",
          "text": [
            "請輸入起始整數:1\n",
            "請輸入終止整數100\n",
            "1\n",
            "3\n",
            "5\n",
            "7\n",
            "9\n",
            "11\n",
            "13\n",
            "15\n",
            "17\n",
            "19\n",
            "21\n",
            "23\n",
            "25\n",
            "27\n",
            "29\n",
            "31\n",
            "33\n",
            "35\n",
            "37\n",
            "39\n",
            "41\n",
            "43\n",
            "45\n",
            "47\n",
            "49\n",
            "51\n",
            "53\n",
            "55\n",
            "57\n",
            "59\n",
            "61\n",
            "63\n",
            "65\n",
            "67\n",
            "69\n",
            "71\n",
            "73\n",
            "75\n",
            "77\n",
            "79\n",
            "81\n",
            "83\n",
            "85\n",
            "87\n",
            "89\n",
            "91\n",
            "93\n",
            "95\n",
            "97\n",
            "99\n"
          ],
          "name": "stdout"
        }
      ]
    },
    {
      "cell_type": "code",
      "metadata": {
        "id": "l56p3X5N1_p0",
        "colab_type": "code",
        "colab": {}
      },
      "source": [
        "#印出數字間奇數數量\n",
        "x = int(input(\"請輸入起始整數:\"))\n",
        "y = int(input(\"請輸入終止整數\"))\n",
        "odds_counter = 0\n",
        "odds_summation = 0\n",
        "\n",
        "while x <= y:\n",
        "    if x % 2 == 1:\n",
        "        odds_counter += 1\n",
        "        odds_summation += x\n",
        "    print(\"現在的數字是 {}, 奇數的累計個數為 {}, 奇數的加總為 {}\".format(x, odds_counter, odds_summation))\n",
        "    x += 1\n",
        "#print(odds_counter)"
      ],
      "execution_count": null,
      "outputs": []
    },
    {
      "cell_type": "code",
      "metadata": {
        "id": "Hw07CNZx5LiS",
        "colab_type": "code",
        "colab": {}
      },
      "source": [
        "user_num=int(input(\"請輸入一個正整數:\"))\n",
        "i=1\n",
        "#因數記數factor_counter\n",
        "factor_counter=0\n",
        "while i<= user_num:\n",
        "  if user_num%i == 0:\n",
        "      factor_counter += 1\n",
        "  print(\"現在檢視到{},可整除的因數有{}個\".format(i,factor_counter))\n",
        "  i+=1\n",
        "\n",
        "\n",
        "  \n",
        "  "
      ],
      "execution_count": null,
      "outputs": []
    },
    {
      "cell_type": "code",
      "metadata": {
        "id": "VRRkms-l-TbL",
        "colab_type": "code",
        "colab": {
          "base_uri": "https://localhost:8080/",
          "height": 105
        },
        "outputId": "0567986a-f135-4682-a863-df177dcc6ef5"
      },
      "source": [
        "user_num = int(input(\"請輸入一個正整數:\"))\n",
        "i = 1\n",
        "factor_counter = 0\n",
        "\n",
        "while i <= user_num:\n",
        "    modulo = user_num % i\n",
        "    if modulo == 0:\n",
        "        factor_counter += 1\n",
        "    print(\"現在檢視 {} 除以 {} 餘數為 {} , 可整除的因數有 {} 個\".format(user_num, i, modulo, factor_counter))\n",
        "    if  factor_counter > 2:\n",
        "      break\n",
        "    i += 1\n",
        "if factor_counter == 2:\n",
        "      print(\"{} 是質數\".format(user_num))\n",
        "else:\n",
        "    print(\"{} 不是質數\".format(user_num))"
      ],
      "execution_count": null,
      "outputs": [
        {
          "output_type": "stream",
          "text": [
            "請輸入一個正整數:12\n",
            "現在檢視 12 除以 1 餘數為 0 , 可整除的因數有 1 個\n",
            "現在檢視 12 除以 2 餘數為 0 , 可整除的因數有 2 個\n",
            "現在檢視 12 除以 3 餘數為 0 , 可整除的因數有 3 個\n",
            "12 不是質數\n"
          ],
          "name": "stdout"
        }
      ]
    },
    {
      "cell_type": "code",
      "metadata": {
        "id": "6dS4Y_J9DtkU",
        "colab_type": "code",
        "colab": {}
      },
      "source": [
        "#跳過4\n",
        "for i in range (1,11 ):\n",
        "  if i == 4:\n",
        "    continue\n",
        "  else:\n",
        "    print(i)"
      ],
      "execution_count": null,
      "outputs": []
    },
    {
      "cell_type": "code",
      "metadata": {
        "id": "1yT7TPVnE_Hk",
        "colab_type": "code",
        "colab": {
          "base_uri": "https://localhost:8080/",
          "height": 52
        },
        "outputId": "3ae49173-feb6-4c4f-906f-f6a801b8639c"
      },
      "source": [
        "#資料結構list一對多\n",
        "genre = [\"Action\", \"Adventure\", \"Sci-Fi\"]\n",
        "print(genre)\n",
        "print(type(genre))"
      ],
      "execution_count": null,
      "outputs": [
        {
          "output_type": "stream",
          "text": [
            "['Action', 'Adventure', 'Sci-Fi']\n",
            "<class 'list'>\n"
          ],
          "name": "stdout"
        }
      ]
    },
    {
      "cell_type": "code",
      "metadata": {
        "id": "TkZtsInYG41v",
        "colab_type": "code",
        "colab": {
          "base_uri": "https://localhost:8080/",
          "height": 34
        },
        "outputId": "6573e406-1bd1-4ff9-ea82-3570780d4250"
      },
      "source": [
        "cities = [\"Taipei\", \"Tokyo\", \"New York\", \"London\"]\n",
        "len(cities)"
      ],
      "execution_count": null,
      "outputs": [
        {
          "output_type": "execute_result",
          "data": {
            "text/plain": [
              "4"
            ]
          },
          "metadata": {
            "tags": []
          },
          "execution_count": 63
        }
      ]
    },
    {
      "cell_type": "code",
      "metadata": {
        "id": "5fvAjQnkHzKx",
        "colab_type": "code",
        "colab": {
          "base_uri": "https://localhost:8080/",
          "height": 70
        },
        "outputId": "f5b25a08-9afd-4869-ece8-d164b142dc14"
      },
      "source": [
        "genre = [\"Action\", \"Adventure\"]\n",
        "print(genre)\n",
        "print(len(genre))\n",
        "genre.append(\"Sci-Fi\") #增加\n",
        "print(genre)"
      ],
      "execution_count": null,
      "outputs": [
        {
          "output_type": "stream",
          "text": [
            "['Action', 'Adventure']\n",
            "2\n",
            "['Action', 'Adventure', 'Sci-Fi']\n"
          ],
          "name": "stdout"
        }
      ]
    },
    {
      "cell_type": "code",
      "metadata": {
        "id": "EWjTH3dbIR55",
        "colab_type": "code",
        "colab": {
          "base_uri": "https://localhost:8080/",
          "height": 34
        },
        "outputId": "74d4608c-95a8-40ff-f164-9b3707e36b09"
      },
      "source": [
        "#.pop將最後一個資料丟掉 \n",
        "genre.pop()\n",
        "print(genre)"
      ],
      "execution_count": null,
      "outputs": [
        {
          "output_type": "stream",
          "text": [
            "['Action', 'Adventure']\n"
          ],
          "name": "stdout"
        }
      ]
    },
    {
      "cell_type": "code",
      "metadata": {
        "id": "OoyDJMxWIlYi",
        "colab_type": "code",
        "colab": {
          "base_uri": "https://localhost:8080/",
          "height": 52
        },
        "outputId": "abb00188-1c9a-439b-c5d4-4d21b8828549"
      },
      "source": [
        "# +連結另一個list\n",
        "genre = [\"Action\", \"Adventure\"]\n",
        "print(genre)\n",
        "genre += [\"Sci-Fi\"]\n",
        "print(genre)"
      ],
      "execution_count": null,
      "outputs": [
        {
          "output_type": "stream",
          "text": [
            "['Action', 'Adventure']\n",
            "['Action', 'Adventure', 'Sci-Fi']\n"
          ],
          "name": "stdout"
        }
      ]
    },
    {
      "cell_type": "code",
      "metadata": {
        "id": "KL7DVm9uI9XH",
        "colab_type": "code",
        "colab": {
          "base_uri": "https://localhost:8080/",
          "height": 70
        },
        "outputId": "0b0b0fd3-a603-4955-de22-bcee59956109"
      },
      "source": [
        "# 從開頭數 0開始\n",
        "genre = [\"Action\", \"Adventure\", \"Sci-Fi\"]\n",
        "print(genre[0])\n",
        "print(genre[1])\n",
        "print(genre[2])"
      ],
      "execution_count": null,
      "outputs": [
        {
          "output_type": "stream",
          "text": [
            "Action\n",
            "Adventure\n",
            "Sci-Fi\n"
          ],
          "name": "stdout"
        }
      ]
    },
    {
      "cell_type": "code",
      "metadata": {
        "id": "52w1_9T_JfpK",
        "colab_type": "code",
        "colab": {
          "base_uri": "https://localhost:8080/",
          "height": 70
        },
        "outputId": "d9ee13e6-c86d-47ea-8e26-9e3f8c5cff04"
      },
      "source": [
        "# 從末端數 -1開始\n",
        "genre = [\"Action\", \"Adventure\", \"Sci-Fi\"]\n",
        "print(genre[-1])\n",
        "print(genre[-2])\n",
        "print(genre[-3])"
      ],
      "execution_count": null,
      "outputs": [
        {
          "output_type": "stream",
          "text": [
            "Sci-Fi\n",
            "Adventure\n",
            "Action\n"
          ],
          "name": "stdout"
        }
      ]
    },
    {
      "cell_type": "code",
      "metadata": {
        "id": "5YgjaDm_JnfX",
        "colab_type": "code",
        "colab": {
          "base_uri": "https://localhost:8080/",
          "height": 34
        },
        "outputId": "2b200fc1-9607-48ee-e827-2d5136028f3c"
      },
      "source": [
        "#cast[0:2:1]從0開始到2但不包含2,每隔1個挑出來\n",
        "cast = ['Robert Downey Jr.', 'Chris Evans', 'Mark Ruffalo', 'Chris Hemsworth', 'Scarlett Johansson', 'Jeremy Renner', 'Don Cheadle', 'Paul Rudd', 'Benedict Cumberbatch', 'Chadwick Boseman', 'Brie Larson', 'Tom Holland', 'Karen Gillan', 'Zoe Saldana', 'Evangeline Lilly']\n",
        "cast[0:3:1]"
      ],
      "execution_count": null,
      "outputs": [
        {
          "output_type": "execute_result",
          "data": {
            "text/plain": [
              "['Robert Downey Jr.', 'Chris Evans', 'Mark Ruffalo']"
            ]
          },
          "metadata": {
            "tags": []
          },
          "execution_count": 70
        }
      ]
    },
    {
      "cell_type": "code",
      "metadata": {
        "id": "3fDLkL10Kz8k",
        "colab_type": "code",
        "colab": {}
      },
      "source": [
        "print(cast[0:3])#最後一個不放,預設就是每個隔一個\n",
        "print(cast[:3])\n",
        "print(cast[-3:])\n",
        "print(cast[::2])#每2個挑一個\n",
        "print(cast[::-1])"
      ],
      "execution_count": null,
      "outputs": []
    },
    {
      "cell_type": "code",
      "metadata": {
        "id": "MCydcsZ1LCBK",
        "colab_type": "code",
        "colab": {
          "base_uri": "https://localhost:8080/",
          "height": 52
        },
        "outputId": "eea9cb3b-42fc-4cfc-8bb7-e76589b899b3"
      },
      "source": [
        "#隨堂練習:將cast中飾演奇異博士（Doctor Strange）的演員用 indexing 方式選出來\n",
        "cast = ['Robert Downey Jr.', 'Chris Evans', 'Mark Ruffalo', 'Chris Hemsworth', 'Scarlett Johansson', 'Jeremy Renner', 'Don Cheadle', 'Paul Rudd', 'Benedict Cumberbatch', 'Chadwick Boseman', 'Brie Larson', 'Tom Holland', 'Karen Gillan', 'Zoe Saldana', 'Evangeline Lilly']\n",
        "print(cast[8])\n",
        "cast[-7]"
      ],
      "execution_count": null,
      "outputs": [
        {
          "output_type": "stream",
          "text": [
            "Benedict Cumberbatch\n"
          ],
          "name": "stdout"
        },
        {
          "output_type": "execute_result",
          "data": {
            "text/plain": [
              "'Benedict Cumberbatch'"
            ]
          },
          "metadata": {
            "tags": []
          },
          "execution_count": 83
        }
      ]
    },
    {
      "cell_type": "code",
      "metadata": {
        "id": "qlpg-mYMOJjI",
        "colab_type": "code",
        "colab": {
          "base_uri": "https://localhost:8080/",
          "height": 34
        },
        "outputId": "2eb28256-2ef3-4564-fe4b-14797033ae92"
      },
      "source": [
        "#參考 cast將第一集復仇者聯盟的六位英雄選出來\n",
        "print(\"初代復仇者有:{}\".format(cast[0:6]))"
      ],
      "execution_count": null,
      "outputs": [
        {
          "output_type": "stream",
          "text": [
            "初代復仇者有:['Robert Downey Jr.', 'Chris Evans', 'Mark Ruffalo', 'Chris Hemsworth', 'Scarlett Johansson', 'Jeremy Renner']\n"
          ],
          "name": "stdout"
        }
      ]
    },
    {
      "cell_type": "code",
      "metadata": {
        "id": "GCUglHFYQdIQ",
        "colab_type": "code",
        "colab": {
          "base_uri": "https://localhost:8080/",
          "height": 34
        },
        "outputId": "dfd88dff-1693-427f-e1f1-a3fefe39d8dd"
      },
      "source": [
        "print(cast[:6])"
      ],
      "execution_count": null,
      "outputs": [
        {
          "output_type": "stream",
          "text": [
            "['Robert Downey Jr.', 'Chris Evans', 'Mark Ruffalo', 'Chris Hemsworth', 'Scarlett Johansson', 'Jeremy Renner']\n"
          ],
          "name": "stdout"
        }
      ]
    },
    {
      "cell_type": "code",
      "metadata": {
        "id": "rOvcvmeaQnSS",
        "colab_type": "code",
        "colab": {
          "base_uri": "https://localhost:8080/",
          "height": 52
        },
        "outputId": "2126dd9c-9da3-4272-a80d-2a73a6f24a04"
      },
      "source": [
        "#以 () 搭配 , 將多筆資料收納到一個 tuple 中\n",
        "genre = (\"Action\", \"Adventure\", \"Sci-Fi\")\n",
        "print(genre)\n",
        "print(type(genre))"
      ],
      "execution_count": null,
      "outputs": [
        {
          "output_type": "stream",
          "text": [
            "('Action', 'Adventure', 'Sci-Fi')\n",
            "<class 'tuple'>\n"
          ],
          "name": "stdout"
        }
      ]
    },
    {
      "cell_type": "code",
      "metadata": {
        "id": "56wfUlnkRHDl",
        "colab_type": "code",
        "colab": {
          "base_uri": "https://localhost:8080/",
          "height": 70
        },
        "outputId": "bb62734d-d268-4051-e1d7-671b1589a040"
      },
      "source": [
        "genre = (\"Action\", \"Adventure\", \"Sci-Fi\")\n",
        "# len()\n",
        "print(len(genre))\n",
        "# indexing\n",
        "print(genre[1])\n",
        "# slicing\n",
        "print(genre[:2])"
      ],
      "execution_count": null,
      "outputs": [
        {
          "output_type": "stream",
          "text": [
            "3\n",
            "Adventure\n",
            "('Action', 'Adventure')\n"
          ],
          "name": "stdout"
        }
      ]
    },
    {
      "cell_type": "code",
      "metadata": {
        "id": "wLMPxxFoRS24",
        "colab_type": "code",
        "colab": {
          "base_uri": "https://localhost:8080/",
          "height": 34
        },
        "outputId": "6f3c8a59-c9f8-4b39-d54d-f0fe317da59e"
      },
      "source": [
        "# 更動內容\n",
        "genre = [\"Action\", \"Adventure\", \"sci-fi\"]\n",
        "genre[2] = \"Sci-Fi\"#s改大寫S\n",
        "print(genre)"
      ],
      "execution_count": null,
      "outputs": [
        {
          "output_type": "stream",
          "text": [
            "['Action', 'Adventure', 'Sci-Fi']\n"
          ],
          "name": "stdout"
        }
      ]
    },
    {
      "cell_type": "code",
      "metadata": {
        "id": "02M358HUSABv",
        "colab_type": "code",
        "colab": {}
      },
      "source": [
        "genre = (\"Action\", \"Adventure\", \"sci-fi\")\n",
        "print(genre)\n",
        "genre[-1] = \"Sci-Fi\"\n",
        "#print(genre)\n",
        "#錯誤 tuple不支援更改"
      ],
      "execution_count": null,
      "outputs": []
    },
    {
      "cell_type": "code",
      "metadata": {
        "id": "sLvUsMnzSZoE",
        "colab_type": "code",
        "colab": {}
      },
      "source": [
        "genre = (\"Action\", \"Adventure\")\n",
        "genre.append(\"Sci-Fi\")\n",
        "#print(genre)"
      ],
      "execution_count": null,
      "outputs": []
    },
    {
      "cell_type": "code",
      "metadata": {
        "id": "K20FlJOgS8ey",
        "colab_type": "code",
        "colab": {
          "base_uri": "https://localhost:8080/",
          "height": 52
        },
        "outputId": "ee2a9008-1216-4023-91e6-e3e51d55fc29"
      },
      "source": [
        "#Python 函數有多個輸出會以 tuple 的資料結構回傳\n",
        "x = 0.25\n",
        "print(x.as_integer_ratio())\n",
        "print(type(x.as_integer_ratio()))\n"
      ],
      "execution_count": null,
      "outputs": [
        {
          "output_type": "stream",
          "text": [
            "(1, 4)\n",
            "<class 'tuple'>\n"
          ],
          "name": "stdout"
        }
      ]
    },
    {
      "cell_type": "code",
      "metadata": {
        "id": "EEGTTcDdJaVL",
        "colab_type": "code",
        "colab": {}
      },
      "source": [
        "#從 1 印到 100如果是 3 的倍數印出 \"Fizz\"如果是 5 的倍數印出 \"Buzz\"如果是 15 的倍數印出 \"Fizz Buzz\"其他情況印出該正整數即可\n",
        "num=1\n",
        "for num in range(1,101) :\n",
        "    if num%3==0 and num%5 ==0 and num % 15==0:\n",
        "        print(\"Fizz Buzz\")\n",
        "    elif num % 5 ==0:\n",
        "        print(\"Buzz\")\n",
        "    elif num % 3 == 0:\n",
        "        print(\"Fizz\")\n",
        "    else  :\n",
        "        print(num)\n",
        "num +=1"
      ],
      "execution_count": null,
      "outputs": []
    },
    {
      "cell_type": "code",
      "metadata": {
        "id": "GM-IDtnxi7dD",
        "colab_type": "code",
        "colab": {}
      },
      "source": [
        "#FIZZ-BUZZ with while\n",
        "\n",
        "num=1\n",
        "while (num < 101):\n",
        "    if (num % 5) == 0 and (num % 3) == 0:\n",
        "        print (\"FizzBuzz\")\n",
        "        num= num +1\n",
        "    elif (num % 3) == 0:\n",
        "        print (\"Fizz\")\n",
        "        num = num + 1\n",
        "    elif (num % 5) == 0:\n",
        "        print (\"Buzz\")\n",
        "        num = num +1\n",
        "    else:\n",
        "        print (num)\n",
        "        num = num + 1"
      ],
      "execution_count": null,
      "outputs": []
    },
    {
      "cell_type": "code",
      "metadata": {
        "id": "S35f7bnFioNS",
        "colab_type": "code",
        "colab": {
          "base_uri": "https://localhost:8080/",
          "height": 242
        },
        "outputId": "82d263a3-64a7-489b-da30-8aad0e2853eb"
      },
      "source": [
        "#作業：介於 x 到 y 之間的質數個數為何（包含 x 與 y 假如它們是奇數）\n",
        "\n",
        "x=1\n",
        "count = 0\n",
        "n = int(input('Input a number: '))  # 得到輸入值 n。\n",
        "\n",
        "for i in range(2, n + 1):   # 產生 2 到 n 的數字。\n",
        "    i_is_prime = is_prime(i)    # 判斷 i 是否為質數。\n",
        "    if i_is_prime:              # 如果是，印出來。\n",
        "        print(i)"
      ],
      "execution_count": null,
      "outputs": [
        {
          "output_type": "error",
          "ename": "NameError",
          "evalue": "ignored",
          "traceback": [
            "\u001b[0;31m---------------------------------------------------------------------------\u001b[0m",
            "\u001b[0;31mNameError\u001b[0m                                 Traceback (most recent call last)",
            "\u001b[0;32m<ipython-input-15-5efd3221263e>\u001b[0m in \u001b[0;36m<module>\u001b[0;34m()\u001b[0m\n\u001b[1;32m      2\u001b[0m \u001b[0mcount\u001b[0m \u001b[0;34m=\u001b[0m \u001b[0;36m0\u001b[0m\u001b[0;34m\u001b[0m\u001b[0;34m\u001b[0m\u001b[0m\n\u001b[1;32m      3\u001b[0m \u001b[0;32mfor\u001b[0m \u001b[0mi\u001b[0m \u001b[0;32min\u001b[0m \u001b[0mrange\u001b[0m \u001b[0;34m(\u001b[0m\u001b[0;36m2\u001b[0m\u001b[0;34m,\u001b[0m\u001b[0;36m13\u001b[0m\u001b[0;34m)\u001b[0m\u001b[0;34m:\u001b[0m\u001b[0;34m\u001b[0m\u001b[0;34m\u001b[0m\u001b[0m\n\u001b[0;32m----> 4\u001b[0;31m   \u001b[0;32mif\u001b[0m \u001b[0;34m(\u001b[0m\u001b[0ma\u001b[0m \u001b[0;34m%\u001b[0m \u001b[0mi\u001b[0m \u001b[0;34m==\u001b[0m \u001b[0;36m0\u001b[0m\u001b[0;34m)\u001b[0m\u001b[0;34m:\u001b[0m\u001b[0;34m\u001b[0m\u001b[0;34m\u001b[0m\u001b[0m\n\u001b[0m\u001b[1;32m      5\u001b[0m     \u001b[0mcount\u001b[0m\u001b[0;34m+=\u001b[0m\u001b[0;36m1\u001b[0m\u001b[0;34m\u001b[0m\u001b[0;34m\u001b[0m\u001b[0m\n\u001b[1;32m      6\u001b[0m     \u001b[0;32mbreak\u001b[0m\u001b[0;34m\u001b[0m\u001b[0;34m\u001b[0m\u001b[0m\n",
            "\u001b[0;31mNameError\u001b[0m: name 'a' is not defined"
          ]
        }
      ]
    },
    {
      "cell_type": "markdown",
      "metadata": {
        "id": "2Gq2aUd1Vn4A",
        "colab_type": "text"
      },
      "source": [
        "##2019-06-05"
      ]
    },
    {
      "cell_type": "code",
      "metadata": {
        "id": "hl_S1pK4VsHC",
        "colab_type": "code",
        "colab": {}
      },
      "source": [
        "the_avengers = {\n",
        "    \"Iron Man\": \"Tony Stark\",\n",
        "    \"Captain America\": \"Steve Rogers\",\n",
        "    \"Hulk\": \"Bruce Banner\",\n",
        "    \"Thor\": \"Thor\",\n",
        "    \"Black Widow\": \"Natasha Romanoff\",\n",
        "    \"Hawkeye\": \"Clint Barton\"\n",
        "}\n",
        "print(the_avengers)\n",
        "print(type(the_avengers))"
      ],
      "execution_count": null,
      "outputs": []
    },
    {
      "cell_type": "code",
      "metadata": {
        "id": "UYMxkl-TXgdC",
        "colab_type": "code",
        "colab": {}
      },
      "source": [
        "print(the_avengers.keys())\n",
        "print(the_avengers.values())\n",
        "print(the_avengers.items())"
      ],
      "execution_count": null,
      "outputs": []
    },
    {
      "cell_type": "code",
      "metadata": {
        "id": "BuWt5XdvYR1g",
        "colab_type": "code",
        "colab": {}
      },
      "source": [
        "print(the_avengers[\"Iron Man\"])\n",
        "print(the_avengers[\"Captain America\"])\n",
        "print(the_avengers[\"Hulk\"])\n",
        "print(the_avengers[\"Thor\"])\n",
        "print(the_avengers[\"Black Widow\"])\n",
        "print(the_avengers[\"Hawkeye\"])"
      ],
      "execution_count": null,
      "outputs": []
    },
    {
      "cell_type": "code",
      "metadata": {
        "id": "nVJZBaELY5nk",
        "colab_type": "code",
        "colab": {
          "base_uri": "https://localhost:8080/",
          "height": 50
        },
        "outputId": "cb316061-7466-4243-ee16-db7cf73e077d"
      },
      "source": [
        "primes = {2, 3, 5, 7, 11, 13}\n",
        "print(primes)\n",
        "print(type(primes))"
      ],
      "execution_count": null,
      "outputs": [
        {
          "output_type": "stream",
          "text": [
            "{2, 3, 5, 7, 11, 13}\n",
            "<class 'set'>\n"
          ],
          "name": "stdout"
        }
      ]
    },
    {
      "cell_type": "code",
      "metadata": {
        "id": "Sk8AuVwXZMh4",
        "colab_type": "code",
        "colab": {
          "base_uri": "https://localhost:8080/",
          "height": 34
        },
        "outputId": "316a9f38-fa39-42ae-c1dd-cea487665d8c"
      },
      "source": [
        "##set 是 Python 儲存獨一值的資料結構\n",
        "#以 {} 搭配 , 將資料收納到 set 之中。\n",
        "primes = {2, 3, 3, 3, 5, 5}\n",
        "print(primes)"
      ],
      "execution_count": null,
      "outputs": [
        {
          "output_type": "stream",
          "text": [
            "{2, 3, 5}\n"
          ],
          "name": "stdout"
        }
      ]
    },
    {
      "cell_type": "code",
      "metadata": {
        "id": "7rAha9ZUZ6zf",
        "colab_type": "code",
        "colab": {
          "base_uri": "https://localhost:8080/",
          "height": 84
        },
        "outputId": "fc8f9975-e7e0-4ce0-d5d0-6ac587629dc8"
      },
      "source": [
        "#set 能運行集合運算: | 聯集& 交集- 差異^ 對稱差異\n",
        "primes = {2, 3, 5, 7, 11, 13}\n",
        "odds = {1, 3, 5, 7, 9, 11, 13}\n",
        "print(primes | odds)\n",
        "print(primes & odds)\n",
        "print(primes - odds)#primes有但odds沒有  減法\n",
        "print(primes ^ odds)"
      ],
      "execution_count": null,
      "outputs": [
        {
          "output_type": "stream",
          "text": [
            "{1, 2, 3, 5, 7, 9, 11, 13}\n",
            "{3, 5, 7, 11, 13}\n",
            "{2}\n",
            "{1, 2, 9}\n"
          ],
          "name": "stdout"
        }
      ]
    },
    {
      "cell_type": "code",
      "metadata": {
        "id": "mShCXfXGazoA",
        "colab_type": "code",
        "colab": {
          "base_uri": "https://localhost:8080/",
          "height": 84
        },
        "outputId": "f43095a0-9993-4fd5-f063-14fad8d3deeb"
      },
      "source": [
        "# 可以巢狀\n",
        "avengers_endgame = {\n",
        "    \"rating\": 8.8,\n",
        "    \"genre\": [\"Action\", \"Adventure\", \"Sci-Fi\"],\n",
        "    \"heroes\": {\n",
        "        \"Iron Man\": \"Tony Stark\",\n",
        "        \"Captain America\": \"Steve Rogers\",\n",
        "        \"Hulk\": \"Bruce Banner\",\n",
        "        \"Thor\": \"Thor\",\n",
        "        \"Black Widow\": \"Natasha Romanoff\",\n",
        "        \"Hawkeye\": \"Clint Barton\"\n",
        "    }\n",
        "}\n",
        "\n",
        "print(avengers_endgame.keys())\n",
        "print(type(avengers_endgame[\"rating\"]))\n",
        "print(type(avengers_endgame[\"genre\"]))\n",
        "print(type(avengers_endgame[\"heroes\"]))"
      ],
      "execution_count": null,
      "outputs": [
        {
          "output_type": "stream",
          "text": [
            "dict_keys(['rating', 'genre', 'heroes'])\n",
            "<class 'float'>\n",
            "<class 'list'>\n",
            "<class 'dict'>\n"
          ],
          "name": "stdout"
        }
      ]
    },
    {
      "cell_type": "code",
      "metadata": {
        "id": "ovGNssQxcoQ8",
        "colab_type": "code",
        "colab": {
          "base_uri": "https://localhost:8080/",
          "height": 84
        },
        "outputId": "fea76545-b993-4f78-be09-2f546c780230"
      },
      "source": [
        "list_len = len(avengers_endgame[\"genre\"])\n",
        "print(list_len)\n",
        "i = 0\n",
        "while i < list_len:\n",
        "    print(avengers_endgame[\"genre\"][i])\n",
        "    i += 1"
      ],
      "execution_count": null,
      "outputs": [
        {
          "output_type": "stream",
          "text": [
            "3\n",
            "Action\n",
            "Adventure\n",
            "Sci-Fi\n"
          ],
          "name": "stdout"
        }
      ]
    },
    {
      "cell_type": "code",
      "metadata": {
        "id": "ct7IsDtjdtxJ",
        "colab_type": "code",
        "colab": {}
      },
      "source": [
        "#作業:印出 6 個英雄的暱稱與角色名\n",
        "avengers_endgame = {\n",
        "    \"rating\": 8.8,\n",
        "    \"genre\": [\"Action\", \"Adventure\", \"Sci-Fi\"],\n",
        "    \"heroes\": {\n",
        "        \"Iron Man\": \"Tony Stark\",\n",
        "        \"Captain America\": \"Steve Rogers\",\n",
        "        \"Hulk\": \"Bruce Banner\",\n",
        "        \"Thor\": \"Thor\",\n",
        "        \"Black Widow\": \"Natasha Romanoff\",\n",
        "        \"Hawkeye\": \"Clint Barton\"\n",
        "    }\n",
        "}\n",
        "\n"
      ],
      "execution_count": null,
      "outputs": []
    },
    {
      "cell_type": "code",
      "metadata": {
        "id": "9hQkVRawfgKA",
        "colab_type": "code",
        "colab": {
          "base_uri": "https://localhost:8080/",
          "height": 67
        },
        "outputId": "43512b6a-8a8b-4c88-d0c9-291816df615a"
      },
      "source": [
        "# tuple is iterable\n",
        "genre = (\"Action\", \"Adventure\", \"Sci-Fi\")\n",
        "i = 0\n",
        "while i < len(genre):\n",
        "    print(genre[i])\n",
        "    i += 1"
      ],
      "execution_count": null,
      "outputs": [
        {
          "output_type": "stream",
          "text": [
            "Action\n",
            "Adventure\n",
            "Sci-Fi\n"
          ],
          "name": "stdout"
        }
      ]
    },
    {
      "cell_type": "code",
      "metadata": {
        "id": "zoAMYBt1f53C",
        "colab_type": "code",
        "colab": {
          "base_uri": "https://localhost:8080/",
          "height": 118
        },
        "outputId": "3de58639-abaf-4780-c238-ee403fc51e60"
      },
      "source": [
        "# dict is iterable\n",
        "heroes = {\n",
        "    \"Iron Man\": \"Tony Stark\",\n",
        "    \"Captain America\": \"Steve Rogers\",\n",
        "    \"Hulk\": \"Bruce Banner\",\n",
        "    \"Thor\": \"Thor\",\n",
        "    \"Black Widow\": \"Natasha Romanoff\",\n",
        "    \"Hawkeye\": \"Clint Barton\"\n",
        "}\n",
        "dict_keys = list(heroes.keys())\n",
        "i = 0\n",
        "while i < len(heroes):\n",
        "    k = dict_keys[i]\n",
        "    print(heroes[k])\n",
        "    i += 1"
      ],
      "execution_count": null,
      "outputs": [
        {
          "output_type": "stream",
          "text": [
            "Tony Stark\n",
            "Steve Rogers\n",
            "Bruce Banner\n",
            "Thor\n",
            "Natasha Romanoff\n",
            "Clint Barton\n"
          ],
          "name": "stdout"
        }
      ]
    },
    {
      "cell_type": "code",
      "metadata": {
        "id": "MA619qC_gAM5",
        "colab_type": "code",
        "colab": {
          "base_uri": "https://localhost:8080/",
          "height": 101
        },
        "outputId": "db43350e-4633-4bf1-ee1f-a5d1e90c4115"
      },
      "source": [
        "iron_man = \"Tony Stark\"\n",
        "print(iron_man[0])\n",
        "print(iron_man[-1])\n",
        "print(iron_man[:4])\n",
        "print(iron_man[-5:])\n",
        "print(iron_man[0])"
      ],
      "execution_count": null,
      "outputs": [
        {
          "output_type": "stream",
          "text": [
            "T\n",
            "k\n",
            "Tony\n",
            "Stark\n",
            "T\n"
          ],
          "name": "stdout"
        }
      ]
    },
    {
      "cell_type": "code",
      "metadata": {
        "id": "WECj7px1g12I",
        "colab_type": "code",
        "colab": {
          "base_uri": "https://localhost:8080/",
          "height": 185
        },
        "outputId": "bb62099f-3a4d-45e8-cc19-3d7b2a47e58f"
      },
      "source": [
        "# str is also iterable!\n",
        "iron_man = \"Tony Stark\"\n",
        "i = 0\n",
        "while i < len(iron_man):\n",
        "    print(iron_man[i])#一次只傳一個字\n",
        "    i += 1"
      ],
      "execution_count": null,
      "outputs": [
        {
          "output_type": "stream",
          "text": [
            "T\n",
            "o\n",
            "n\n",
            "y\n",
            " \n",
            "S\n",
            "t\n",
            "a\n",
            "r\n",
            "k\n"
          ],
          "name": "stdout"
        }
      ]
    },
    {
      "cell_type": "code",
      "metadata": {
        "id": "ZSvCSFanhHaz",
        "colab_type": "code",
        "colab": {}
      },
      "source": [
        "#除了 str 其他資料型態是不可迭代的int,float,bool\n",
        "my_int = 5566\n",
        "my_float = 55.66\n",
        "my_bool = True\n",
        "\n",
        "print(my_int[0])\n",
        "print(my_float[0])\n",
        "print(my_bool[0])\n",
        "#錯誤"
      ],
      "execution_count": null,
      "outputs": []
    },
    {
      "cell_type": "code",
      "metadata": {
        "id": "F_fpc93cmsEk",
        "colab_type": "code",
        "colab": {
          "base_uri": "https://localhost:8080/",
          "height": 34
        },
        "outputId": "dbdeca70-ba98-4570-90aa-0d951ac00d15"
      },
      "source": [
        "list(range(10))"
      ],
      "execution_count": null,
      "outputs": [
        {
          "output_type": "execute_result",
          "data": {
            "text/plain": [
              "[0, 1, 2, 3, 4, 5, 6, 7, 8, 9]"
            ]
          },
          "metadata": {
            "tags": []
          },
          "execution_count": 34
        }
      ]
    },
    {
      "cell_type": "code",
      "metadata": {
        "id": "jNpAAf6bm8Pk",
        "colab_type": "code",
        "colab": {
          "base_uri": "https://localhost:8080/",
          "height": 54
        },
        "outputId": "4d716a91-e233-4428-a981-6db14cd07ad2"
      },
      "source": [
        "print(list(range(1,101)))"
      ],
      "execution_count": null,
      "outputs": [
        {
          "output_type": "stream",
          "text": [
            "[1, 2, 3, 4, 5, 6, 7, 8, 9, 10, 11, 12, 13, 14, 15, 16, 17, 18, 19, 20, 21, 22, 23, 24, 25, 26, 27, 28, 29, 30, 31, 32, 33, 34, 35, 36, 37, 38, 39, 40, 41, 42, 43, 44, 45, 46, 47, 48, 49, 50, 51, 52, 53, 54, 55, 56, 57, 58, 59, 60, 61, 62, 63, 64, 65, 66, 67, 68, 69, 70, 71, 72, 73, 74, 75, 76, 77, 78, 79, 80, 81, 82, 83, 84, 85, 86, 87, 88, 89, 90, 91, 92, 93, 94, 95, 96, 97, 98, 99, 100]\n"
          ],
          "name": "stdout"
        }
      ]
    },
    {
      "cell_type": "code",
      "metadata": {
        "id": "nLIgK0nOnRKP",
        "colab_type": "code",
        "colab": {
          "base_uri": "https://localhost:8080/",
          "height": 857
        },
        "outputId": "1b69c16a-0dc2-4fcc-8327-e6c28537f85d"
      },
      "source": [
        "for i in range(2, 101, 2):\n",
        "    print(i)"
      ],
      "execution_count": null,
      "outputs": [
        {
          "output_type": "stream",
          "text": [
            "2\n",
            "4\n",
            "6\n",
            "8\n",
            "10\n",
            "12\n",
            "14\n",
            "16\n",
            "18\n",
            "20\n",
            "22\n",
            "24\n",
            "26\n",
            "28\n",
            "30\n",
            "32\n",
            "34\n",
            "36\n",
            "38\n",
            "40\n",
            "42\n",
            "44\n",
            "46\n",
            "48\n",
            "50\n",
            "52\n",
            "54\n",
            "56\n",
            "58\n",
            "60\n",
            "62\n",
            "64\n",
            "66\n",
            "68\n",
            "70\n",
            "72\n",
            "74\n",
            "76\n",
            "78\n",
            "80\n",
            "82\n",
            "84\n",
            "86\n",
            "88\n",
            "90\n",
            "92\n",
            "94\n",
            "96\n",
            "98\n",
            "100\n"
          ],
          "name": "stdout"
        }
      ]
    },
    {
      "cell_type": "code",
      "metadata": {
        "id": "KS3kTuN8oHm7",
        "colab_type": "code",
        "colab": {}
      },
      "source": [
        "for i in range(1, 101):\n",
        "    if i % 2:\n",
        "        print(i) # odds"
      ],
      "execution_count": null,
      "outputs": []
    },
    {
      "cell_type": "code",
      "metadata": {
        "id": "ev62xPx8oRjA",
        "colab_type": "code",
        "colab": {
          "base_uri": "https://localhost:8080/",
          "height": 34
        },
        "outputId": "a33232a1-cebe-4685-d0f1-e2501e57b0ad"
      },
      "source": [
        "# 計數\n",
        "int_cnt = 0\n",
        "for i in range(1, 101):\n",
        "    int_cnt += 1\n",
        "print(int_cnt)"
      ],
      "execution_count": null,
      "outputs": [
        {
          "output_type": "stream",
          "text": [
            "100\n"
          ],
          "name": "stdout"
        }
      ]
    },
    {
      "cell_type": "code",
      "metadata": {
        "id": "RwD8aQXLoUVX",
        "colab_type": "code",
        "colab": {
          "base_uri": "https://localhost:8080/",
          "height": 34
        },
        "outputId": "1263e033-d54b-4075-fe1a-aba702e36c08"
      },
      "source": [
        "# 加總\n",
        "summation = 0\n",
        "for i in range(1, 101):\n",
        "    summation += i\n",
        "print(summation)"
      ],
      "execution_count": null,
      "outputs": [
        {
          "output_type": "stream",
          "text": [
            "5050\n"
          ],
          "name": "stdout"
        }
      ]
    },
    {
      "cell_type": "code",
      "metadata": {
        "id": "CUqM8YdHoZvV",
        "colab_type": "code",
        "colab": {
          "base_uri": "https://localhost:8080/",
          "height": 134
        },
        "outputId": "15afc523-2c1f-4e73-92ee-4df70aaddc14"
      },
      "source": [
        "#印出介於 x 到 y 之間的奇數（包含 x 與 y 假如它們是奇數）\n",
        "x=int(input(\"請輸入X:\"))\n",
        "y=int(input(\"請輸入Y:\"))\n",
        "for i in range(x,y+1):#終止值需加一\n",
        "    if i%2 :  #i除2餘1  因為布林值所以可省列  也可加==1\n",
        "        print(i)\n"
      ],
      "execution_count": null,
      "outputs": [
        {
          "output_type": "stream",
          "text": [
            "請輸入X:10\n",
            "請輸入Y:20\n",
            "11\n",
            "13\n",
            "15\n",
            "17\n",
            "19\n"
          ],
          "name": "stdout"
        }
      ]
    },
    {
      "cell_type": "code",
      "metadata": {
        "id": "qsU-kmk2rCP1",
        "colab_type": "code",
        "colab": {}
      },
      "source": [
        "#承接上題，介於 x 到 y 之間的奇數有幾個（包含 x 與 y 假如它們是奇數）\n",
        "x = int(input(\"請輸入起始值:\"))\n",
        "y = int(input(\"請輸入終止值:\"))\n",
        "\n",
        "#odds_counter = 0\n",
        "odds = []\n",
        "for i in range(x, y+1):\n",
        "    if i % 2==1:\n",
        "        #odds_counter += 1\n",
        "        odds.append(i)\n",
        "print(\"介於 {} 和 {} 之間的奇數有 {} 個\".format(x, y, len(odds)))\n",
        "print(\"這些奇數是\", odds)"
      ],
      "execution_count": null,
      "outputs": []
    },
    {
      "cell_type": "code",
      "metadata": {
        "id": "lhPoUkWNueiD",
        "colab_type": "code",
        "colab": {}
      },
      "source": [
        "#承接上題，介於 x 到 y 之間的奇數加總為何（包含 x 與 y 假如它們是奇數)\n",
        "\n",
        "x=int(input(\"請輸入起始值:\"))\n",
        "y=int(input(\"請輸入終止值:\"))\n",
        "\n",
        "odds_summation=0\n",
        "for i in range(x,y+1):\n",
        "    if i%2:\n",
        "        odds_summation +=i\n",
        "print(\"介於 {} 和 {} 之間的奇數總合為{}\".format(x, y, odds_summation))\n",
        "print(\"這些奇數是\", odds)        \n",
        "        "
      ],
      "execution_count": null,
      "outputs": []
    },
    {
      "cell_type": "code",
      "metadata": {
        "id": "JvjTKCZFv0IB",
        "colab_type": "code",
        "colab": {
          "base_uri": "https://localhost:8080/",
          "height": 84
        },
        "outputId": "f07ae9bb-456a-421f-c029-ec67c5f458a0"
      },
      "source": [
        "x = int(input(\"請輸入起始值:\"))\n",
        "y = int(input(\"請輸入終止值:\"))\n",
        "\n",
        "#odds_counter = 0\n",
        "odds = []\n",
        "#odds_summation = 0\n",
        "for i in range(x, y+1):\n",
        "    if i % 2:\n",
        "        #odds_counter += 1\n",
        "        odds.append(i)\n",
        "        #odds_summation += i\n",
        "print(\"介於 {} 和 {} 之間的奇數總和為 {}\".format(x, y, sum(odds)))\n",
        "print(\"這些奇數是\", odds)"
      ],
      "execution_count": null,
      "outputs": [
        {
          "output_type": "stream",
          "text": [
            "請輸入起始值:20\n",
            "請輸入終止值:30\n",
            "介於 20 和 30 之間的奇數總和為 125\n",
            "這些奇數是 [21, 23, 25, 27, 29]\n"
          ],
          "name": "stdout"
        }
      ]
    },
    {
      "cell_type": "code",
      "metadata": {
        "id": "vVj7br9kydQ3",
        "colab_type": "code",
        "colab": {
          "base_uri": "https://localhost:8080/",
          "height": 50
        },
        "outputId": "a66f6d9b-3ea1-4c59-bdfc-db380768342f"
      },
      "source": [
        "#判斷質數在大於 1 的正整數中，除了 1 和該數自身外，無法被其他正整數整除的數字。\n",
        "x = int(input(\"請輸入一個正整數:\"))\n",
        "\n",
        "divisors = []\n",
        "for i in range(1, x+1):\n",
        "    if x % i == 0:\n",
        "        divisors.append(i)\n",
        "if len(divisors) == 2:\n",
        "    print(True)\n",
        "else:\n",
        "    print(False)"
      ],
      "execution_count": null,
      "outputs": [
        {
          "output_type": "stream",
          "text": [
            "請輸入一個正整數:10\n",
            "False\n"
          ],
          "name": "stdout"
        }
      ]
    },
    {
      "cell_type": "code",
      "metadata": {
        "id": "BPMUaTz9zPcJ",
        "colab_type": "code",
        "colab": {}
      },
      "source": [
        "x = int(input(\"請輸入一個正整數:\"))\n",
        "\n",
        "divisors = []\n",
        "for i in range(1, x+1):\n",
        "    if x % i == 0:\n",
        "        divisors.append(i)\n",
        "    if len(divisors) > 2:\n",
        "        break\n",
        "print(len(divisors) == 2)"
      ],
      "execution_count": null,
      "outputs": []
    },
    {
      "cell_type": "code",
      "metadata": {
        "id": "UVHgnOYP0I4p",
        "colab_type": "code",
        "colab": {
          "base_uri": "https://localhost:8080/",
          "height": 34
        },
        "outputId": "669cdf4a-1af4-4b40-dff3-e88927138193"
      },
      "source": [
        "# Conventionalt常規用法\n",
        "squared_list = []\n",
        "for i in range(10):\n",
        "    squared_list.append(i**2)\n",
        "print(squared_list)"
      ],
      "execution_count": null,
      "outputs": [
        {
          "output_type": "stream",
          "text": [
            "[0, 1, 4, 9, 16, 25, 36, 49, 64, 81]\n"
          ],
          "name": "stdout"
        }
      ]
    },
    {
      "cell_type": "code",
      "metadata": {
        "id": "WQGDnC9J0eDA",
        "colab_type": "code",
        "colab": {
          "base_uri": "https://localhost:8080/",
          "height": 34
        },
        "outputId": "7d0eb614-4b08-4cae-c6ec-ef4c905f51c1"
      },
      "source": [
        "# List comprehension\n",
        "squared_list = [i**2 for i in range(10)]\n",
        "print(squared_list)"
      ],
      "execution_count": null,
      "outputs": [
        {
          "output_type": "stream",
          "text": [
            "[0, 1, 4, 9, 16, 25, 36, 49, 64, 81]\n"
          ],
          "name": "stdout"
        }
      ]
    },
    {
      "cell_type": "code",
      "metadata": {
        "id": "eUVtr-tV1OCD",
        "colab_type": "code",
        "colab": {
          "base_uri": "https://localhost:8080/",
          "height": 34
        },
        "outputId": "d6fcec59-7639-4337-d21a-f3846f814d14"
      },
      "source": [
        "# List comprehension with if\n",
        "odds = [i for i in range(10) if i % 2]\n",
        "print(odds)"
      ],
      "execution_count": null,
      "outputs": [
        {
          "output_type": "stream",
          "text": [
            "[1, 3, 5, 7, 9]\n"
          ],
          "name": "stdout"
        }
      ]
    },
    {
      "cell_type": "code",
      "metadata": {
        "id": "rd-AtsvI1Tgm",
        "colab_type": "code",
        "colab": {
          "base_uri": "https://localhost:8080/",
          "height": 34
        },
        "outputId": "c6655bdc-8aa0-4010-b705-3f37669128e2"
      },
      "source": [
        "odds=[i for i in range(10) if i%2]\n",
        "print(odds)"
      ],
      "execution_count": null,
      "outputs": [
        {
          "output_type": "stream",
          "text": [
            "[1, 3, 5, 7, 9]\n"
          ],
          "name": "stdout"
        }
      ]
    },
    {
      "cell_type": "code",
      "metadata": {
        "id": "Cfct-CM21u_9",
        "colab_type": "code",
        "colab": {
          "base_uri": "https://localhost:8080/",
          "height": 34
        },
        "outputId": "5741830b-a945-49d2-b179-8abb4e6973cc"
      },
      "source": [
        "is_odds=[]\n",
        "for i in range(10):\n",
        "    if i%2:\n",
        "        is_odds.append(True)\n",
        "    else:\n",
        "        is_odds.append(False)\n",
        "print(is_odds)        "
      ],
      "execution_count": null,
      "outputs": [
        {
          "output_type": "stream",
          "text": [
            "[False, True, False, True, False, True, False, True, False, True]\n"
          ],
          "name": "stdout"
        }
      ]
    },
    {
      "cell_type": "code",
      "metadata": {
        "id": "kVOv5Bzp2Vu5",
        "colab_type": "code",
        "colab": {
          "base_uri": "https://localhost:8080/",
          "height": 34
        },
        "outputId": "24701e33-aef2-44b2-ef25-e9890646f501"
      },
      "source": [
        "is_odds = [True if i % 2 else False for i in range(10)]\n",
        "print(is_odds)"
      ],
      "execution_count": null,
      "outputs": [
        {
          "output_type": "stream",
          "text": [
            "[False, True, False, True, False, True, False, True, False, True]\n"
          ],
          "name": "stdout"
        }
      ]
    },
    {
      "cell_type": "code",
      "metadata": {
        "id": "ivxBpYZd2uEE",
        "colab_type": "code",
        "colab": {
          "base_uri": "https://localhost:8080/",
          "height": 34
        },
        "outputId": "76d50e69-485b-44df-90fa-368b7f60dbcf"
      },
      "source": [
        "#將復仇者聯盟系列電影評等大於 8 分的挑選出來\n",
        "avengers_movie_ratings = [8.1, 7.3, 8.5, 8.8]\n",
        "good_movie=[]\n",
        "for i in  avengers_movie_ratings:\n",
        "    if i > 8:\n",
        "        good_movie.append(i)\n",
        "\n",
        "print(good_movie)    "
      ],
      "execution_count": null,
      "outputs": [
        {
          "output_type": "stream",
          "text": [
            "[8.1, 8.5, 8.8]\n"
          ],
          "name": "stdout"
        }
      ]
    },
    {
      "cell_type": "code",
      "metadata": {
        "id": "xd9wHBAb5J-D",
        "colab_type": "code",
        "colab": {
          "base_uri": "https://localhost:8080/",
          "height": 34
        },
        "outputId": "d7d0c37d-932a-4878-e981-87b237d15b3e"
      },
      "source": [
        "good_movie = [i for i in avengers_movie_ratings if i >= 8]\n",
        "print(good_movie)"
      ],
      "execution_count": null,
      "outputs": [
        {
          "output_type": "stream",
          "text": [
            "[8.1, 8.5, 8.8]\n"
          ],
          "name": "stdout"
        }
      ]
    },
    {
      "cell_type": "code",
      "metadata": {
        "id": "U6YGQQWI6bk8",
        "colab_type": "code",
        "colab": {
          "base_uri": "https://localhost:8080/",
          "height": 118
        },
        "outputId": "f3b1a906-26ac-40fe-ddf5-391c926f9902"
      },
      "source": [
        "heroes = {\n",
        "\n",
        "    \"Iron Man\": \"Tony Stark\",\n",
        "\n",
        "    \"Captain America\": \"Steve Rogers\",\n",
        "\n",
        "    \"Hulk\": \"Bruce Banner\",\n",
        "\n",
        "    \"Thor\": \"Thor\",\n",
        "\n",
        "    \"Black Widow\": \"Natasha Romanoff\",\n",
        "\n",
        "    \"Hawkeye\": \"Clint Barton\"\n",
        "\n",
        "}\n",
        "for hero in heroes:\n",
        "    print(hero)"
      ],
      "execution_count": null,
      "outputs": [
        {
          "output_type": "stream",
          "text": [
            "Iron Man\n",
            "Captain America\n",
            "Hulk\n",
            "Thor\n",
            "Black Widow\n",
            "Hawkeye\n"
          ],
          "name": "stdout"
        }
      ]
    },
    {
      "cell_type": "code",
      "metadata": {
        "id": "VajcOIzw6mGf",
        "colab_type": "code",
        "colab": {}
      },
      "source": [
        "for k in heroes.keys():\n",
        "    print(k)"
      ],
      "execution_count": null,
      "outputs": []
    },
    {
      "cell_type": "code",
      "metadata": {
        "id": "LBpVYMbj6z1h",
        "colab_type": "code",
        "colab": {}
      },
      "source": [
        "for v in heroes.values():\n",
        "    print(v)"
      ],
      "execution_count": null,
      "outputs": []
    },
    {
      "cell_type": "code",
      "metadata": {
        "id": "5GHqjQ5268K1",
        "colab_type": "code",
        "colab": {
          "base_uri": "https://localhost:8080/",
          "height": 118
        },
        "outputId": "2f2332f2-4260-4522-91c7-0f5e7cbdf95d"
      },
      "source": [
        "for k, v in heroes.items():\n",
        "    print(k, \":\", v)"
      ],
      "execution_count": null,
      "outputs": [
        {
          "output_type": "stream",
          "text": [
            "Iron Man : Tony Stark\n",
            "Captain America : Steve Rogers\n",
            "Hulk : Bruce Banner\n",
            "Thor : Thor\n",
            "Black Widow : Natasha Romanoff\n",
            "Hawkeye : Clint Barton\n"
          ],
          "name": "stdout"
        }
      ]
    },
    {
      "cell_type": "markdown",
      "metadata": {
        "id": "q3NnBkc9YNFC",
        "colab_type": "text"
      },
      "source": [
        "##2019-06-12"
      ]
    },
    {
      "cell_type": "code",
      "metadata": {
        "id": "qArvguHRYQQ6",
        "colab_type": "code",
        "colab": {
          "base_uri": "https://localhost:8080/",
          "height": 85
        },
        "outputId": "432edebb-57a8-4c5c-a65f-f34e3bef9a54"
      },
      "source": [
        "avengers = [\"The Avengers\", \"Avengers: Age of Ultron\", \"Avengers: Infinity War\", \"Avengers: Endgame\"]\n",
        "for movie_title in avengers:\n",
        "    print(movie_title)"
      ],
      "execution_count": null,
      "outputs": [
        {
          "output_type": "stream",
          "text": [
            "The Avengers\n",
            "Avengers: Age of Ultron\n",
            "Avengers: Infinity War\n",
            "Avengers: Endgame\n"
          ],
          "name": "stdout"
        }
      ]
    },
    {
      "cell_type": "code",
      "metadata": {
        "id": "As2Va_ONZUzm",
        "colab_type": "code",
        "colab": {
          "base_uri": "https://localhost:8080/",
          "height": 85
        },
        "outputId": "040bd8a6-0a6a-480f-e927-bbf80411ee2c"
      },
      "source": [
        "for i in range(len(avengers)):\n",
        "    print(i)"
      ],
      "execution_count": null,
      "outputs": [
        {
          "output_type": "stream",
          "text": [
            "0\n",
            "1\n",
            "2\n",
            "3\n"
          ],
          "name": "stdout"
        }
      ]
    },
    {
      "cell_type": "code",
      "metadata": {
        "id": "q7vva1R7ZkxL",
        "colab_type": "code",
        "colab": {
          "base_uri": "https://localhost:8080/",
          "height": 85
        },
        "outputId": "554f8328-23e9-485f-ede1-0e58e3d8886b"
      },
      "source": [
        "for i in range(len(avengers)):\n",
        "    print(i,avengers[i])"
      ],
      "execution_count": null,
      "outputs": [
        {
          "output_type": "stream",
          "text": [
            "0 The Avengers\n",
            "1 Avengers: Age of Ultron\n",
            "2 Avengers: Infinity War\n",
            "3 Avengers: Endgame\n"
          ],
          "name": "stdout"
        }
      ]
    },
    {
      "cell_type": "code",
      "metadata": {
        "id": "L0-r61alZ5Lp",
        "colab_type": "code",
        "colab": {
          "base_uri": "https://localhost:8080/",
          "height": 85
        },
        "outputId": "2b00cc31-075b-489d-cc66-17f606ac8a57"
      },
      "source": [
        "for i,movie_title in enumerate(avengers):\n",
        "    #enumerate() 可以在迴圈中取用iterable迭代中的索引值和資料\n",
        "    print(i,movie_title)"
      ],
      "execution_count": null,
      "outputs": [
        {
          "output_type": "stream",
          "text": [
            "0 The Avengers\n",
            "1 Avengers: Age of Ultron\n",
            "2 Avengers: Infinity War\n",
            "3 Avengers: Endgame\n"
          ],
          "name": "stdout"
        }
      ]
    },
    {
      "cell_type": "code",
      "metadata": {
        "id": "n4F4r6WnaKiX",
        "colab_type": "code",
        "colab": {
          "base_uri": "https://localhost:8080/",
          "height": 119
        },
        "outputId": "cc979bbc-1292-43a2-d040-05de10da1695"
      },
      "source": [
        "heroes = {\n",
        "\n",
        "    \"Iron Man\": \"Tony Stark\",\n",
        "\n",
        "    \"Captain America\": \"Steve Rogers\",\n",
        "\n",
        "    \"Hulk\": \"Bruce Banner\",\n",
        "\n",
        "    \"Thor\": \"Thor\",\n",
        "\n",
        "    \"Black Widow\": \"Natasha Romanoff\",\n",
        "\n",
        "    \"Hawkeye\": \"Clint Barton\"\n",
        "\n",
        "}\n",
        "for k,v in heroes.items():\n",
        "    print(k,\"|\",v)"
      ],
      "execution_count": null,
      "outputs": [
        {
          "output_type": "stream",
          "text": [
            "Iron Man | Tony Stark\n",
            "Captain America | Steve Rogers\n",
            "Hulk | Bruce Banner\n",
            "Thor | Thor\n",
            "Black Widow | Natasha Romanoff\n",
            "Hawkeye | Clint Barton\n"
          ],
          "name": "stdout"
        }
      ]
    },
    {
      "cell_type": "code",
      "metadata": {
        "id": "lHHoFT6Uau08",
        "colab_type": "code",
        "colab": {
          "base_uri": "https://localhost:8080/",
          "height": 54
        },
        "outputId": "47027cac-2d41-4681-ba45-916765b1a8ca"
      },
      "source": [
        "heroes.items()"
      ],
      "execution_count": null,
      "outputs": [
        {
          "output_type": "execute_result",
          "data": {
            "text/plain": [
              "dict_items([('Iron Man', 'Tony Stark'), ('Captain America', 'Steve Rogers'), ('Hulk', 'Bruce Banner'), ('Thor', 'Thor'), ('Black Widow', 'Natasha Romanoff'), ('Hawkeye', 'Clint Barton')])"
            ]
          },
          "metadata": {
            "tags": []
          },
          "execution_count": 7
        }
      ]
    },
    {
      "cell_type": "code",
      "metadata": {
        "id": "-qWk2KV1a9R3",
        "colab_type": "code",
        "colab": {
          "base_uri": "https://localhost:8080/",
          "height": 85
        },
        "outputId": "27b7c984-c35a-4c05-a68e-8058cec71eae"
      },
      "source": [
        "list(enumerate(avengers))"
      ],
      "execution_count": null,
      "outputs": [
        {
          "output_type": "execute_result",
          "data": {
            "text/plain": [
              "[(0, 'The Avengers'),\n",
              " (1, 'Avengers: Age of Ultron'),\n",
              " (2, 'Avengers: Infinity War'),\n",
              " (3, 'Avengers: Endgame')]"
            ]
          },
          "metadata": {
            "tags": []
          },
          "execution_count": 10
        }
      ]
    },
    {
      "cell_type": "code",
      "metadata": {
        "id": "orfBLD9tblnE",
        "colab_type": "code",
        "colab": {
          "base_uri": "https://localhost:8080/",
          "height": 85
        },
        "outputId": "45f0b3b9-554f-4b94-989d-ba7258a56587"
      },
      "source": [
        "#隨堂練習標記復仇者聯盟的上映順序\n",
        "# 第1 部上映的復仇者聯盟是：The Avengers\n",
        "#第 2 部上映的復仇者聯盟是：Avengers: Age of Ultron\n",
        "# 第 3 部上映的復仇者聯盟是：Avengers: Infinity War\n",
        "#第 4 部上映的復仇者聯盟是：Avengers: Endgame\n",
        "#v,val=value值\n",
        "avengers = [\"The Avengers\", \"Avengers: Age of Ultron\", \"Avengers: Infinity War\", \"Avengers: Endgame\"]\n",
        "for i, val in enumerate(avengers):\n",
        "    print(\"第 {} 部上映的復仇者聯盟是：{}\".format(i+1, val))\n",
        "             "
      ],
      "execution_count": null,
      "outputs": [
        {
          "output_type": "stream",
          "text": [
            "第 1 部上映的復仇者聯盟是：The Avengers\n",
            "第 2 部上映的復仇者聯盟是：Avengers: Age of Ultron\n",
            "第 3 部上映的復仇者聯盟是：Avengers: Infinity War\n",
            "第 4 部上映的復仇者聯盟是：Avengers: Endgame\n"
          ],
          "name": "stdout"
        }
      ]
    },
    {
      "cell_type": "code",
      "metadata": {
        "id": "xy2TFQapevws",
        "colab_type": "code",
        "colab": {
          "base_uri": "https://localhost:8080/",
          "height": 85
        },
        "outputId": "ac92be08-46df-43ab-e55a-12e25bd184bf"
      },
      "source": [
        "#zip() 可以在迴圈中同時取用多個 iterables 資料\n",
        "#標記復仇者聯盟的上映順序與年份\n",
        "## 第 1 部復仇者聯盟：The Avengers 上映年份為 2012\n",
        "## 第 2 部復仇者聯盟：Avengers: Age of Ultron 上映年份為 2015\n",
        "## 第 3 部復仇者聯盟：Avengers: Infinity War 上映年份為 2018\n",
        "## 第 4 部復仇者聯盟：Avengers: Endgame 上映年份為 2019\n",
        "years = [2012, 2015, 2018, 2019]\n",
        "avengers = [\"The Avengers\", \"Avengers: Age of Ultron\", \"Avengers: Infinity War\", \"Avengers: Endgame\"]\n",
        "for y, m in zip(years, avengers):\n",
        "    print(\"{}: {}\".format(y, m))"
      ],
      "execution_count": null,
      "outputs": [
        {
          "output_type": "stream",
          "text": [
            "2012: The Avengers\n",
            "2015: Avengers: Age of Ultron\n",
            "2018: Avengers: Infinity War\n",
            "2019: Avengers: Endgame\n"
          ],
          "name": "stdout"
        }
      ]
    },
    {
      "cell_type": "code",
      "metadata": {
        "id": "3j9z84ACfqoX",
        "colab_type": "code",
        "colab": {
          "base_uri": "https://localhost:8080/",
          "height": 85
        },
        "outputId": "67e36505-8892-4a29-d007-5023888bf57a"
      },
      "source": [
        "for i , movie_title , yr in zip(range(1,5),avengers,years):\n",
        "    print(\"第{}部復仇者聯盟:{}上映年份為{}\".format(i,movie_title,yr))"
      ],
      "execution_count": null,
      "outputs": [
        {
          "output_type": "stream",
          "text": [
            "第1部復仇者聯盟:The Avengers上映年份為2012\n",
            "第2部復仇者聯盟:Avengers: Age of Ultron上映年份為2015\n",
            "第3部復仇者聯盟:Avengers: Infinity War上映年份為2018\n",
            "第4部復仇者聯盟:Avengers: Endgame上映年份為2019\n"
          ],
          "name": "stdout"
        }
      ]
    },
    {
      "cell_type": "code",
      "metadata": {
        "id": "ezbKaRq3kIA7",
        "colab_type": "code",
        "colab": {
          "base_uri": "https://localhost:8080/",
          "height": 34
        },
        "outputId": "b2d1225d-9e0f-4472-db7a-a42d36065797"
      },
      "source": [
        "#從 1 到 1000 的整數中隨機抽樣，記錄第幾次可以抽到 56 的倍數（難）\n",
        "from random import sample#引入從randonm函數庫載入sample函數\n",
        "\n",
        "sampling_times = 0\n",
        "while True:\n",
        "    sampled_num=sample(range(1,1001),1)[0]#從1~1000取1個數字印出首位數字\n",
        "    sampling_times+=1\n",
        "    if sampled_num%56 ==0:\n",
        "        break\n",
        "print(sampling_times)"
      ],
      "execution_count": null,
      "outputs": [
        {
          "output_type": "stream",
          "text": [
            "30\n"
          ],
          "name": "stdout"
        }
      ]
    },
    {
      "cell_type": "code",
      "metadata": {
        "id": "mMpGcUaJrlGt",
        "colab_type": "code",
        "colab": {
          "base_uri": "https://localhost:8080/",
          "height": 71
        },
        "outputId": "94da1313-3f91-4a84-c70c-046ac3c495a6"
      },
      "source": [
        "#印出隨機抽到的數字,印出第幾次才抽到56的倍數\n",
        "from random import sample\n",
        "\n",
        "#sampling_times = 0\n",
        "sampling_results = []\n",
        "while True:\n",
        "    sampled_num = sample(range(1, 1001), 1)[0]\n",
        "    #print(sampled_num)\n",
        "    sampling_results.append(sampled_num)\n",
        "    sampling_times += 1\n",
        "    if sampled_num % 56 == 0:\n",
        "        break\n",
        "print(sampling_results)\n",
        "print(len(sampling_results))"
      ],
      "execution_count": null,
      "outputs": [
        {
          "output_type": "stream",
          "text": [
            "[830, 776, 821, 530, 793, 176, 568, 528, 216, 773, 127, 790, 415, 961, 263, 499, 975, 437, 11, 415, 141, 108, 993, 917, 703, 625, 212, 879, 816, 260, 805, 526, 708, 472, 297, 465, 842, 394, 972, 221, 313, 552, 244, 399, 720, 16, 343, 360, 490, 888, 866, 553, 936, 213, 951, 538, 580, 489, 550, 793, 948, 622, 900, 629, 944, 932, 340, 650, 126, 963, 270, 197, 890, 554, 994, 102, 114, 176, 69, 381, 997, 843, 748, 688, 340, 687, 349, 391, 791, 670, 448]\n",
            "91\n"
          ],
          "name": "stdout"
        }
      ]
    },
    {
      "cell_type": "code",
      "metadata": {
        "id": "9FsndiNKsAki",
        "colab_type": "code",
        "colab": {}
      },
      "source": [
        "#作業計算字串英文字母的母音（a, e, i, o, u）個數\n",
        "#執行範例\n",
        "#如果使用者輸入 'azcbobobegghakl'，應該印出：\n",
        "## 請輸入一個英文字串: azcbobobegghakl\n",
        "## Number of vowels: 5"
      ],
      "execution_count": null,
      "outputs": []
    },
    {
      "cell_type": "code",
      "metadata": {
        "id": "uhKAtgB-sTpC",
        "colab_type": "code",
        "colab": {}
      },
      "source": [
        "##作業計算字串裡面 'bob' 出現的次數\n",
        "##如果使用者輸入 'azcbobobegghakl'，應該印出：\n",
        "## 請輸入一個英文字串: azcbobobegghakl\n",
        "## Number of times bob occurs is: 2"
      ],
      "execution_count": null,
      "outputs": []
    },
    {
      "cell_type": "code",
      "metadata": {
        "id": "b4DiddpPsobY",
        "colab_type": "code",
        "colab": {}
      },
      "source": [
        "#計算 range(1, 101) 的樣本標準差\n",
        "##執行範例\n",
        "## range(1, 101) 的樣本標準差為 29.0115\n",
        "##已知長度用for"
      ],
      "execution_count": null,
      "outputs": []
    },
    {
      "cell_type": "code",
      "metadata": {
        "id": "JNBbVrQYxY0M",
        "colab_type": "code",
        "colab": {}
      },
      "source": [
        "#自訂 abs() 函數\n",
        "# Define\n",
        "def get_abs(x):\n",
        "    \"\"\"\n",
        "    取得 x 的絕對值。\n",
        "    \"\"\"\n",
        "    if x < 0:\n",
        "        return -x#return做輸出\n",
        "    else:\n",
        "        return x\n",
        "    "
      ],
      "execution_count": null,
      "outputs": []
    },
    {
      "cell_type": "code",
      "metadata": {
        "id": "IMdM920MyM_k",
        "colab_type": "code",
        "colab": {
          "base_uri": "https://localhost:8080/",
          "height": 102
        },
        "outputId": "f075e1bb-3918-4da9-ac46-da7f7307b115"
      },
      "source": [
        "help(get_abs)"
      ],
      "execution_count": null,
      "outputs": [
        {
          "output_type": "stream",
          "text": [
            "Help on function get_abs in module __main__:\n",
            "\n",
            "get_abs(x)\n",
            "    取得 x 的絕對值。\n",
            "\n"
          ],
          "name": "stdout"
        }
      ]
    },
    {
      "cell_type": "code",
      "metadata": {
        "id": "sToWNp9QySf4",
        "colab_type": "code",
        "colab": {
          "base_uri": "https://localhost:8080/",
          "height": 34
        },
        "outputId": "e4fa2d2b-db6d-44a2-b9ec-572daddabade"
      },
      "source": [
        "get_abs(-7788)"
      ],
      "execution_count": null,
      "outputs": [
        {
          "output_type": "execute_result",
          "data": {
            "text/plain": [
              "7788"
            ]
          },
          "metadata": {
            "tags": []
          },
          "execution_count": 48
        }
      ]
    },
    {
      "cell_type": "code",
      "metadata": {
        "id": "WFUPw4NoyuY_",
        "colab_type": "code",
        "colab": {}
      },
      "source": [
        "#作一個函數 get_fahrenheit() 將攝氏氣溫轉換為華氏氣溫\n",
        "#Fahrenheit-Celsius×9/5+32\n",
        "def get_fahrenheit(x):\n",
        "    \"\"\"\n",
        "    將攝氏氣溫轉換為華氏氣溫\n",
        "    \"\"\"\n",
        "    return x*9/5+32\n",
        "        \n",
        "    "
      ],
      "execution_count": null,
      "outputs": []
    },
    {
      "cell_type": "code",
      "metadata": {
        "id": "o39ki2le0LI3",
        "colab_type": "code",
        "colab": {
          "base_uri": "https://localhost:8080/",
          "height": 102
        },
        "outputId": "3414b1e5-ab2f-4643-b4ce-1c01450d5f6e"
      },
      "source": [
        "help(get_fahrenheit)"
      ],
      "execution_count": null,
      "outputs": [
        {
          "output_type": "stream",
          "text": [
            "Help on function get_fahrenheit in module __main__:\n",
            "\n",
            "get_fahrenheit(x)\n",
            "    將攝氏氣溫轉換為華氏氣溫\n",
            "\n"
          ],
          "name": "stdout"
        }
      ]
    },
    {
      "cell_type": "code",
      "metadata": {
        "id": "VdXlahJi2KWF",
        "colab_type": "code",
        "colab": {}
      },
      "source": [
        "#寫作一個函數 get_bmi()計算 BMI 身體質量指數 \n",
        "def get_bmi(x,y):\n",
        "    \"\"\"計算 BMI 身體質量指數\n",
        "    x=公斤\n",
        "    y=公分\n",
        "    \"\"\"   \n",
        "    bmi=x/(y*0.01)**2\n",
        "    return bmi"
      ],
      "execution_count": null,
      "outputs": []
    },
    {
      "cell_type": "code",
      "metadata": {
        "id": "K6VjjpXi3Pwm",
        "colab_type": "code",
        "colab": {
          "base_uri": "https://localhost:8080/",
          "height": 34
        },
        "outputId": "fc7cec8e-d307-4f99-d173-46abfc94a0c5"
      },
      "source": [
        "get_bmi(71,176)"
      ],
      "execution_count": null,
      "outputs": [
        {
          "output_type": "execute_result",
          "data": {
            "text/plain": [
              "22.920971074380166"
            ]
          },
          "metadata": {
            "tags": []
          },
          "execution_count": 64
        }
      ]
    },
    {
      "cell_type": "code",
      "metadata": {
        "id": "Qnu-Op584E3q",
        "colab_type": "code",
        "colab": {}
      },
      "source": [
        "#寫作一個函數 is_prime() 判斷輸入是否為質數\n",
        "def is_prime(x):\n",
        "    \"\"\"\n",
        "    Decide if x is a prime number or not.\n",
        "    \"\"\"\n",
        "    factors_cnt = 0 #因數數量為0\n",
        "    for i in range(1, x+1):\n",
        "        if x % i == 0:\n",
        "            factors_cnt += 1\n",
        "        if factors_cnt > 2:\n",
        "            break\n",
        "    if factors_cnt == 2:\n",
        "        return \"{} 是質數\".format(x)\n",
        "    else:\n",
        "        return \"{} 不是質數\".format(x)"
      ],
      "execution_count": null,
      "outputs": []
    },
    {
      "cell_type": "code",
      "metadata": {
        "id": "EZo7m1dY58n2",
        "colab_type": "code",
        "colab": {
          "base_uri": "https://localhost:8080/",
          "height": 34
        },
        "outputId": "19100692-aab0-4bd7-f66b-0d6c8652389b"
      },
      "source": [
        "is_prime(17)"
      ],
      "execution_count": null,
      "outputs": [
        {
          "output_type": "execute_result",
          "data": {
            "text/plain": [
              "'17 是質數'"
            ]
          },
          "metadata": {
            "tags": []
          },
          "execution_count": 83
        }
      ]
    },
    {
      "cell_type": "code",
      "metadata": {
        "id": "DaB0So6C8fVR",
        "colab_type": "code",
        "colab": {}
      },
      "source": [
        "#寫作一個函數 get_circle_area() 計算圓形面積\n",
        "#Circle Area=πr2\n",
        "def get_circle_area(r):\n",
        "    \"\"\"計算圓形面積\"\"\"\n",
        "    pi=3.14159\n",
        "    return pi*r**2#平方計算較快不須括號,要刮也可"
      ],
      "execution_count": null,
      "outputs": []
    },
    {
      "cell_type": "code",
      "metadata": {
        "id": "S1Kw2sok88Pz",
        "colab_type": "code",
        "colab": {
          "base_uri": "https://localhost:8080/",
          "height": 34
        },
        "outputId": "acc0f90c-4651-49e2-fa34-cf846d3ce5e6"
      },
      "source": [
        "get_circle_area(10)"
      ],
      "execution_count": null,
      "outputs": [
        {
          "output_type": "execute_result",
          "data": {
            "text/plain": [
              "314.159"
            ]
          },
          "metadata": {
            "tags": []
          },
          "execution_count": 87
        }
      ]
    },
    {
      "cell_type": "markdown",
      "metadata": {
        "id": "-h-WWOky03wC",
        "colab_type": "text"
      },
      "source": [
        "##2019-06-15"
      ]
    },
    {
      "cell_type": "code",
      "metadata": {
        "id": "1OTZEOZN06jA",
        "colab_type": "code",
        "colab": {}
      },
      "source": [
        "def get_circle_metrics(r, is_area):\n",
        "    \"\"\"\n",
        "    Get circle metrics based on given radius   #半徑\n",
        "    is_area:(default)True if user wants to know area    #預設,默認\n",
        "    is_area: False if user wants to know perimeter #周長\n",
        "    \"\"\"\n",
        "    pi=3.14159\n",
        "    area=pi*r**2      #TRUE圓面積\n",
        "    perimeter=2*pi*r  #False圓周長\n",
        "    if is_area:\n",
        "        return area\n",
        "    else:\n",
        "        return perimeter"
      ],
      "execution_count": null,
      "outputs": []
    },
    {
      "cell_type": "code",
      "metadata": {
        "id": "nPs5htSo3y7o",
        "colab_type": "code",
        "colab": {}
      },
      "source": [
        "help(get_circle_metrics)"
      ],
      "execution_count": null,
      "outputs": []
    },
    {
      "cell_type": "code",
      "metadata": {
        "id": "y0Ln7fKg3VE2",
        "colab_type": "code",
        "colab": {}
      },
      "source": [
        "get_circle_metrics(3,True)"
      ],
      "execution_count": null,
      "outputs": []
    },
    {
      "cell_type": "code",
      "metadata": {
        "id": "DbBI-zz83czR",
        "colab_type": "code",
        "colab": {}
      },
      "source": [
        "get_circle_metrics(3,False)"
      ],
      "execution_count": null,
      "outputs": []
    },
    {
      "cell_type": "code",
      "metadata": {
        "id": "Z2PGTeE34X57",
        "colab_type": "code",
        "colab": {}
      },
      "source": [
        "def get_circle_metrics2(r):\n",
        "    \"\"\"\n",
        "    Get all circle metrics based on given radius   #半徑\n",
        "    is_area:(default)True if user wants to know area    #預設,默認\n",
        "    is_area: False if user wants to know perimeter #周長\n",
        "    \"\"\"\n",
        "    pi=3.14159\n",
        "    area=pi*r**2      #TRUE圓面積\n",
        "    perimeter=2*pi*r  #False圓周長\n",
        "    return area, perimeter"
      ],
      "execution_count": null,
      "outputs": []
    },
    {
      "cell_type": "code",
      "metadata": {
        "id": "1uh49wBi5JZH",
        "colab_type": "code",
        "colab": {
          "base_uri": "https://localhost:8080/",
          "height": 52
        },
        "outputId": "cdf46b1a-06aa-4a62-e58e-bc41aabbe998"
      },
      "source": [
        "print(get_circle_metrics2(3))\n",
        "print(type(get_circle_metrics2(3)))"
      ],
      "execution_count": null,
      "outputs": [
        {
          "output_type": "stream",
          "text": [
            "(28.27431, 18.849539999999998)\n",
            "<class 'tuple'>\n"
          ],
          "name": "stdout"
        }
      ]
    },
    {
      "cell_type": "code",
      "metadata": {
        "id": "wTs3Y3Wl5kWz",
        "colab_type": "code",
        "colab": {
          "base_uri": "https://localhost:8080/",
          "height": 52
        },
        "outputId": "0de92327-49ed-41e4-f8c3-08296a877db2"
      },
      "source": [
        "cirlce_metrics = get_circle_metrics2(3)\n",
        "circle_area = cirlce_metrics[0]\n",
        "circle_perimeter = cirlce_metrics[1]\n",
        "print(circle_area)\n",
        "print(circle_perimeter)"
      ],
      "execution_count": null,
      "outputs": [
        {
          "output_type": "stream",
          "text": [
            "28.27431\n",
            "18.849539999999998\n"
          ],
          "name": "stdout"
        }
      ]
    },
    {
      "cell_type": "code",
      "metadata": {
        "id": "IUt6bUfp58aL",
        "colab_type": "code",
        "colab": {
          "base_uri": "https://localhost:8080/",
          "height": 70
        },
        "outputId": "6e070bc4-1a26-4db5-b277-01151b36415f"
      },
      "source": [
        "a,b,c = 1,2,3\n",
        "print(a)\n",
        "print(b)\n",
        "print(c)"
      ],
      "execution_count": null,
      "outputs": [
        {
          "output_type": "stream",
          "text": [
            "1\n",
            "2\n",
            "3\n"
          ],
          "name": "stdout"
        }
      ]
    },
    {
      "cell_type": "code",
      "metadata": {
        "id": "N8AdVzSX6INM",
        "colab_type": "code",
        "colab": {
          "base_uri": "https://localhost:8080/",
          "height": 52
        },
        "outputId": "49e67391-d71f-4399-d06b-4f185752c6cf"
      },
      "source": [
        "circle_area,circle_perimeter=get_circle_metrics2(3)\n",
        "print(circle_area)\n",
        "print(circle_perimeter)"
      ],
      "execution_count": null,
      "outputs": [
        {
          "output_type": "stream",
          "text": [
            "28.27431\n",
            "18.849539999999998\n"
          ],
          "name": "stdout"
        }
      ]
    },
    {
      "cell_type": "code",
      "metadata": {
        "id": "hjpB_0l37g8t",
        "colab_type": "code",
        "colab": {}
      },
      "source": [
        "def get_cities(*args):#*args 讓使用者使用函數時傳入多個 list-like 參數\n",
        "    print(\"My favorite cities:\")\n",
        "    for city in args:\n",
        "        print(\"-{}\".format(city))"
      ],
      "execution_count": null,
      "outputs": []
    },
    {
      "cell_type": "code",
      "metadata": {
        "id": "ttKMS6a48Q2y",
        "colab_type": "code",
        "colab": {
          "base_uri": "https://localhost:8080/",
          "height": 87
        },
        "outputId": "c35a80ae-8676-44a0-befb-8a2f499ced6d"
      },
      "source": [
        "get_cities(\"Taiwan\",\"HK\",\"KR\")"
      ],
      "execution_count": null,
      "outputs": [
        {
          "output_type": "stream",
          "text": [
            "My favorite cities:\n",
            "-Taiwan\n",
            "-HK\n",
            "-KR\n"
          ],
          "name": "stdout"
        }
      ]
    },
    {
      "cell_type": "code",
      "metadata": {
        "id": "VCSKKvEU8kvL",
        "colab_type": "code",
        "colab": {
          "base_uri": "https://localhost:8080/",
          "height": 105
        },
        "outputId": "111237fa-4fad-4c7b-ec93-a370dde59555"
      },
      "source": [
        "fav_cities=get_cities(\"Taiwan\",\"HK\",\"KR\")\n",
        "print(fav_cities)#因為使用者隨機輸入的沒回存 所以會顯示none"
      ],
      "execution_count": null,
      "outputs": [
        {
          "output_type": "stream",
          "text": [
            "My favorite cities:\n",
            "-Taiwan\n",
            "-HK\n",
            "-KR\n",
            "None\n"
          ],
          "name": "stdout"
        }
      ]
    },
    {
      "cell_type": "code",
      "metadata": {
        "id": "oPNkdMHB9EF5",
        "colab_type": "code",
        "colab": {}
      },
      "source": [
        "def get_cities(*args):\n",
        "    print(\"My favorite cities:\")\n",
        "    cities = []\n",
        "    for city in args:\n",
        "        cities.append(city)\n",
        "        print(\"- {}\".format(city))\n",
        "    return cities"
      ],
      "execution_count": null,
      "outputs": []
    },
    {
      "cell_type": "code",
      "metadata": {
        "id": "7H5QvSBx9Wgj",
        "colab_type": "code",
        "colab": {
          "base_uri": "https://localhost:8080/",
          "height": 141
        },
        "outputId": "ab3a4b94-e7dc-4f23-c208-b1126592d20d"
      },
      "source": [
        "fav_cities = get_cities(\"Amsterdan\", \"Lisbon\", \"Boston\", \"New York\", \"San Francisco\")\n",
        "print(fav_cities)"
      ],
      "execution_count": null,
      "outputs": [
        {
          "output_type": "stream",
          "text": [
            "My favorite cities:\n",
            "- Amsterdan\n",
            "- Lisbon\n",
            "- Boston\n",
            "- New York\n",
            "- San Francisco\n",
            "['Amsterdan', 'Lisbon', 'Boston', 'New York', 'San Francisco']\n"
          ],
          "name": "stdout"
        }
      ]
    },
    {
      "cell_type": "code",
      "metadata": {
        "id": "iIHmKY8h9lZi",
        "colab_type": "code",
        "colab": {}
      },
      "source": [
        "def get_fahrenheits(*args):\n",
        "    for celsius in args:\n",
        "        fahrenheit = celsius*9/5 + 32\n",
        "        print(\"Celsius {} => Fahrenheit {}\".format(celsius, fahrenheit))"
      ],
      "execution_count": null,
      "outputs": []
    },
    {
      "cell_type": "code",
      "metadata": {
        "id": "PFHsKJWN-mZc",
        "colab_type": "code",
        "colab": {
          "base_uri": "https://localhost:8080/",
          "height": 70
        },
        "outputId": "b30112e6-ac18-4e98-e6e5-e1ab60d7b4b7"
      },
      "source": [
        "get_fahrenheits(25, 18, 17)"
      ],
      "execution_count": null,
      "outputs": [
        {
          "output_type": "stream",
          "text": [
            "Celsius 25 => Fahrenheit 77.0\n",
            "Celsius 18 => Fahrenheit 64.4\n",
            "Celsius 17 => Fahrenheit 62.6\n"
          ],
          "name": "stdout"
        }
      ]
    },
    {
      "cell_type": "code",
      "metadata": {
        "id": "M7tM--iY_FKL",
        "colab_type": "code",
        "colab": {}
      },
      "source": [
        "def get_f(**kwargs):\n",
        "    for k,v in kwargs.items():\n",
        "        f=v*9/5+32\n",
        "        print(\"City:{},Celsius{} =>F{}\".format(k,v,f))"
      ],
      "execution_count": null,
      "outputs": []
    },
    {
      "cell_type": "code",
      "metadata": {
        "id": "hdWtM1le_pbE",
        "colab_type": "code",
        "colab": {
          "base_uri": "https://localhost:8080/",
          "height": 70
        },
        "outputId": "a3479b28-b7f7-4d84-aeba-19581c924973"
      },
      "source": [
        "get_f(Taipei=25,KR=28,HK=30)"
      ],
      "execution_count": null,
      "outputs": [
        {
          "output_type": "stream",
          "text": [
            "City:Taipei,Celsius25 =>F77.0\n",
            "City:KR,Celsius28 =>F82.4\n",
            "City:HK,Celsius30 =>F86.0\n"
          ],
          "name": "stdout"
        }
      ]
    },
    {
      "cell_type": "code",
      "metadata": {
        "id": "T0FKvlS8AHnH",
        "colab_type": "code",
        "colab": {
          "base_uri": "https://localhost:8080/",
          "height": 34
        },
        "outputId": "98d0b854-6e91-4929-93e7-b4d11b907a3d"
      },
      "source": [
        "get_squared = lambda x:x**2\n",
        "get_squared(3)\n",
        "#def和return推薦長久使用自訂函數\n",
        "#lambda推薦用了即丟的情況"
      ],
      "execution_count": null,
      "outputs": [
        {
          "output_type": "execute_result",
          "data": {
            "text/plain": [
              "9"
            ]
          },
          "metadata": {
            "tags": []
          },
          "execution_count": 47
        }
      ]
    },
    {
      "cell_type": "code",
      "metadata": {
        "id": "3QhdV33PBPMS",
        "colab_type": "code",
        "colab": {}
      },
      "source": [
        "#常與 lambda 函數一起使用的 functional functions\n",
        "#map()\n",
        "#filter()"
      ],
      "execution_count": null,
      "outputs": []
    },
    {
      "cell_type": "code",
      "metadata": {
        "id": "d88oD553GTdS",
        "colab_type": "code",
        "colab": {
          "base_uri": "https://localhost:8080/",
          "height": 34
        },
        "outputId": "c5eab853-410d-477e-cc4b-e44d3752183e"
      },
      "source": [
        "#conventional\n",
        "temps_c=[25,19,17]\n",
        "temps_f=[]\n",
        "for c in temps_c:\n",
        "    f=c*9/5+32\n",
        "    temps_f.append(f)\n",
        "print(temps_f)    "
      ],
      "execution_count": null,
      "outputs": [
        {
          "output_type": "stream",
          "text": [
            "[77.0, 66.2, 62.6]\n"
          ],
          "name": "stdout"
        }
      ]
    },
    {
      "cell_type": "code",
      "metadata": {
        "id": "CNMMHjNCHO2C",
        "colab_type": "code",
        "colab": {
          "base_uri": "https://localhost:8080/",
          "height": 34
        },
        "outputId": "0b861457-f03f-4fe3-abb4-dff0539b9ef9"
      },
      "source": [
        "#list comprehension\n",
        "temps_f=[c*9/5+32 for c in temps_c]\n",
        "print(temps_f)"
      ],
      "execution_count": null,
      "outputs": [
        {
          "output_type": "stream",
          "text": [
            "[77.0, 66.2, 62.6]\n"
          ],
          "name": "stdout"
        }
      ]
    },
    {
      "cell_type": "code",
      "metadata": {
        "id": "rdRdE3GBHbCV",
        "colab_type": "code",
        "colab": {
          "base_uri": "https://localhost:8080/",
          "height": 34
        },
        "outputId": "f14582ca-45f0-4774-ea34-9bb519ded10a"
      },
      "source": [
        "#generator\n",
        "temps_f=(c*9/5+32 for c in temps_c)\n",
        "print(temps_f)"
      ],
      "execution_count": null,
      "outputs": [
        {
          "output_type": "stream",
          "text": [
            "<generator object <genexpr> at 0x7f1ce88163b8>\n"
          ],
          "name": "stdout"
        }
      ]
    },
    {
      "cell_type": "code",
      "metadata": {
        "id": "LrV5nlE6IViI",
        "colab_type": "code",
        "colab": {
          "base_uri": "https://localhost:8080/",
          "height": 34
        },
        "outputId": "45e16eca-f8d1-482a-f1cc-9dec5ca009c4"
      },
      "source": [
        "list(temps_f)"
      ],
      "execution_count": null,
      "outputs": [
        {
          "output_type": "execute_result",
          "data": {
            "text/plain": [
              "[77.0, 66.2, 62.6]"
            ]
          },
          "metadata": {
            "tags": []
          },
          "execution_count": 53
        }
      ]
    },
    {
      "cell_type": "code",
      "metadata": {
        "id": "MpKgJ-pvIliV",
        "colab_type": "code",
        "colab": {
          "base_uri": "https://localhost:8080/",
          "height": 34
        },
        "outputId": "67e21379-1c0d-4e52-ea7d-4499465b8f7f"
      },
      "source": [
        "list(temps_f) #generator使用過一次，即空，下面也是"
      ],
      "execution_count": null,
      "outputs": [
        {
          "output_type": "execute_result",
          "data": {
            "text/plain": [
              "[]"
            ]
          },
          "metadata": {
            "tags": []
          },
          "execution_count": 54
        }
      ]
    },
    {
      "cell_type": "code",
      "metadata": {
        "id": "2UjR6EddHa7h",
        "colab_type": "code",
        "colab": {
          "base_uri": "https://localhost:8080/",
          "height": 34
        },
        "outputId": "9c725090-1cd1-4a06-e4d2-f0f4c756c596"
      },
      "source": [
        "enumerate(temps_c)"
      ],
      "execution_count": null,
      "outputs": [
        {
          "output_type": "execute_result",
          "data": {
            "text/plain": [
              "<enumerate at 0x7f1ce8874d38>"
            ]
          },
          "metadata": {
            "tags": []
          },
          "execution_count": 51
        }
      ]
    },
    {
      "cell_type": "code",
      "metadata": {
        "id": "qBMKUeC5Hte4",
        "colab_type": "code",
        "colab": {
          "base_uri": "https://localhost:8080/",
          "height": 34
        },
        "outputId": "0507a7ea-3af5-477a-aaf3-4be09367b7f2"
      },
      "source": [
        "zip(temps_c,temps_f)"
      ],
      "execution_count": null,
      "outputs": [
        {
          "output_type": "execute_result",
          "data": {
            "text/plain": [
              "<zip at 0x7f1ce888d808>"
            ]
          },
          "metadata": {
            "tags": []
          },
          "execution_count": 52
        }
      ]
    },
    {
      "cell_type": "code",
      "metadata": {
        "id": "dAAqj8lsH07b",
        "colab_type": "code",
        "colab": {}
      },
      "source": [
        "def get_sqrt(x):\n",
        "    return x**(0.5)\n",
        "\n",
        "map_gen=map(get_sqrt, range(10))"
      ],
      "execution_count": null,
      "outputs": []
    },
    {
      "cell_type": "code",
      "metadata": {
        "id": "eMrxc6YdJ-fG",
        "colab_type": "code",
        "colab": {
          "base_uri": "https://localhost:8080/",
          "height": 194
        },
        "outputId": "d45c96ab-c069-43d4-fa60-41b280eb17a8"
      },
      "source": [
        "list(map_gen)"
      ],
      "execution_count": null,
      "outputs": [
        {
          "output_type": "execute_result",
          "data": {
            "text/plain": [
              "[0.0,\n",
              " 1.0,\n",
              " 1.4142135623730951,\n",
              " 1.7320508075688772,\n",
              " 2.0,\n",
              " 2.23606797749979,\n",
              " 2.449489742783178,\n",
              " 2.6457513110645907,\n",
              " 2.8284271247461903,\n",
              " 3.0]"
            ]
          },
          "metadata": {
            "tags": []
          },
          "execution_count": 64
        }
      ]
    },
    {
      "cell_type": "code",
      "metadata": {
        "id": "tJUSVfSJKYPQ",
        "colab_type": "code",
        "colab": {
          "base_uri": "https://localhost:8080/",
          "height": 34
        },
        "outputId": "9dbc73cf-fc67-4e2c-a66e-eff434af6313"
      },
      "source": [
        "list(map_gen)"
      ],
      "execution_count": null,
      "outputs": [
        {
          "output_type": "execute_result",
          "data": {
            "text/plain": [
              "[]"
            ]
          },
          "metadata": {
            "tags": []
          },
          "execution_count": 65
        }
      ]
    },
    {
      "cell_type": "code",
      "metadata": {
        "id": "82W3LaZeKj3n",
        "colab_type": "code",
        "colab": {
          "base_uri": "https://localhost:8080/",
          "height": 194
        },
        "outputId": "a758316d-835f-411f-ae57-ade3d3ab5bab"
      },
      "source": [
        "list(map(lambda x:x**0.5,range(10)))"
      ],
      "execution_count": null,
      "outputs": [
        {
          "output_type": "execute_result",
          "data": {
            "text/plain": [
              "[0.0,\n",
              " 1.0,\n",
              " 1.4142135623730951,\n",
              " 1.7320508075688772,\n",
              " 2.0,\n",
              " 2.23606797749979,\n",
              " 2.449489742783178,\n",
              " 2.6457513110645907,\n",
              " 2.8284271247461903,\n",
              " 3.0]"
            ]
          },
          "metadata": {
            "tags": []
          },
          "execution_count": 66
        }
      ]
    },
    {
      "cell_type": "code",
      "metadata": {
        "id": "J2M6mmxQK4A5",
        "colab_type": "code",
        "colab": {
          "base_uri": "https://localhost:8080/",
          "height": 34
        },
        "outputId": "7ece0e7d-a37d-4b0a-b2a8-a2aa6b0ad513"
      },
      "source": [
        "#conventional\n",
        "odds=[]\n",
        "for i in range(10):\n",
        "    if i % 2:\n",
        "        odds.append(i)\n",
        "print(odds)        "
      ],
      "execution_count": null,
      "outputs": [
        {
          "output_type": "stream",
          "text": [
            "[1, 3, 5, 7, 9]\n"
          ],
          "name": "stdout"
        }
      ]
    },
    {
      "cell_type": "code",
      "metadata": {
        "id": "M3UOjFT4LWQY",
        "colab_type": "code",
        "colab": {
          "base_uri": "https://localhost:8080/",
          "height": 34
        },
        "outputId": "56b2fc08-140f-4f64-c902-d8574838ba8a"
      },
      "source": [
        "#list comprehension\n",
        "odds=[i for i in range(10) if i%2]\n",
        "print(odds)"
      ],
      "execution_count": null,
      "outputs": [
        {
          "output_type": "stream",
          "text": [
            "[1, 3, 5, 7, 9]\n"
          ],
          "name": "stdout"
        }
      ]
    },
    {
      "cell_type": "code",
      "metadata": {
        "id": "w0WSWmyJLi7g",
        "colab_type": "code",
        "colab": {
          "base_uri": "https://localhost:8080/",
          "height": 34
        },
        "outputId": "a6b34762-bf9b-404a-ff31-9df20eb9cdaf"
      },
      "source": [
        "def is_odd(x):\n",
        "    return x % 2 ==1\n",
        "\n",
        "list(filter(is_odd, range(10)))"
      ],
      "execution_count": null,
      "outputs": [
        {
          "output_type": "execute_result",
          "data": {
            "text/plain": [
              "[1, 3, 5, 7, 9]"
            ]
          },
          "metadata": {
            "tags": []
          },
          "execution_count": 70
        }
      ]
    },
    {
      "cell_type": "code",
      "metadata": {
        "id": "4A0NOFemMCQe",
        "colab_type": "code",
        "colab": {
          "base_uri": "https://localhost:8080/",
          "height": 34
        },
        "outputId": "5ef827a5-0db4-4e47-f5ed-f4b8c41e0459"
      },
      "source": [
        "list(filter(lambda x: x % 2 == 1, range(10)))"
      ],
      "execution_count": null,
      "outputs": [
        {
          "output_type": "execute_result",
          "data": {
            "text/plain": [
              "[1, 3, 5, 7, 9]"
            ]
          },
          "metadata": {
            "tags": []
          },
          "execution_count": 72
        }
      ]
    },
    {
      "cell_type": "code",
      "metadata": {
        "id": "kFDZGTppMY-O",
        "colab_type": "code",
        "colab": {}
      },
      "source": [
        "def divide(x, y):\n",
        "    \"\"\"\n",
        "    將輸入的兩個數字相除\n",
        "    \"\"\"\n",
        "    return x / y\n",
        "print(divide(55, 66))\n",
        "print(divide(5566, 0)) #分母不得為0 Runtime error"
      ],
      "execution_count": null,
      "outputs": []
    },
    {
      "cell_type": "code",
      "metadata": {
        "id": "BYJd_261QKqs",
        "colab_type": "code",
        "colab": {
          "base_uri": "https://localhost:8080/",
          "height": 70
        },
        "outputId": "0a9aa7a3-a7b3-47b0-bb48-06d6ea1e56e0"
      },
      "source": [
        "def divide(x, y):    #使用 try...except... 處理錯誤與例外，避免系統因為一個錯而停止整個系統\n",
        "    \"\"\"\n",
        "    將輸入的兩個數字相除\n",
        "    \"\"\"\n",
        "    try:\n",
        "        return x / y\n",
        "    except:\n",
        "        return \"Something went wrong\"\n",
        "\n",
        "print(divide(55, 0))\n",
        "print(\"5566\")\n",
        "print(\"Luke, use the Force!\")"
      ],
      "execution_count": null,
      "outputs": [
        {
          "output_type": "stream",
          "text": [
            "Something went wrong\n",
            "5566\n",
            "Luke, use the Force!\n"
          ],
          "name": "stdout"
        }
      ]
    },
    {
      "cell_type": "code",
      "metadata": {
        "id": "J9fh1ZtPQU-U",
        "colab_type": "code",
        "colab": {
          "base_uri": "https://localhost:8080/",
          "height": 70
        },
        "outputId": "4632cfda-fd9d-44b6-e8b2-b0d157ddb4f7"
      },
      "source": [
        "def divide(x, y):\n",
        "    \"\"\"\n",
        "    將輸入的兩個數字相除\n",
        "    \"\"\"\n",
        "    try:\n",
        "        return x / y\n",
        "    except:\n",
        "        return \"Something went wrong\"\n",
        "\n",
        "print(divide(55,66))\n",
        "print(\"5566\")\n",
        "print(\"Luke, use the Force!\")"
      ],
      "execution_count": null,
      "outputs": [
        {
          "output_type": "stream",
          "text": [
            "0.8333333333333334\n",
            "5566\n",
            "Luke, use the Force!\n"
          ],
          "name": "stdout"
        }
      ]
    },
    {
      "cell_type": "code",
      "metadata": {
        "id": "Hs6WW8a7RYOA",
        "colab_type": "code",
        "colab": {
          "base_uri": "https://localhost:8080/",
          "height": 70
        },
        "outputId": "33d70f6b-b52f-48f9-da4c-192d73797124"
      },
      "source": [
        "def safe_divide(x, y):\n",
        "    \"\"\"\n",
        "    將輸入的兩個數字相除\n",
        "    \"\"\"\n",
        "    try:\n",
        "        return x / y\n",
        "    except ZeroDivisionError:\n",
        "        return \"分母不得為0!\"\n",
        "    except TypeError:\n",
        "        return \"分子分母不得輸入字串或其他非數值資料!\"\n",
        "\n",
        "print(safe_divide(5566, 0))\n",
        "print(safe_divide(55, '66'))\n",
        "print(\"早安你好\")"
      ],
      "execution_count": null,
      "outputs": [
        {
          "output_type": "stream",
          "text": [
            "分母不得為0!\n",
            "分子分母不得輸入字串或其他非數值資料!\n",
            "早安你好\n"
          ],
          "name": "stdout"
        }
      ]
    },
    {
      "cell_type": "code",
      "metadata": {
        "id": "3ZjXSq96SFTy",
        "colab_type": "code",
        "colab": {
          "base_uri": "https://localhost:8080/",
          "height": 34
        },
        "outputId": "654e4d23-4661-4696-fe7c-befe74b7e592"
      },
      "source": [
        "#以 raise 告知使用者函數不支援的功能\n",
        "isinstance(2, float)    #判斷函數   2是不是福點數"
      ],
      "execution_count": null,
      "outputs": [
        {
          "output_type": "execute_result",
          "data": {
            "text/plain": [
              "False"
            ]
          },
          "metadata": {
            "tags": []
          },
          "execution_count": 92
        }
      ]
    },
    {
      "cell_type": "code",
      "metadata": {
        "id": "fth0bHhsTObj",
        "colab_type": "code",
        "colab": {}
      },
      "source": [
        "# Define\n",
        "def is_prime(x):\n",
        "    \"\"\"\n",
        "    判斷輸入的正整數 x 是否為質數\n",
        "    \"\"\"\n",
        "    if x < 0:\n",
        "        raise ValueError(\"x must be positive!\")\n",
        "    elif isinstance(x, float):\n",
        "        raise ValueError(\"x must be an integer!\")\n",
        "    divisor_cnt, i = 0, 1\n",
        "    while i <= x:\n",
        "        if x % i == 0:\n",
        "            divisor_cnt += 1\n",
        "        if divisor_cnt > 2:\n",
        "            break\n",
        "        i += 1\n",
        "    return divisor_cnt == 2\n",
        "# Use\n",
        "print(is_prime(89.0))"
      ],
      "execution_count": null,
      "outputs": []
    },
    {
      "cell_type": "code",
      "metadata": {
        "id": "FhBfxrl-Tr1F",
        "colab_type": "code",
        "colab": {}
      },
      "source": [
        "# Use\n",
        "print(is_prime(-5566))"
      ],
      "execution_count": null,
      "outputs": []
    },
    {
      "cell_type": "code",
      "metadata": {
        "id": "cLO_mOU9UYcU",
        "colab_type": "code",
        "colab": {}
      },
      "source": [
        "def get_squared(x):\n",
        "  ans=x**2    #local object\n",
        "  return ans"
      ],
      "execution_count": null,
      "outputs": []
    },
    {
      "cell_type": "code",
      "metadata": {
        "id": "Up7YoEkGUmpK",
        "colab_type": "code",
        "colab": {
          "base_uri": "https://localhost:8080/",
          "height": 34
        },
        "outputId": "3b8aa306-e03c-4175-c252-d814ac23eb22"
      },
      "source": [
        "get_squared(5)"
      ],
      "execution_count": null,
      "outputs": [
        {
          "output_type": "execute_result",
          "data": {
            "text/plain": [
              "25"
            ]
          },
          "metadata": {
            "tags": []
          },
          "execution_count": 98
        }
      ]
    },
    {
      "cell_type": "code",
      "metadata": {
        "id": "sI4_lWIqVkFE",
        "colab_type": "code",
        "colab": {}
      },
      "source": [
        "def get_squared_then_minus_two(x):\n",
        "    ans = x**2 # local object\n",
        "    final_ans = ans - 2 # local object\n",
        "    return ans, final_ans"
      ],
      "execution_count": null,
      "outputs": []
    },
    {
      "cell_type": "code",
      "metadata": {
        "id": "_W53jsu0Vtd7",
        "colab_type": "code",
        "colab": {
          "base_uri": "https://localhost:8080/",
          "height": 34
        },
        "outputId": "1544eb86-e4da-4605-fa0e-31275d32d7cc"
      },
      "source": [
        "get_squared_then_minus_two(5)"
      ],
      "execution_count": null,
      "outputs": [
        {
          "output_type": "execute_result",
          "data": {
            "text/plain": [
              "(25, 23)"
            ]
          },
          "metadata": {
            "tags": []
          },
          "execution_count": 100
        }
      ]
    },
    {
      "cell_type": "code",
      "metadata": {
        "id": "xLm05B4NVvgX",
        "colab_type": "code",
        "colab": {
          "base_uri": "https://localhost:8080/",
          "height": 52
        },
        "outputId": "2376ac1d-3556-47b5-af78-82321cfbf768"
      },
      "source": [
        "ans=25 #global\n",
        "print(ans)\n",
        "\n",
        "def get_minus_two():\n",
        "  return ans-2\n",
        "\n",
        "get_minus_two()   #local沒有ans,往global找"
      ],
      "execution_count": null,
      "outputs": [
        {
          "output_type": "stream",
          "text": [
            "25\n"
          ],
          "name": "stdout"
        },
        {
          "output_type": "execute_result",
          "data": {
            "text/plain": [
              "23"
            ]
          },
          "metadata": {
            "tags": []
          },
          "execution_count": 101
        }
      ]
    },
    {
      "cell_type": "code",
      "metadata": {
        "id": "K08nW--HWQub",
        "colab_type": "code",
        "colab": {
          "base_uri": "https://localhost:8080/",
          "height": 52
        },
        "outputId": "ae923dad-c12f-439a-ea50-71d3e19214ca"
      },
      "source": [
        "ans=25 #global\n",
        "print(ans)\n",
        "\n",
        "def get_minus_two():\n",
        "  ans=10\n",
        "  return ans-2\n",
        "\n",
        "get_minus_two()   #最後輸出為10-2=8，local優先於global，但這種寫法太容易被誤導為coding大忌"
      ],
      "execution_count": null,
      "outputs": [
        {
          "output_type": "stream",
          "text": [
            "25\n"
          ],
          "name": "stdout"
        },
        {
          "output_type": "execute_result",
          "data": {
            "text/plain": [
              "8"
            ]
          },
          "metadata": {
            "tags": []
          },
          "execution_count": 103
        }
      ]
    },
    {
      "cell_type": "code",
      "metadata": {
        "id": "w0neyFjSW2wg",
        "colab_type": "code",
        "colab": {
          "base_uri": "https://localhost:8080/",
          "height": 52
        },
        "outputId": "11f1a70f-f28d-48b6-d1e3-7b0d47f30fb5"
      },
      "source": [
        "ans=25\n",
        "print(ans)\n",
        "\n",
        "def grt_minus_two(x):\n",
        "  res = x\n",
        "  return res - 2\n",
        "\n",
        "get_minus_two(ans)"
      ],
      "execution_count": null,
      "outputs": [
        {
          "output_type": "stream",
          "text": [
            "25\n"
          ],
          "name": "stdout"
        },
        {
          "output_type": "execute_result",
          "data": {
            "text/plain": [
              "23"
            ]
          },
          "metadata": {
            "tags": []
          },
          "execution_count": 109
        }
      ]
    },
    {
      "cell_type": "code",
      "metadata": {
        "id": "NDDXqR1sX1vK",
        "colab_type": "code",
        "colab": {}
      },
      "source": [
        "#HW寫一個函數 count_primes(x, y) 計算介於 x 到 y 之間的質數個數為何（包含 x 與 y 假如它們是奇數）"
      ],
      "execution_count": null,
      "outputs": []
    },
    {
      "cell_type": "code",
      "metadata": {
        "id": "ZCSAb5hxX5q1",
        "colab_type": "code",
        "colab": {}
      },
      "source": [
        "#彈性參數HW 寫一個函數 get_std(*args) 回傳 *args 所組成之數列的樣本標準差\n",
        "#如果使用者輸入少於2個數字則顯示Please input at least 2 numbers.(因為n-1=0會分母為0錯誤)"
      ],
      "execution_count": null,
      "outputs": []
    },
    {
      "cell_type": "code",
      "metadata": {
        "id": "1pCGkr-IYgit",
        "colab_type": "code",
        "colab": {}
      },
      "source": [
        "#HW寫一個函數 fibonacci(N, f0=0, f1=1) 回傳長度為 N、前兩個數字分別為 f0 與 f1 的費氏數列\n",
        "#使用迴圈概念"
      ],
      "execution_count": null,
      "outputs": []
    },
    {
      "cell_type": "markdown",
      "metadata": {
        "id": "gJ-8DaLwfeDG",
        "colab_type": "text"
      },
      "source": [
        "##2019-06-26"
      ]
    },
    {
      "cell_type": "code",
      "metadata": {
        "id": "w2X8cva6fdfP",
        "colab_type": "code",
        "colab": {
          "base_uri": "https://localhost:8080/",
          "height": 72
        },
        "outputId": "c930aef0-6b69-4e7a-bebb-55520d269bf3"
      },
      "source": [
        "import requests\n",
        "\n",
        "aqi_url = \"https://opendata.epa.gov.tw/ws/Data/AQI/?$format=xml\"\n",
        "r = requests.get(aqi_url, verify=False)"
      ],
      "execution_count": null,
      "outputs": [
        {
          "output_type": "stream",
          "text": [
            "/usr/local/lib/python3.6/dist-packages/urllib3/connectionpool.py:847: InsecureRequestWarning: Unverified HTTPS request is being made. Adding certificate verification is strongly advised. See: https://urllib3.readthedocs.io/en/latest/advanced-usage.html#ssl-warnings\n",
            "  InsecureRequestWarning)\n"
          ],
          "name": "stderr"
        }
      ]
    },
    {
      "cell_type": "code",
      "metadata": {
        "id": "KSbHUv7VjqbT",
        "colab_type": "code",
        "colab": {
          "base_uri": "https://localhost:8080/",
          "height": 34
        },
        "outputId": "df53d206-9084-42ab-eadf-8257b8afe2de"
      },
      "source": [
        "print(r.status_code)"
      ],
      "execution_count": null,
      "outputs": [
        {
          "output_type": "stream",
          "text": [
            "200\n"
          ],
          "name": "stdout"
        }
      ]
    },
    {
      "cell_type": "code",
      "metadata": {
        "id": "1-AMeroaj0ZD",
        "colab_type": "code",
        "colab": {
          "base_uri": "https://localhost:8080/",
          "height": 34
        },
        "outputId": "24f491b4-9718-4fcd-88b9-8fe936894d21"
      },
      "source": [
        "type(r.content)"
      ],
      "execution_count": null,
      "outputs": [
        {
          "output_type": "execute_result",
          "data": {
            "text/plain": [
              "bytes"
            ]
          },
          "metadata": {
            "tags": []
          },
          "execution_count": 4
        }
      ]
    },
    {
      "cell_type": "code",
      "metadata": {
        "id": "-l0MagV-kqQT",
        "colab_type": "code",
        "colab": {
          "base_uri": "https://localhost:8080/",
          "height": 54
        },
        "outputId": "ba0db3f4-330b-465d-c245-56cd986759b9"
      },
      "source": [
        "print(r.content)"
      ],
      "execution_count": null,
      "outputs": [
        {
          "output_type": "stream",
          "text": [
            "b'<?xml version=\"1.0\" encoding=\"utf-8\" standalone=\"no\"?>\\r\\n<AQI>\\r\\n  <Data>\\r\\n    <SiteName>\\xe6\\x96\\x97\\xe5\\x85\\xad</SiteName>\\r\\n    <County>\\xe9\\x9b\\xb2\\xe6\\x9e\\x97\\xe7\\xb8\\xa3</County>\\r\\n    <AQI></AQI>\\r\\n    <Pollutant></Pollutant>\\r\\n    <Status>\\xe8\\xa8\\xad\\xe5\\x82\\x99\\xe7\\xb6\\xad\\xe8\\xad\\xb7</Status>\\r\\n    <SO2></SO2>\\r\\n    <CO></CO>\\r\\n    <CO_8hr></CO_8hr>\\r\\n    <O3></O3>\\r\\n    <O3_8hr></O3_8hr>\\r\\n    <PM10></PM10>\\r\\n    <PM2.5></PM2.5>\\r\\n    <NO2></NO2>\\r\\n    <NOx></NOx>\\r\\n    <NO></NO>\\r\\n    <WindSpeed></WindSpeed>\\r\\n    <WindDirec></WindDirec>\\r\\n    <PublishTime></PublishTime>\\r\\n    <PM2.5_AVG></PM2.5_AVG>\\r\\n    <PM10_AVG></PM10_AVG>\\r\\n    <SO2_AVG></SO2_AVG>\\r\\n    <Longitude>120.544994</Longitude>\\r\\n    <Latitude>23.711853</Latitude>\\r\\n  </Data>\\r\\n  <Data>\\r\\n    <SiteName>\\xe5\\xb1\\x8f\\xe6\\x9d\\xb1(\\xe7\\x90\\x89\\xe7\\x90\\x83)</SiteName>\\r\\n    <County>\\xe5\\xb1\\x8f\\xe6\\x9d\\xb1\\xe7\\xb8\\xa3</County>\\r\\n    <AQI>32</AQI>\\r\\n    <Pollutant></Pollutant>\\r\\n    <Status>\\xe8\\x89\\xaf\\xe5\\xa5\\xbd</Status>\\r\\n    <SO2>1.4</SO2>\\r\\n    <CO>0.1</CO>\\r\\n    <CO_8hr>0.2</CO_8hr>\\r\\n    <O3>27</O3>\\r\\n    <O3_8hr>35</O3_8hr>\\r\\n    <PM10>14</PM10>\\r\\n    <PM2.5>9</PM2.5>\\r\\n    <NO2>2.3</NO2>\\r\\n    <NOx>3.2</NOx>\\r\\n    <NO>0.9</NO>\\r\\n    <WindSpeed>2.2</WindSpeed>\\r\\n    <WindDirec>324</WindDirec>\\r\\n    <PublishTime>2019-06-26 19:00</PublishTime>\\r\\n    <PM2.5_AVG>9</PM2.5_AVG>\\r\\n    <PM10_AVG>10</PM10_AVG>\\r\\n    <SO2_AVG>2</SO2_AVG>\\r\\n    <Longitude>120.377222</Longitude>\\r\\n    <Latitude>22.352222</Latitude>\\r\\n  </Data>\\r\\n  <Data>\\r\\n    <SiteName>\\xe8\\x8b\\x97\\xe6\\xa0\\x97(\\xe5\\xbe\\x8c\\xe9\\xbe\\x8d)</SiteName>\\r\\n    <County>\\xe8\\x8b\\x97\\xe6\\xa0\\x97\\xe7\\xb8\\xa3</County>\\r\\n    <AQI>48</AQI>\\r\\n    <Pollutant></Pollutant>\\r\\n    <Status>\\xe8\\x89\\xaf\\xe5\\xa5\\xbd</Status>\\r\\n    <SO2>0.9</SO2>\\r\\n    <CO>0.18</CO>\\r\\n    <CO_8hr>0.2</CO_8hr>\\r\\n    <O3>35</O3>\\r\\n    <O3_8hr>48</O3_8hr>\\r\\n    <PM10></PM10>\\r\\n    <PM2.5>21</PM2.5>\\r\\n    <NO2>7.7</NO2>\\r\\n    <NOx>8.5</NOx>\\r\\n    <NO>0.8</NO>\\r\\n    <WindSpeed>2.3</WindSpeed>\\r\\n    <WindDirec>203</WindDirec>\\r\\n    <PublishTime>2019-06-26 19:00</PublishTime>\\r\\n    <PM2.5_AVG>15</PM2.5_AVG>\\r\\n    <PM10_AVG>17</PM10_AVG>\\r\\n    <SO2_AVG>2</SO2_AVG>\\r\\n    <Longitude>120.786028</Longitude>\\r\\n    <Latitude>24.616369</Latitude>\\r\\n  </Data>\\r\\n  <Data>\\r\\n    <SiteName>\\xe5\\xbd\\xb0\\xe5\\x8c\\x96(\\xe5\\xa4\\xa7\\xe5\\x9f\\x8e)</SiteName>\\r\\n    <County>\\xe5\\xbd\\xb0\\xe5\\x8c\\x96\\xe7\\xb8\\xa3</County>\\r\\n    <AQI>31</AQI>\\r\\n    <Pollutant></Pollutant>\\r\\n    <Status>\\xe8\\x89\\xaf\\xe5\\xa5\\xbd</Status>\\r\\n    <SO2>1.5</SO2>\\r\\n    <CO>0.22</CO>\\r\\n    <CO_8hr>0.2</CO_8hr>\\r\\n    <O3>27</O3>\\r\\n    <O3_8hr>34</O3_8hr>\\r\\n    <PM10>8</PM10>\\r\\n    <PM2.5>5</PM2.5>\\r\\n    <NO2>4.3</NO2>\\r\\n    <NOx>4.9</NOx>\\r\\n    <NO>0.6</NO>\\r\\n    <WindSpeed>0.3</WindSpeed>\\r\\n    <WindDirec>153</WindDirec>\\r\\n    <PublishTime>2019-06-26 19:00</PublishTime>\\r\\n    <PM2.5_AVG>6</PM2.5_AVG>\\r\\n    <PM10_AVG>8</PM10_AVG>\\r\\n    <SO2_AVG>2</SO2_AVG>\\r\\n    <Longitude>120.273117</Longitude>\\r\\n    <Latitude>23.843139</Latitude>\\r\\n  </Data>\\r\\n  <Data>\\r\\n    <SiteName>\\xe8\\x87\\xba\\xe5\\x8d\\x97(\\xe9\\xba\\xbb\\xe8\\xb1\\x86)</SiteName>\\r\\n    <County>\\xe8\\x87\\xba\\xe5\\x8d\\x97\\xe5\\xb8\\x82</County>\\r\\n    <AQI>26</AQI>\\r\\n    <Pollutant></Pollutant>\\r\\n    <Status>\\xe8\\x89\\xaf\\xe5\\xa5\\xbd</Status>\\r\\n    <SO2>1.1</SO2>\\r\\n    <CO>0.09</CO>\\r\\n    <CO_8hr>0.1</CO_8hr>\\r\\n    <O3>22</O3>\\r\\n    <O3_8hr>28</O3_8hr>\\r\\n    <PM10>13</PM10>\\r\\n    <PM2.5>2</PM2.5>\\r\\n    <NO2>8</NO2>\\r\\n    <NOx>9</NOx>\\r\\n    <NO>1</NO>\\r\\n    <WindSpeed>1.2</WindSpeed>\\r\\n    <WindDirec>78</WindDirec>\\r\\n    <PublishTime>2019-06-26 19:00</PublishTime>\\r\\n    <PM2.5_AVG>3</PM2.5_AVG>\\r\\n    <PM10_AVG>12</PM10_AVG>\\r\\n    <SO2_AVG></SO2_AVG>\\r\\n    <Longitude>120.245831</Longitude>\\r\\n    <Latitude>23.179047</Latitude>\\r\\n  </Data>\\r\\n  <Data>\\r\\n    <SiteName>\\xe5\\xaf\\x8c\\xe8\\xb2\\xb4\\xe8\\xa7\\x92</SiteName>\\r\\n    <County>\\xe6\\x96\\xb0\\xe5\\x8c\\x97\\xe5\\xb8\\x82</County>\\r\\n    <AQI>41</AQI>\\r\\n    <Pollutant></Pollutant>\\r\\n    <Status>\\xe8\\x89\\xaf\\xe5\\xa5\\xbd</Status>\\r\\n    <SO2>0.8</SO2>\\r\\n    <CO>0.14</CO>\\r\\n    <CO_8hr>0.1</CO_8hr>\\r\\n    <O3>51</O3>\\r\\n    <O3_8hr>44</O3_8hr>\\r\\n    <PM10>28</PM10>\\r\\n    <PM2.5>7</PM2.5>\\r\\n    <NO2>3.2</NO2>\\r\\n    <NOx>3.2</NOx>\\r\\n    <NO>0</NO>\\r\\n    <WindSpeed>3.1</WindSpeed>\\r\\n    <WindDirec>120</WindDirec>\\r\\n    <PublishTime>2019-06-26 19:00</PublishTime>\\r\\n    <PM2.5_AVG>7</PM2.5_AVG>\\r\\n    <PM10_AVG>27</PM10_AVG>\\r\\n    <SO2_AVG>1</SO2_AVG>\\r\\n    <Longitude>121.536763</Longitude>\\r\\n    <Latitude>25.298562</Latitude>\\r\\n  </Data>\\r\\n  <Data>\\r\\n    <SiteName>\\xe9\\xba\\xa5\\xe5\\xaf\\xae</SiteName>\\r\\n    <County>\\xe9\\x9b\\xb2\\xe6\\x9e\\x97\\xe7\\xb8\\xa3</County>\\r\\n    <AQI>24</AQI>\\r\\n    <Pollutant></Pollutant>\\r\\n    <Status>\\xe8\\x89\\xaf\\xe5\\xa5\\xbd</Status>\\r\\n    <SO2>0.7</SO2>\\r\\n    <CO>0.31</CO>\\r\\n    <CO_8hr>0.3</CO_8hr>\\r\\n    <O3>21</O3>\\r\\n    <O3_8hr>26</O3_8hr>\\r\\n    <PM10>21</PM10>\\r\\n    <PM2.5>4</PM2.5>\\r\\n    <NO2>9.6</NO2>\\r\\n    <NOx>14</NOx>\\r\\n    <NO>3.9</NO>\\r\\n    <WindSpeed>2.8</WindSpeed>\\r\\n    <WindDirec>161</WindDirec>\\r\\n    <PublishTime>2019-06-26 19:00</PublishTime>\\r\\n    <PM2.5_AVG>2</PM2.5_AVG>\\r\\n    <PM10_AVG>13</PM10_AVG>\\r\\n    <SO2_AVG>1</SO2_AVG>\\r\\n    <Longitude>120.251825</Longitude>\\r\\n    <Latitude>23.753506</Latitude>\\r\\n  </Data>\\r\\n  <Data>\\r\\n    <SiteName>\\xe9\\x97\\x9c\\xe5\\xb1\\xb1</SiteName>\\r\\n    <County>\\xe8\\x87\\xba\\xe6\\x9d\\xb1\\xe7\\xb8\\xa3</County>\\r\\n    <AQI>32</AQI>\\r\\n    <Pollutant></Pollutant>\\r\\n    <Status>\\xe8\\x89\\xaf\\xe5\\xa5\\xbd</Status>\\r\\n    <SO2>1.6</SO2>\\r\\n    <CO>-</CO>\\r\\n    <CO_8hr></CO_8hr>\\r\\n    <O3>19</O3>\\r\\n    <O3_8hr>22</O3_8hr>\\r\\n    <PM10>15</PM10>\\r\\n    <PM2.5>8</PM2.5>\\r\\n    <NO2>4</NO2>\\r\\n    <NOx>4.6</NOx>\\r\\n    <NO>0.6</NO>\\r\\n    <WindSpeed>1.4</WindSpeed>\\r\\n    <WindDirec>9.7</WindDirec>\\r\\n    <PublishTime>2019-06-26 19:00</PublishTime>\\r\\n    <PM2.5_AVG>10</PM2.5_AVG>\\r\\n    <PM10_AVG>21</PM10_AVG>\\r\\n    <SO2_AVG>2</SO2_AVG>\\r\\n    <Longitude>121.161933</Longitude>\\r\\n    <Latitude>23.045083</Latitude>\\r\\n  </Data>\\r\\n  <Data>\\r\\n    <SiteName>\\xe9\\xa6\\xac\\xe5\\x85\\xac</SiteName>\\r\\n    <County>\\xe6\\xbe\\x8e\\xe6\\xb9\\x96\\xe7\\xb8\\xa3</County>\\r\\n    <AQI></AQI>\\r\\n    <Pollutant></Pollutant>\\r\\n    <Status>\\xe8\\xa8\\xad\\xe5\\x82\\x99\\xe7\\xb6\\xad\\xe8\\xad\\xb7</Status>\\r\\n    <SO2>1.3</SO2>\\r\\n    <CO>0.27</CO>\\r\\n    <CO_8hr>0.3</CO_8hr>\\r\\n    <O3>32</O3>\\r\\n    <O3_8hr>31</O3_8hr>\\r\\n    <PM10></PM10>\\r\\n    <PM2.5>2</PM2.5>\\r\\n    <NO2>5.5</NO2>\\r\\n    <NOx>9.8</NOx>\\r\\n    <NO>4.3</NO>\\r\\n    <WindSpeed>1.9</WindSpeed>\\r\\n    <WindDirec>180</WindDirec>\\r\\n    <PublishTime>2019-06-26 19:00</PublishTime>\\r\\n    <PM2.5_AVG>2</PM2.5_AVG>\\r\\n    <PM10_AVG></PM10_AVG>\\r\\n    <SO2_AVG>1</SO2_AVG>\\r\\n    <Longitude>119.566158</Longitude>\\r\\n    <Latitude>23.569031</Latitude>\\r\\n  </Data>\\r\\n  <Data>\\r\\n    <SiteName>\\xe9\\x87\\x91\\xe9\\x96\\x80</SiteName>\\r\\n    <County>\\xe9\\x87\\x91\\xe9\\x96\\x80\\xe7\\xb8\\xa3</County>\\r\\n    <AQI>38</AQI>\\r\\n    <Pollutant></Pollutant>\\r\\n    <Status>\\xe8\\x89\\xaf\\xe5\\xa5\\xbd</Status>\\r\\n    <SO2>2.7</SO2>\\r\\n    <CO>0.15</CO>\\r\\n    <CO_8hr>0.2</CO_8hr>\\r\\n    <O3>33</O3>\\r\\n    <O3_8hr>38</O3_8hr>\\r\\n    <PM10>17</PM10>\\r\\n    <PM2.5>5</PM2.5>\\r\\n    <NO2>3.4</NO2>\\r\\n    <NOx>3.8</NOx>\\r\\n    <NO>0.3</NO>\\r\\n    <WindSpeed>1.5</WindSpeed>\\r\\n    <WindDirec>149</WindDirec>\\r\\n    <PublishTime>2019-06-26 19:00</PublishTime>\\r\\n    <PM2.5_AVG>12</PM2.5_AVG>\\r\\n    <PM10_AVG>22</PM10_AVG>\\r\\n    <SO2_AVG>2</SO2_AVG>\\r\\n    <Longitude>118.312256</Longitude>\\r\\n    <Latitude>24.432133</Latitude>\\r\\n  </Data>\\r\\n  <Data>\\r\\n    <SiteName>\\xe9\\xa6\\xac\\xe7\\xa5\\x96</SiteName>\\r\\n    <County>\\xe9\\x80\\xa3\\xe6\\xb1\\x9f\\xe7\\xb8\\xa3</County>\\r\\n    <AQI>44</AQI>\\r\\n    <Pollutant></Pollutant>\\r\\n    <Status>\\xe8\\x89\\xaf\\xe5\\xa5\\xbd</Status>\\r\\n    <SO2></SO2>\\r\\n    <CO></CO>\\r\\n    <CO_8hr>0.2</CO_8hr>\\r\\n    <O3></O3>\\r\\n    <O3_8hr>48</O3_8hr>\\r\\n    <PM10></PM10>\\r\\n    <PM2.5></PM2.5>\\r\\n    <NO2></NO2>\\r\\n    <NOx></NOx>\\r\\n    <NO></NO>\\r\\n    <WindSpeed>0.6</WindSpeed>\\r\\n    <WindDirec>45</WindDirec>\\r\\n    <PublishTime>2019-06-26 19:00</PublishTime>\\r\\n    <PM2.5_AVG>11</PM2.5_AVG>\\r\\n    <PM10_AVG></PM10_AVG>\\r\\n    <SO2_AVG>2</SO2_AVG>\\r\\n    <Longitude>119.949875</Longitude>\\r\\n    <Latitude>26.160469</Latitude>\\r\\n  </Data>\\r\\n  <Data>\\r\\n    <SiteName>\\xe5\\x9f\\x94\\xe9\\x87\\x8c</SiteName>\\r\\n    <County>\\xe5\\x8d\\x97\\xe6\\x8a\\x95\\xe7\\xb8\\xa3</County>\\r\\n    <AQI>34</AQI>\\r\\n    <Pollutant></Pollutant>\\r\\n    <Status>\\xe8\\x89\\xaf\\xe5\\xa5\\xbd</Status>\\r\\n    <SO2>1</SO2>\\r\\n    <CO>0.24</CO>\\r\\n    <CO_8hr>0.2</CO_8hr>\\r\\n    <O3>32</O3>\\r\\n    <O3_8hr>37</O3_8hr>\\r\\n    <PM10></PM10>\\r\\n    <PM2.5>7</PM2.5>\\r\\n    <NO2>8.6</NO2>\\r\\n    <NOx>9.3</NOx>\\r\\n    <NO>0.7</NO>\\r\\n    <WindSpeed>1.5</WindSpeed>\\r\\n    <WindDirec>195</WindDirec>\\r\\n    <PublishTime>2019-06-26 19:00</PublishTime>\\r\\n    <PM2.5_AVG>9</PM2.5_AVG>\\r\\n    <PM10_AVG></PM10_AVG>\\r\\n    <SO2_AVG>2</SO2_AVG>\\r\\n    <Longitude>120.967903</Longitude>\\r\\n    <Latitude>23.968842</Latitude>\\r\\n  </Data>\\r\\n  <Data>\\r\\n    <SiteName>\\xe5\\xbe\\xa9\\xe8\\x88\\x88</SiteName>\\r\\n    <County>\\xe9\\xab\\x98\\xe9\\x9b\\x84\\xe5\\xb8\\x82</County>\\r\\n    <AQI>55</AQI>\\r\\n    <Pollutant>\\xe7\\xb4\\xb0\\xe6\\x87\\xb8\\xe6\\xb5\\xae\\xe5\\xbe\\xae\\xe7\\xb2\\x92</Pollutant>\\r\\n    <Status>\\xe6\\x99\\xae\\xe9\\x80\\x9a</Status>\\r\\n    <SO2>3.3</SO2>\\r\\n    <CO>0.81</CO>\\r\\n    <CO_8hr>0.8</CO_8hr>\\r\\n    <O3>12</O3>\\r\\n    <O3_8hr>18</O3_8hr>\\r\\n    <PM10>21</PM10>\\r\\n    <PM2.5>12</PM2.5>\\r\\n    <NO2>25</NO2>\\r\\n    <NOx>32</NOx>\\r\\n    <NO>6.9</NO>\\r\\n    <WindSpeed>1.4</WindSpeed>\\r\\n    <WindDirec>208</WindDirec>\\r\\n    <PublishTime>2019-06-26 19:00</PublishTime>\\r\\n    <PM2.5_AVG>17</PM2.5_AVG>\\r\\n    <PM10_AVG>23</PM10_AVG>\\r\\n    <SO2_AVG>4</SO2_AVG>\\r\\n    <Longitude>120.312017</Longitude>\\r\\n    <Latitude>22.608711</Latitude>\\r\\n  </Data>\\r\\n  <Data>\\r\\n    <SiteName>\\xe6\\xb0\\xb8\\xe5\\x92\\x8c</SiteName>\\r\\n    <County>\\xe6\\x96\\xb0\\xe5\\x8c\\x97\\xe5\\xb8\\x82</County>\\r\\n    <AQI>43</AQI>\\r\\n    <Pollutant></Pollutant>\\r\\n    <Status>\\xe8\\x89\\xaf\\xe5\\xa5\\xbd</Status>\\r\\n    <SO2>3.4</SO2>\\r\\n    <CO>1.44</CO>\\r\\n    <CO_8hr>0.9</CO_8hr>\\r\\n    <O3>24</O3>\\r\\n    <O3_8hr>38</O3_8hr>\\r\\n    <PM10>30</PM10>\\r\\n    <PM2.5>23</PM2.5>\\r\\n    <NO2>40</NO2>\\r\\n    <NOx>48</NOx>\\r\\n    <NO>8.1</NO>\\r\\n    <WindSpeed>1.7</WindSpeed>\\r\\n    <WindDirec>64</WindDirec>\\r\\n    <PublishTime>2019-06-26 19:00</PublishTime>\\r\\n    <PM2.5_AVG>13</PM2.5_AVG>\\r\\n    <PM10_AVG>34</PM10_AVG>\\r\\n    <SO2_AVG>2</SO2_AVG>\\r\\n    <Longitude>121.516306</Longitude>\\r\\n    <Latitude>25.017</Latitude>\\r\\n  </Data>\\r\\n  <Data>\\r\\n    <SiteName>\\xe7\\xab\\xb9\\xe5\\xb1\\xb1</SiteName>\\r\\n    <County>\\xe5\\x8d\\x97\\xe6\\x8a\\x95\\xe7\\xb8\\xa3</County>\\r\\n    <AQI>31</AQI>\\r\\n    <Pollutant></Pollutant>\\r\\n    <Status>\\xe8\\x89\\xaf\\xe5\\xa5\\xbd</Status>\\r\\n    <SO2>1.8</SO2>\\r\\n    <CO>0.22</CO>\\r\\n    <CO_8hr>0.1</CO_8hr>\\r\\n    <O3>22</O3>\\r\\n    <O3_8hr>34</O3_8hr>\\r\\n    <PM10>12</PM10>\\r\\n    <PM2.5>ND</PM2.5>\\r\\n    <NO2>7.7</NO2>\\r\\n    <NOx>10</NOx>\\r\\n    <NO>2.6</NO>\\r\\n    <WindSpeed>1.2</WindSpeed>\\r\\n    <WindDirec>4</WindDirec>\\r\\n    <PublishTime>2019-06-26 19:00</PublishTime>\\r\\n    <PM2.5_AVG>3</PM2.5_AVG>\\r\\n    <PM10_AVG>12</PM10_AVG>\\r\\n    <SO2_AVG>2</SO2_AVG>\\r\\n    <Longitude>120.677306</Longitude>\\r\\n    <Latitude>23.756389</Latitude>\\r\\n  </Data>\\r\\n  <Data>\\r\\n    <SiteName>\\xe4\\xb8\\xad\\xe5\\xa3\\xa2</SiteName>\\r\\n    <County>\\xe6\\xa1\\x83\\xe5\\x9c\\x92\\xe5\\xb8\\x82</County>\\r\\n    <AQI>75</AQI>\\r\\n    <Pollutant>\\xe7\\xb4\\xb0\\xe6\\x87\\xb8\\xe6\\xb5\\xae\\xe5\\xbe\\xae\\xe7\\xb2\\x92</Pollutant>\\r\\n    <Status>\\xe6\\x99\\xae\\xe9\\x80\\x9a</Status>\\r\\n    <SO2>2.5</SO2>\\r\\n    <CO>2.02</CO>\\r\\n    <CO_8hr>1.2</CO_8hr>\\r\\n    <O3>17</O3>\\r\\n    <O3_8hr>32</O3_8hr>\\r\\n    <PM10>31</PM10>\\r\\n    <PM2.5>25</PM2.5>\\r\\n    <NO2>41</NO2>\\r\\n    <NOx>85</NOx>\\r\\n    <NO>44</NO>\\r\\n    <WindSpeed>1.8</WindSpeed>\\r\\n    <WindDirec>208</WindDirec>\\r\\n    <PublishTime>2019-06-26 19:00</PublishTime>\\r\\n    <PM2.5_AVG>25</PM2.5_AVG>\\r\\n    <PM10_AVG>32</PM10_AVG>\\r\\n    <SO2_AVG>2</SO2_AVG>\\r\\n    <Longitude>121.221667</Longitude>\\r\\n    <Latitude>24.953278</Latitude>\\r\\n  </Data>\\r\\n  <Data>\\r\\n    <SiteName>\\xe4\\xb8\\x89\\xe9\\x87\\x8d</SiteName>\\r\\n    <County>\\xe6\\x96\\xb0\\xe5\\x8c\\x97\\xe5\\xb8\\x82</County>\\r\\n    <AQI>51</AQI>\\r\\n    <Pollutant>\\xe4\\xba\\x8c\\xe6\\xb0\\xa7\\xe5\\x8c\\x96\\xe6\\xb0\\xae</Pollutant>\\r\\n    <Status>\\xe6\\x99\\xae\\xe9\\x80\\x9a</Status>\\r\\n    <SO2>3.5</SO2>\\r\\n    <CO>1.5</CO>\\r\\n    <CO_8hr>1.1</CO_8hr>\\r\\n    <O3>-</O3>\\r\\n    <O3_8hr></O3_8hr>\\r\\n    <PM10>40</PM10>\\r\\n    <PM2.5>16</PM2.5>\\r\\n    <NO2>54</NO2>\\r\\n    <NOx>108</NOx>\\r\\n    <NO>54</NO>\\r\\n    <WindSpeed></WindSpeed>\\r\\n    <WindDirec></WindDirec>\\r\\n    <PublishTime>2019-06-26 19:00</PublishTime>\\r\\n    <PM2.5_AVG>12</PM2.5_AVG>\\r\\n    <PM10_AVG>33</PM10_AVG>\\r\\n    <SO2_AVG>4</SO2_AVG>\\r\\n    <Longitude>121.493806</Longitude>\\r\\n    <Latitude>25.072611</Latitude>\\r\\n  </Data>\\r\\n  <Data>\\r\\n    <SiteName>\\xe5\\x86\\xac\\xe5\\xb1\\xb1</SiteName>\\r\\n    <County>\\xe5\\xae\\x9c\\xe8\\x98\\xad\\xe7\\xb8\\xa3</County>\\r\\n    <AQI></AQI>\\r\\n    <Pollutant></Pollutant>\\r\\n    <Status>\\xe8\\xa8\\xad\\xe5\\x82\\x99\\xe7\\xb6\\xad\\xe8\\xad\\xb7</Status>\\r\\n    <SO2>-0.3</SO2>\\r\\n    <CO>0.17</CO>\\r\\n    <CO_8hr>0.4</CO_8hr>\\r\\n    <O3>19</O3>\\r\\n    <O3_8hr>17</O3_8hr>\\r\\n    <PM10>7</PM10>\\r\\n    <PM2.5>17</PM2.5>\\r\\n    <NO2>6.5</NO2>\\r\\n    <NOx>7.3</NOx>\\r\\n    <NO>0.8</NO>\\r\\n    <WindSpeed>1.5</WindSpeed>\\r\\n    <WindDirec>259</WindDirec>\\r\\n    <PublishTime>2019-06-26 19:00</PublishTime>\\r\\n    <PM2.5_AVG></PM2.5_AVG>\\r\\n    <PM10_AVG></PM10_AVG>\\r\\n    <SO2_AVG></SO2_AVG>\\r\\n    <Longitude>121.792928</Longitude>\\r\\n    <Latitude>24.632203</Latitude>\\r\\n  </Data>\\r\\n  <Data>\\r\\n    <SiteName>\\xe5\\xae\\x9c\\xe8\\x98\\xad</SiteName>\\r\\n    <County>\\xe5\\xae\\x9c\\xe8\\x98\\xad\\xe7\\xb8\\xa3</County>\\r\\n    <AQI>22</AQI>\\r\\n    <Pollutant></Pollutant>\\r\\n    <Status>\\xe8\\x89\\xaf\\xe5\\xa5\\xbd</Status>\\r\\n    <SO2>1.5</SO2>\\r\\n    <CO>0.21</CO>\\r\\n    <CO_8hr>0.2</CO_8hr>\\r\\n    <O3>15</O3>\\r\\n    <O3_8hr>24</O3_8hr>\\r\\n    <PM10>11</PM10>\\r\\n    <PM2.5>7</PM2.5>\\r\\n    <NO2>8.6</NO2>\\r\\n    <NOx>8.7</NOx>\\r\\n    <NO>0.2</NO>\\r\\n    <WindSpeed>1.3</WindSpeed>\\r\\n    <WindDirec>332</WindDirec>\\r\\n    <PublishTime>2019-06-26 19:00</PublishTime>\\r\\n    <PM2.5_AVG>4</PM2.5_AVG>\\r\\n    <PM10_AVG>7</PM10_AVG>\\r\\n    <SO2_AVG>3</SO2_AVG>\\r\\n    <Longitude>121.746394</Longitude>\\r\\n    <Latitude>24.747917</Latitude>\\r\\n  </Data>\\r\\n  <Data>\\r\\n    <SiteName>\\xe9\\x99\\xbd\\xe6\\x98\\x8e</SiteName>\\r\\n    <County>\\xe8\\x87\\xba\\xe5\\x8c\\x97\\xe5\\xb8\\x82</County>\\r\\n    <AQI>46</AQI>\\r\\n    <Pollutant></Pollutant>\\r\\n    <Status>\\xe8\\x89\\xaf\\xe5\\xa5\\xbd</Status>\\r\\n    <SO2>1.5</SO2>\\r\\n    <CO>0.19</CO>\\r\\n    <CO_8hr>0.2</CO_8hr>\\r\\n    <O3>45</O3>\\r\\n    <O3_8hr>50</O3_8hr>\\r\\n    <PM10>18</PM10>\\r\\n    <PM2.5>10</PM2.5>\\r\\n    <NO2>3.8</NO2>\\r\\n    <NOx>4.3</NOx>\\r\\n    <NO>0.5</NO>\\r\\n    <WindSpeed></WindSpeed>\\r\\n    <WindDirec></WindDirec>\\r\\n    <PublishTime>2019-06-26 19:00</PublishTime>\\r\\n    <PM2.5_AVG>11</PM2.5_AVG>\\r\\n    <PM10_AVG>22</PM10_AVG>\\r\\n    <SO2_AVG>2</SO2_AVG>\\r\\n    <Longitude>121.529583</Longitude>\\r\\n    <Latitude>25.182722</Latitude>\\r\\n  </Data>\\r\\n  <Data>\\r\\n    <SiteName>\\xe8\\x8a\\xb1\\xe8\\x93\\xae</SiteName>\\r\\n    <County>\\xe8\\x8a\\xb1\\xe8\\x93\\xae\\xe7\\xb8\\xa3</County>\\r\\n    <AQI>29</AQI>\\r\\n    <Pollutant></Pollutant>\\r\\n    <Status>\\xe8\\x89\\xaf\\xe5\\xa5\\xbd</Status>\\r\\n    <SO2>1.2</SO2>\\r\\n    <CO>0.3</CO>\\r\\n    <CO_8hr>0.2</CO_8hr>\\r\\n    <O3>26</O3>\\r\\n    <O3_8hr>31</O3_8hr>\\r\\n    <PM10>11</PM10>\\r\\n    <PM2.5>ND</PM2.5>\\r\\n    <NO2>6.5</NO2>\\r\\n    <NOx>7.4</NOx>\\r\\n    <NO>0.9</NO>\\r\\n    <WindSpeed>1</WindSpeed>\\r\\n    <WindDirec>316</WindDirec>\\r\\n    <PublishTime>2019-06-26 19:00</PublishTime>\\r\\n    <PM2.5_AVG>4</PM2.5_AVG>\\r\\n    <PM10_AVG>15</PM10_AVG>\\r\\n    <SO2_AVG>1</SO2_AVG>\\r\\n    <Longitude>121.599769</Longitude>\\r\\n    <Latitude>23.971306</Latitude>\\r\\n  </Data>\\r\\n  <Data>\\r\\n    <SiteName>\\xe8\\x87\\xba\\xe6\\x9d\\xb1</SiteName>\\r\\n    <County>\\xe8\\x87\\xba\\xe6\\x9d\\xb1\\xe7\\xb8\\xa3</County>\\r\\n    <AQI>26</AQI>\\r\\n    <Pollutant></Pollutant>\\r\\n    <Status>\\xe8\\x89\\xaf\\xe5\\xa5\\xbd</Status>\\r\\n    <SO2></SO2>\\r\\n    <CO></CO>\\r\\n    <CO_8hr>0.2</CO_8hr>\\r\\n    <O3></O3>\\r\\n    <O3_8hr>28</O3_8hr>\\r\\n    <PM10></PM10>\\r\\n    <PM2.5></PM2.5>\\r\\n    <NO2></NO2>\\r\\n    <NOx></NOx>\\r\\n    <NO></NO>\\r\\n    <WindSpeed>1.4</WindSpeed>\\r\\n    <WindDirec>63</WindDirec>\\r\\n    <PublishTime>2019-06-26 19:00</PublishTime>\\r\\n    <PM2.5_AVG>3</PM2.5_AVG>\\r\\n    <PM10_AVG>9</PM10_AVG>\\r\\n    <SO2_AVG>1</SO2_AVG>\\r\\n    <Longitude>121.15045</Longitude>\\r\\n    <Latitude>22.755358</Latitude>\\r\\n  </Data>\\r\\n  <Data>\\r\\n    <SiteName>\\xe6\\x81\\x86\\xe6\\x98\\xa5</SiteName>\\r\\n    <County>\\xe5\\xb1\\x8f\\xe6\\x9d\\xb1\\xe7\\xb8\\xa3</County>\\r\\n    <AQI>30</AQI>\\r\\n    <Pollutant></Pollutant>\\r\\n    <Status>\\xe8\\x89\\xaf\\xe5\\xa5\\xbd</Status>\\r\\n    <SO2>1.4</SO2>\\r\\n    <CO>0.07</CO>\\r\\n    <CO_8hr>0.1</CO_8hr>\\r\\n    <O3>30</O3>\\r\\n    <O3_8hr>32</O3_8hr>\\r\\n    <PM10>16</PM10>\\r\\n    <PM2.5>7</PM2.5>\\r\\n    <NO2>1.2</NO2>\\r\\n    <NOx>1.8</NOx>\\r\\n    <NO>0.7</NO>\\r\\n    <WindSpeed>2.5</WindSpeed>\\r\\n    <WindDirec>316</WindDirec>\\r\\n    <PublishTime>2019-06-26 19:00</PublishTime>\\r\\n    <PM2.5_AVG>7</PM2.5_AVG>\\r\\n    <PM10_AVG>10</PM10_AVG>\\r\\n    <SO2_AVG>2</SO2_AVG>\\r\\n    <Longitude>120.788928</Longitude>\\r\\n    <Latitude>21.958069</Latitude>\\r\\n  </Data>\\r\\n  <Data>\\r\\n    <SiteName>\\xe6\\xbd\\xae\\xe5\\xb7\\x9e</SiteName>\\r\\n    <County>\\xe5\\xb1\\x8f\\xe6\\x9d\\xb1\\xe7\\xb8\\xa3</County>\\r\\n    <AQI>28</AQI>\\r\\n    <Pollutant></Pollutant>\\r\\n    <Status>\\xe8\\x89\\xaf\\xe5\\xa5\\xbd</Status>\\r\\n    <SO2>1.2</SO2>\\r\\n    <CO>0.18</CO>\\r\\n    <CO_8hr>0.2</CO_8hr>\\r\\n    <O3>15</O3>\\r\\n    <O3_8hr>30</O3_8hr>\\r\\n    <PM10>19</PM10>\\r\\n    <PM2.5>2</PM2.5>\\r\\n    <NO2>4.1</NO2>\\r\\n    <NOx>5.2</NOx>\\r\\n    <NO>1.2</NO>\\r\\n    <WindSpeed>0.4</WindSpeed>\\r\\n    <WindDirec>248</WindDirec>\\r\\n    <PublishTime>2019-06-26 19:00</PublishTime>\\r\\n    <PM2.5_AVG>8</PM2.5_AVG>\\r\\n    <PM10_AVG>14</PM10_AVG>\\r\\n    <SO2_AVG>1</SO2_AVG>\\r\\n    <Longitude>120.561175</Longitude>\\r\\n    <Latitude>22.523108</Latitude>\\r\\n  </Data>\\r\\n  <Data>\\r\\n    <SiteName>\\xe5\\xb1\\x8f\\xe6\\x9d\\xb1</SiteName>\\r\\n    <County>\\xe5\\xb1\\x8f\\xe6\\x9d\\xb1\\xe7\\xb8\\xa3</County>\\r\\n    <AQI>36</AQI>\\r\\n    <Pollutant></Pollutant>\\r\\n    <Status>\\xe8\\x89\\xaf\\xe5\\xa5\\xbd</Status>\\r\\n    <SO2>1.6</SO2>\\r\\n    <CO>0.69</CO>\\r\\n    <CO_8hr>0.5</CO_8hr>\\r\\n    <O3>15</O3>\\r\\n    <O3_8hr>30</O3_8hr>\\r\\n    <PM10>12</PM10>\\r\\n    <PM2.5>3</PM2.5>\\r\\n    <NO2>19</NO2>\\r\\n    <NOx>20</NOx>\\r\\n    <NO>1.4</NO>\\r\\n    <WindSpeed>0.9</WindSpeed>\\r\\n    <WindDirec>207</WindDirec>\\r\\n    <PublishTime>2019-06-26 19:00</PublishTime>\\r\\n    <PM2.5_AVG>11</PM2.5_AVG>\\r\\n    <PM10_AVG>14</PM10_AVG>\\r\\n    <SO2_AVG>2</SO2_AVG>\\r\\n    <Longitude>120.488033</Longitude>\\r\\n    <Latitude>22.673081</Latitude>\\r\\n  </Data>\\r\\n  <Data>\\r\\n    <SiteName>\\xe5\\xb0\\x8f\\xe6\\xb8\\xaf</SiteName>\\r\\n    <County>\\xe9\\xab\\x98\\xe9\\x9b\\x84\\xe5\\xb8\\x82</County>\\r\\n    <AQI>25</AQI>\\r\\n    <Pollutant></Pollutant>\\r\\n    <Status>\\xe8\\x89\\xaf\\xe5\\xa5\\xbd</Status>\\r\\n    <SO2>2.6</SO2>\\r\\n    <CO>0.35</CO>\\r\\n    <CO_8hr>0.4</CO_8hr>\\r\\n    <O3>15</O3>\\r\\n    <O3_8hr>20</O3_8hr>\\r\\n    <PM10>18</PM10>\\r\\n    <PM2.5>6</PM2.5>\\r\\n    <NO2>19</NO2>\\r\\n    <NOx>21</NOx>\\r\\n    <NO>2.7</NO>\\r\\n    <WindSpeed>2.9</WindSpeed>\\r\\n    <WindDirec>255</WindDirec>\\r\\n    <PublishTime>2019-06-26 19:00</PublishTime>\\r\\n    <PM2.5_AVG>8</PM2.5_AVG>\\r\\n    <PM10_AVG>18</PM10_AVG>\\r\\n    <SO2_AVG>4</SO2_AVG>\\r\\n    <Longitude>120.337736</Longitude>\\r\\n    <Latitude>22.565833</Latitude>\\r\\n  </Data>\\r\\n  <Data>\\r\\n    <SiteName>\\xe5\\x89\\x8d\\xe9\\x8e\\xae</SiteName>\\r\\n    <County>\\xe9\\xab\\x98\\xe9\\x9b\\x84\\xe5\\xb8\\x82</County>\\r\\n    <AQI>25</AQI>\\r\\n    <Pollutant></Pollutant>\\r\\n    <Status>\\xe8\\x89\\xaf\\xe5\\xa5\\xbd</Status>\\r\\n    <SO2>1.9</SO2>\\r\\n    <CO>1.1</CO>\\r\\n    <CO_8hr>0.8</CO_8hr>\\r\\n    <O3>9.1</O3>\\r\\n    <O3_8hr>16</O3_8hr>\\r\\n    <PM10>24</PM10>\\r\\n    <PM2.5>4</PM2.5>\\r\\n    <NO2>26</NO2>\\r\\n    <NOx>39</NOx>\\r\\n    <NO>14</NO>\\r\\n    <WindSpeed>2.6</WindSpeed>\\r\\n    <WindDirec>192</WindDirec>\\r\\n    <PublishTime>2019-06-26 19:00</PublishTime>\\r\\n    <PM2.5_AVG>5</PM2.5_AVG>\\r\\n    <PM10_AVG>22</PM10_AVG>\\r\\n    <SO2_AVG>3</SO2_AVG>\\r\\n    <Longitude>120.307564</Longitude>\\r\\n    <Latitude>22.605386</Latitude>\\r\\n  </Data>\\r\\n  <Data>\\r\\n    <SiteName>\\xe5\\x89\\x8d\\xe9\\x87\\x91</SiteName>\\r\\n    <County>\\xe9\\xab\\x98\\xe9\\x9b\\x84\\xe5\\xb8\\x82</County>\\r\\n    <AQI>23</AQI>\\r\\n    <Pollutant></Pollutant>\\r\\n    <Status>\\xe8\\x89\\xaf\\xe5\\xa5\\xbd</Status>\\r\\n    <SO2>2.1</SO2>\\r\\n    <CO>0.82</CO>\\r\\n    <CO_8hr>0.7</CO_8hr>\\r\\n    <O3>14</O3>\\r\\n    <O3_8hr>23</O3_8hr>\\r\\n    <PM10>12</PM10>\\r\\n    <PM2.5>6</PM2.5>\\r\\n    <NO2>23</NO2>\\r\\n    <NOx>25</NOx>\\r\\n    <NO>2.4</NO>\\r\\n    <WindSpeed>3.4</WindSpeed>\\r\\n    <WindDirec>221</WindDirec>\\r\\n    <PublishTime>2019-06-26 19:00</PublishTime>\\r\\n    <PM2.5_AVG>7</PM2.5_AVG>\\r\\n    <PM10_AVG>16</PM10_AVG>\\r\\n    <SO2_AVG>3</SO2_AVG>\\r\\n    <Longitude>120.288086</Longitude>\\r\\n    <Latitude>22.632567</Latitude>\\r\\n  </Data>\\r\\n  <Data>\\r\\n    <SiteName>\\xe5\\xb7\\xa6\\xe7\\x87\\x9f</SiteName>\\r\\n    <County>\\xe9\\xab\\x98\\xe9\\x9b\\x84\\xe5\\xb8\\x82</County>\\r\\n    <AQI>29</AQI>\\r\\n    <Pollutant></Pollutant>\\r\\n    <Status>\\xe8\\x89\\xaf\\xe5\\xa5\\xbd</Status>\\r\\n    <SO2>2.8</SO2>\\r\\n    <CO>0.81</CO>\\r\\n    <CO_8hr>0.6</CO_8hr>\\r\\n    <O3>12</O3>\\r\\n    <O3_8hr>21</O3_8hr>\\r\\n    <PM10>16</PM10>\\r\\n    <PM2.5>10</PM2.5>\\r\\n    <NO2>26</NO2>\\r\\n    <NOx>29</NOx>\\r\\n    <NO>3.1</NO>\\r\\n    <WindSpeed>3.2</WindSpeed>\\r\\n    <WindDirec>233</WindDirec>\\r\\n    <PublishTime>2019-06-26 19:00</PublishTime>\\r\\n    <PM2.5_AVG>9</PM2.5_AVG>\\r\\n    <PM10_AVG>13</PM10_AVG>\\r\\n    <SO2_AVG>3</SO2_AVG>\\r\\n    <Longitude>120.292917</Longitude>\\r\\n    <Latitude>22.674861</Latitude>\\r\\n  </Data>\\r\\n  <Data>\\r\\n    <SiteName>\\xe6\\xa5\\xa0\\xe6\\xa2\\x93</SiteName>\\r\\n    <County>\\xe9\\xab\\x98\\xe9\\x9b\\x84\\xe5\\xb8\\x82</County>\\r\\n    <AQI>25</AQI>\\r\\n    <Pollutant></Pollutant>\\r\\n    <Status>\\xe8\\x89\\xaf\\xe5\\xa5\\xbd</Status>\\r\\n    <SO2>1.6</SO2>\\r\\n    <CO>0.52</CO>\\r\\n    <CO_8hr>0.4</CO_8hr>\\r\\n    <O3>6.3</O3>\\r\\n    <O3_8hr>20</O3_8hr>\\r\\n    <PM10>13</PM10>\\r\\n    <PM2.5>5</PM2.5>\\r\\n    <NO2>26</NO2>\\r\\n    <NOx>34</NOx>\\r\\n    <NO>7.5</NO>\\r\\n    <WindSpeed>2.1</WindSpeed>\\r\\n    <WindDirec>188</WindDirec>\\r\\n    <PublishTime>2019-06-26 19:00</PublishTime>\\r\\n    <PM2.5_AVG>5</PM2.5_AVG>\\r\\n    <PM10_AVG>12</PM10_AVG>\\r\\n    <SO2_AVG>3</SO2_AVG>\\r\\n    <Longitude>120.328289</Longitude>\\r\\n    <Latitude>22.733667</Latitude>\\r\\n  </Data>\\r\\n  <Data>\\r\\n    <SiteName>\\xe6\\x9e\\x97\\xe5\\x9c\\x92</SiteName>\\r\\n    <County>\\xe9\\xab\\x98\\xe9\\x9b\\x84\\xe5\\xb8\\x82</County>\\r\\n    <AQI>34</AQI>\\r\\n    <Pollutant></Pollutant>\\r\\n    <Status>\\xe8\\x89\\xaf\\xe5\\xa5\\xbd</Status>\\r\\n    <SO2>1.4</SO2>\\r\\n    <CO>0.18</CO>\\r\\n    <CO_8hr>0.3</CO_8hr>\\r\\n    <O3>29</O3>\\r\\n    <O3_8hr>37</O3_8hr>\\r\\n    <PM10>21</PM10>\\r\\n    <PM2.5>9</PM2.5>\\r\\n    <NO2>6.6</NO2>\\r\\n    <NOx>7.2</NOx>\\r\\n    <NO>0.6</NO>\\r\\n    <WindSpeed>4.4</WindSpeed>\\r\\n    <WindDirec>230</WindDirec>\\r\\n    <PublishTime>2019-06-26 19:00</PublishTime>\\r\\n    <PM2.5_AVG>8</PM2.5_AVG>\\r\\n    <PM10_AVG>18</PM10_AVG>\\r\\n    <SO2_AVG>2</SO2_AVG>\\r\\n    <Longitude>120.41175</Longitude>\\r\\n    <Latitude>22.4795</Latitude>\\r\\n  </Data>\\r\\n  <Data>\\r\\n    <SiteName>\\xe5\\xa4\\xa7\\xe5\\xaf\\xae</SiteName>\\r\\n    <County>\\xe9\\xab\\x98\\xe9\\x9b\\x84\\xe5\\xb8\\x82</County>\\r\\n    <AQI>39</AQI>\\r\\n    <Pollutant></Pollutant>\\r\\n    <Status>\\xe8\\x89\\xaf\\xe5\\xa5\\xbd</Status>\\r\\n    <SO2>9</SO2>\\r\\n    <CO>0.29</CO>\\r\\n    <CO_8hr>0.4</CO_8hr>\\r\\n    <O3>17</O3>\\r\\n    <O3_8hr>25</O3_8hr>\\r\\n    <PM10>27</PM10>\\r\\n    <PM2.5>11</PM2.5>\\r\\n    <NO2>15</NO2>\\r\\n    <NOx>16</NOx>\\r\\n    <NO>1.1</NO>\\r\\n    <WindSpeed>3.5</WindSpeed>\\r\\n    <WindDirec>232</WindDirec>\\r\\n    <PublishTime>2019-06-26 19:00</PublishTime>\\r\\n    <PM2.5_AVG>12</PM2.5_AVG>\\r\\n    <PM10_AVG>20</PM10_AVG>\\r\\n    <SO2_AVG>5</SO2_AVG>\\r\\n    <Longitude>120.425081</Longitude>\\r\\n    <Latitude>22.565747</Latitude>\\r\\n  </Data>\\r\\n  <Data>\\r\\n    <SiteName>\\xe9\\xb3\\xb3\\xe5\\xb1\\xb1</SiteName>\\r\\n    <County>\\xe9\\xab\\x98\\xe9\\x9b\\x84\\xe5\\xb8\\x82</County>\\r\\n    <AQI>39</AQI>\\r\\n    <Pollutant></Pollutant>\\r\\n    <Status>\\xe8\\x89\\xaf\\xe5\\xa5\\xbd</Status>\\r\\n    <SO2>1.1</SO2>\\r\\n    <CO>0.87</CO>\\r\\n    <CO_8hr>0.6</CO_8hr>\\r\\n    <O3>13</O3>\\r\\n    <O3_8hr>25</O3_8hr>\\r\\n    <PM10>20</PM10>\\r\\n    <PM2.5>6</PM2.5>\\r\\n    <NO2>24</NO2>\\r\\n    <NOx>27</NOx>\\r\\n    <NO>3.6</NO>\\r\\n    <WindSpeed>1.9</WindSpeed>\\r\\n    <WindDirec>105</WindDirec>\\r\\n    <PublishTime>2019-06-26 19:00</PublishTime>\\r\\n    <PM2.5_AVG>12</PM2.5_AVG>\\r\\n    <PM10_AVG>21</PM10_AVG>\\r\\n    <SO2_AVG>2</SO2_AVG>\\r\\n    <Longitude>120.358083</Longitude>\\r\\n    <Latitude>22.627392</Latitude>\\r\\n  </Data>\\r\\n  <Data>\\r\\n    <SiteName>\\xe4\\xbb\\x81\\xe6\\xad\\xa6</SiteName>\\r\\n    <County>\\xe9\\xab\\x98\\xe9\\x9b\\x84\\xe5\\xb8\\x82</County>\\r\\n    <AQI>34</AQI>\\r\\n    <Pollutant></Pollutant>\\r\\n    <Status>\\xe8\\x89\\xaf\\xe5\\xa5\\xbd</Status>\\r\\n    <SO2>2.8</SO2>\\r\\n    <CO>0.46</CO>\\r\\n    <CO_8hr>0.4</CO_8hr>\\r\\n    <O3>16</O3>\\r\\n    <O3_8hr>27</O3_8hr>\\r\\n    <PM10>20</PM10>\\r\\n    <PM2.5>6</PM2.5>\\r\\n    <NO2>16</NO2>\\r\\n    <NOx>17</NOx>\\r\\n    <NO>0.9</NO>\\r\\n    <WindSpeed>2.3</WindSpeed>\\r\\n    <WindDirec>187</WindDirec>\\r\\n    <PublishTime>2019-06-26 19:00</PublishTime>\\r\\n    <PM2.5_AVG>10</PM2.5_AVG>\\r\\n    <PM10_AVG>14</PM10_AVG>\\r\\n    <SO2_AVG>3</SO2_AVG>\\r\\n    <Longitude>120.332631</Longitude>\\r\\n    <Latitude>22.689056</Latitude>\\r\\n  </Data>\\r\\n  <Data>\\r\\n    <SiteName>\\xe6\\xa9\\x8b\\xe9\\xa0\\xad</SiteName>\\r\\n    <County>\\xe9\\xab\\x98\\xe9\\x9b\\x84\\xe5\\xb8\\x82</County>\\r\\n    <AQI>25</AQI>\\r\\n    <Pollutant></Pollutant>\\r\\n    <Status>\\xe8\\x89\\xaf\\xe5\\xa5\\xbd</Status>\\r\\n    <SO2>1.6</SO2>\\r\\n    <CO>0.56</CO>\\r\\n    <CO_8hr>0.4</CO_8hr>\\r\\n    <O3>9.6</O3>\\r\\n    <O3_8hr>27</O3_8hr>\\r\\n    <PM10>21</PM10>\\r\\n    <PM2.5>9</PM2.5>\\r\\n    <NO2>21</NO2>\\r\\n    <NOx>24</NOx>\\r\\n    <NO>2.7</NO>\\r\\n    <WindSpeed>2.2</WindSpeed>\\r\\n    <WindDirec>168</WindDirec>\\r\\n    <PublishTime>2019-06-26 19:00</PublishTime>\\r\\n    <PM2.5_AVG>5</PM2.5_AVG>\\r\\n    <PM10_AVG>14</PM10_AVG>\\r\\n    <SO2_AVG>2</SO2_AVG>\\r\\n    <Longitude>120.305689</Longitude>\\r\\n    <Latitude>22.757506</Latitude>\\r\\n  </Data>\\r\\n  <Data>\\r\\n    <SiteName>\\xe7\\xbe\\x8e\\xe6\\xbf\\x83</SiteName>\\r\\n    <County>\\xe9\\xab\\x98\\xe9\\x9b\\x84\\xe5\\xb8\\x82</County>\\r\\n    <AQI>24</AQI>\\r\\n    <Pollutant></Pollutant>\\r\\n    <Status>\\xe8\\x89\\xaf\\xe5\\xa5\\xbd</Status>\\r\\n    <SO2>1.6</SO2>\\r\\n    <CO>0.25</CO>\\r\\n    <CO_8hr>0.2</CO_8hr>\\r\\n    <O3>16</O3>\\r\\n    <O3_8hr>26</O3_8hr>\\r\\n    <PM10>15</PM10>\\r\\n    <PM2.5>6</PM2.5>\\r\\n    <NO2>5.2</NO2>\\r\\n    <NOx>8.8</NOx>\\r\\n    <NO>3.7</NO>\\r\\n    <WindSpeed>0.4</WindSpeed>\\r\\n    <WindDirec>237</WindDirec>\\r\\n    <PublishTime>2019-06-26 19:00</PublishTime>\\r\\n    <PM2.5_AVG>4</PM2.5_AVG>\\r\\n    <PM10_AVG>15</PM10_AVG>\\r\\n    <SO2_AVG>2</SO2_AVG>\\r\\n    <Longitude>120.530542</Longitude>\\r\\n    <Latitude>22.883583</Latitude>\\r\\n  </Data>\\r\\n  <Data>\\r\\n    <SiteName>\\xe8\\x87\\xba\\xe5\\x8d\\x97</SiteName>\\r\\n    <County>\\xe8\\x87\\xba\\xe5\\x8d\\x97\\xe5\\xb8\\x82</County>\\r\\n    <AQI>29</AQI>\\r\\n    <Pollutant></Pollutant>\\r\\n    <Status>\\xe8\\x89\\xaf\\xe5\\xa5\\xbd</Status>\\r\\n    <SO2>1.6</SO2>\\r\\n    <CO>0.38</CO>\\r\\n    <CO_8hr>0.3</CO_8hr>\\r\\n    <O3>21</O3>\\r\\n    <O3_8hr>31</O3_8hr>\\r\\n    <PM10>11</PM10>\\r\\n    <PM2.5>4</PM2.5>\\r\\n    <NO2>11</NO2>\\r\\n    <NOx>13</NOx>\\r\\n    <NO>2.1</NO>\\r\\n    <WindSpeed>1.7</WindSpeed>\\r\\n    <WindDirec>148</WindDirec>\\r\\n    <PublishTime>2019-06-26 19:00</PublishTime>\\r\\n    <PM2.5_AVG>4</PM2.5_AVG>\\r\\n    <PM10_AVG>14</PM10_AVG>\\r\\n    <SO2_AVG>2</SO2_AVG>\\r\\n    <Longitude>120.202617</Longitude>\\r\\n    <Latitude>22.984581</Latitude>\\r\\n  </Data>\\r\\n  <Data>\\r\\n    <SiteName>\\xe5\\xae\\x89\\xe5\\x8d\\x97</SiteName>\\r\\n    <County>\\xe8\\x87\\xba\\xe5\\x8d\\x97\\xe5\\xb8\\x82</County>\\r\\n    <AQI>29</AQI>\\r\\n    <Pollutant></Pollutant>\\r\\n    <Status>\\xe8\\x89\\xaf\\xe5\\xa5\\xbd</Status>\\r\\n    <SO2>2.7</SO2>\\r\\n    <CO>0.33</CO>\\r\\n    <CO_8hr>0.3</CO_8hr>\\r\\n    <O3>21</O3>\\r\\n    <O3_8hr>31</O3_8hr>\\r\\n    <PM10>24</PM10>\\r\\n    <PM2.5>6</PM2.5>\\r\\n    <NO2>10</NO2>\\r\\n    <NOx>12</NOx>\\r\\n    <NO>1.5</NO>\\r\\n    <WindSpeed>3.9</WindSpeed>\\r\\n    <WindDirec>131</WindDirec>\\r\\n    <PublishTime>2019-06-26 19:00</PublishTime>\\r\\n    <PM2.5_AVG>8</PM2.5_AVG>\\r\\n    <PM10_AVG>27</PM10_AVG>\\r\\n    <SO2_AVG>2</SO2_AVG>\\r\\n    <Longitude>120.2175</Longitude>\\r\\n    <Latitude>23.048197</Latitude>\\r\\n  </Data>\\r\\n  <Data>\\r\\n    <SiteName>\\xe5\\x96\\x84\\xe5\\x8c\\x96</SiteName>\\r\\n    <County>\\xe8\\x87\\xba\\xe5\\x8d\\x97\\xe5\\xb8\\x82</County>\\r\\n    <AQI>30</AQI>\\r\\n    <Pollutant></Pollutant>\\r\\n    <Status>\\xe8\\x89\\xaf\\xe5\\xa5\\xbd</Status>\\r\\n    <SO2>0.8</SO2>\\r\\n    <CO>0.12</CO>\\r\\n    <CO_8hr>0.1</CO_8hr>\\r\\n    <O3>25</O3>\\r\\n    <O3_8hr>32</O3_8hr>\\r\\n    <PM10>17</PM10>\\r\\n    <PM2.5>2</PM2.5>\\r\\n    <NO2>2.1</NO2>\\r\\n    <NOx>4.9</NOx>\\r\\n    <NO>2.8</NO>\\r\\n    <WindSpeed>2.7</WindSpeed>\\r\\n    <WindDirec>142</WindDirec>\\r\\n    <PublishTime>2019-06-26 19:00</PublishTime>\\r\\n    <PM2.5_AVG>2</PM2.5_AVG>\\r\\n    <PM10_AVG>17</PM10_AVG>\\r\\n    <SO2_AVG>2</SO2_AVG>\\r\\n    <Longitude>120.297142</Longitude>\\r\\n    <Latitude>23.115097</Latitude>\\r\\n  </Data>\\r\\n  <Data>\\r\\n    <SiteName>\\xe6\\x96\\xb0\\xe7\\x87\\x9f</SiteName>\\r\\n    <County>\\xe8\\x87\\xba\\xe5\\x8d\\x97\\xe5\\xb8\\x82</County>\\r\\n    <AQI>29</AQI>\\r\\n    <Pollutant></Pollutant>\\r\\n    <Status>\\xe8\\x89\\xaf\\xe5\\xa5\\xbd</Status>\\r\\n    <SO2>1.9</SO2>\\r\\n    <CO>0.33</CO>\\r\\n    <CO_8hr>0.3</CO_8hr>\\r\\n    <O3>19</O3>\\r\\n    <O3_8hr>27</O3_8hr>\\r\\n    <PM10>15</PM10>\\r\\n    <PM2.5>7</PM2.5>\\r\\n    <NO2>7.2</NO2>\\r\\n    <NOx>8</NOx>\\r\\n    <NO>0.9</NO>\\r\\n    <WindSpeed>1.1</WindSpeed>\\r\\n    <WindDirec>198</WindDirec>\\r\\n    <PublishTime>2019-06-26 19:00</PublishTime>\\r\\n    <PM2.5_AVG>9</PM2.5_AVG>\\r\\n    <PM10_AVG>16</PM10_AVG>\\r\\n    <SO2_AVG>2</SO2_AVG>\\r\\n    <Longitude>120.31725</Longitude>\\r\\n    <Latitude>23.305633</Latitude>\\r\\n  </Data>\\r\\n  <Data>\\r\\n    <SiteName>\\xe5\\x98\\x89\\xe7\\xbe\\xa9</SiteName>\\r\\n    <County>\\xe5\\x98\\x89\\xe7\\xbe\\xa9\\xe5\\xb8\\x82</County>\\r\\n    <AQI>27</AQI>\\r\\n    <Pollutant></Pollutant>\\r\\n    <Status>\\xe8\\x89\\xaf\\xe5\\xa5\\xbd</Status>\\r\\n    <SO2>1.1</SO2>\\r\\n    <CO>0.27</CO>\\r\\n    <CO_8hr>0.2</CO_8hr>\\r\\n    <O3>24</O3>\\r\\n    <O3_8hr>29</O3_8hr>\\r\\n    <PM10>3</PM10>\\r\\n    <PM2.5>ND</PM2.5>\\r\\n    <NO2>7.6</NO2>\\r\\n    <NOx>8.6</NOx>\\r\\n    <NO>1</NO>\\r\\n    <WindSpeed>1.4</WindSpeed>\\r\\n    <WindDirec>127</WindDirec>\\r\\n    <PublishTime>2019-06-26 19:00</PublishTime>\\r\\n    <PM2.5_AVG>2</PM2.5_AVG>\\r\\n    <PM10_AVG>8</PM10_AVG>\\r\\n    <SO2_AVG>2</SO2_AVG>\\r\\n    <Longitude>120.440833</Longitude>\\r\\n    <Latitude>23.462778</Latitude>\\r\\n  </Data>\\r\\n  <Data>\\r\\n    <SiteName>\\xe8\\x87\\xba\\xe8\\xa5\\xbf</SiteName>\\r\\n    <County>\\xe9\\x9b\\xb2\\xe6\\x9e\\x97\\xe7\\xb8\\xa3</County>\\r\\n    <AQI>30</AQI>\\r\\n    <Pollutant></Pollutant>\\r\\n    <Status>\\xe8\\x89\\xaf\\xe5\\xa5\\xbd</Status>\\r\\n    <SO2>1.2</SO2>\\r\\n    <CO>0.18</CO>\\r\\n    <CO_8hr>0.2</CO_8hr>\\r\\n    <O3>27</O3>\\r\\n    <O3_8hr>32</O3_8hr>\\r\\n    <PM10>6</PM10>\\r\\n    <PM2.5>6</PM2.5>\\r\\n    <NO2>5.4</NO2>\\r\\n    <NOx>6.5</NOx>\\r\\n    <NO>1.2</NO>\\r\\n    <WindSpeed>3</WindSpeed>\\r\\n    <WindDirec>148</WindDirec>\\r\\n    <PublishTime>2019-06-26 19:00</PublishTime>\\r\\n    <PM2.5_AVG>5</PM2.5_AVG>\\r\\n    <PM10_AVG>8</PM10_AVG>\\r\\n    <SO2_AVG>1</SO2_AVG>\\r\\n    <Longitude>120.202842</Longitude>\\r\\n    <Latitude>23.717533</Latitude>\\r\\n  </Data>\\r\\n  <Data>\\r\\n    <SiteName>\\xe6\\x9c\\xb4\\xe5\\xad\\x90</SiteName>\\r\\n    <County>\\xe5\\x98\\x89\\xe7\\xbe\\xa9\\xe7\\xb8\\xa3</County>\\r\\n    <AQI>24</AQI>\\r\\n    <Pollutant></Pollutant>\\r\\n    <Status>\\xe8\\x89\\xaf\\xe5\\xa5\\xbd</Status>\\r\\n    <SO2>1.6</SO2>\\r\\n    <CO>0.33</CO>\\r\\n    <CO_8hr>0.3</CO_8hr>\\r\\n    <O3>22</O3>\\r\\n    <O3_8hr>26</O3_8hr>\\r\\n    <PM10>12</PM10>\\r\\n    <PM2.5>5</PM2.5>\\r\\n    <NO2>8.3</NO2>\\r\\n    <NOx>13</NOx>\\r\\n    <NO>4.3</NO>\\r\\n    <WindSpeed>1.4</WindSpeed>\\r\\n    <WindDirec>139</WindDirec>\\r\\n    <PublishTime>2019-06-26 19:00</PublishTime>\\r\\n    <PM2.5_AVG>6</PM2.5_AVG>\\r\\n    <PM10_AVG>11</PM10_AVG>\\r\\n    <SO2_AVG>2</SO2_AVG>\\r\\n    <Longitude>120.24781</Longitude>\\r\\n    <Latitude>23.467123</Latitude>\\r\\n  </Data>\\r\\n  <Data>\\r\\n    <SiteName>\\xe6\\x96\\xb0\\xe6\\xb8\\xaf</SiteName>\\r\\n    <County>\\xe5\\x98\\x89\\xe7\\xbe\\xa9\\xe7\\xb8\\xa3</County>\\r\\n    <AQI>24</AQI>\\r\\n    <Pollutant></Pollutant>\\r\\n    <Status>\\xe8\\x89\\xaf\\xe5\\xa5\\xbd</Status>\\r\\n    <SO2></SO2>\\r\\n    <CO>0.33</CO>\\r\\n    <CO_8hr>0.3</CO_8hr>\\r\\n    <O3>23</O3>\\r\\n    <O3_8hr>24</O3_8hr>\\r\\n    <PM10>6</PM10>\\r\\n    <PM2.5>ND</PM2.5>\\r\\n    <NO2>8.1</NO2>\\r\\n    <NOx>9.3</NOx>\\r\\n    <NO>1.2</NO>\\r\\n    <WindSpeed>1.1</WindSpeed>\\r\\n    <WindDirec>147</WindDirec>\\r\\n    <PublishTime>2019-06-26 19:00</PublishTime>\\r\\n    <PM2.5_AVG>7</PM2.5_AVG>\\r\\n    <PM10_AVG>8</PM10_AVG>\\r\\n    <SO2_AVG>3</SO2_AVG>\\r\\n    <Longitude>120.345531</Longitude>\\r\\n    <Latitude>23.554839</Latitude>\\r\\n  </Data>\\r\\n  <Data>\\r\\n    <SiteName>\\xe5\\xb4\\x99\\xe8\\x83\\x8c</SiteName>\\r\\n    <County>\\xe9\\x9b\\xb2\\xe6\\x9e\\x97\\xe7\\xb8\\xa3</County>\\r\\n    <AQI>29</AQI>\\r\\n    <Pollutant></Pollutant>\\r\\n    <Status>\\xe8\\x89\\xaf\\xe5\\xa5\\xbd</Status>\\r\\n    <SO2>1.3</SO2>\\r\\n    <CO>0.16</CO>\\r\\n    <CO_8hr>0.2</CO_8hr>\\r\\n    <O3>27</O3>\\r\\n    <O3_8hr>31</O3_8hr>\\r\\n    <PM10>7</PM10>\\r\\n    <PM2.5>ND</PM2.5>\\r\\n    <NO2>4.3</NO2>\\r\\n    <NOx>5.6</NOx>\\r\\n    <NO>1.3</NO>\\r\\n    <WindSpeed>1.5</WindSpeed>\\r\\n    <WindDirec>159</WindDirec>\\r\\n    <PublishTime>2019-06-26 19:00</PublishTime>\\r\\n    <PM2.5_AVG>4</PM2.5_AVG>\\r\\n    <PM10_AVG>9</PM10_AVG>\\r\\n    <SO2_AVG>2</SO2_AVG>\\r\\n    <Longitude>120.348742</Longitude>\\r\\n    <Latitude>23.757547</Latitude>\\r\\n  </Data>\\r\\n  <Data>\\r\\n    <SiteName>\\xe6\\x96\\x97\\xe5\\x85\\xad</SiteName>\\r\\n    <County>\\xe9\\x9b\\xb2\\xe6\\x9e\\x97\\xe7\\xb8\\xa3</County>\\r\\n    <AQI></AQI>\\r\\n    <Pollutant></Pollutant>\\r\\n    <Status>\\xe8\\xa8\\xad\\xe5\\x82\\x99\\xe7\\xb6\\xad\\xe8\\xad\\xb7</Status>\\r\\n    <SO2></SO2>\\r\\n    <CO></CO>\\r\\n    <CO_8hr></CO_8hr>\\r\\n    <O3></O3>\\r\\n    <O3_8hr></O3_8hr>\\r\\n    <PM10></PM10>\\r\\n    <PM2.5></PM2.5>\\r\\n    <NO2></NO2>\\r\\n    <NOx></NOx>\\r\\n    <NO></NO>\\r\\n    <WindSpeed></WindSpeed>\\r\\n    <WindDirec></WindDirec>\\r\\n    <PublishTime>2019-06-26 19:00</PublishTime>\\r\\n    <PM2.5_AVG></PM2.5_AVG>\\r\\n    <PM10_AVG></PM10_AVG>\\r\\n    <SO2_AVG></SO2_AVG>\\r\\n    <Longitude>120.544994</Longitude>\\r\\n    <Latitude>23.711853</Latitude>\\r\\n  </Data>\\r\\n  <Data>\\r\\n    <SiteName>\\xe5\\x8d\\x97\\xe6\\x8a\\x95</SiteName>\\r\\n    <County>\\xe5\\x8d\\x97\\xe6\\x8a\\x95\\xe7\\xb8\\xa3</County>\\r\\n    <AQI>28</AQI>\\r\\n    <Pollutant></Pollutant>\\r\\n    <Status>\\xe8\\x89\\xaf\\xe5\\xa5\\xbd</Status>\\r\\n    <SO2>1.1</SO2>\\r\\n    <CO>0.23</CO>\\r\\n    <CO_8hr>0.2</CO_8hr>\\r\\n    <O3>24</O3>\\r\\n    <O3_8hr>30</O3_8hr>\\r\\n    <PM10>7</PM10>\\r\\n    <PM2.5>ND</PM2.5>\\r\\n    <NO2>5.9</NO2>\\r\\n    <NOx>6.7</NOx>\\r\\n    <NO>0.8</NO>\\r\\n    <WindSpeed>1.7</WindSpeed>\\r\\n    <WindDirec>153</WindDirec>\\r\\n    <PublishTime>2019-06-26 19:00</PublishTime>\\r\\n    <PM2.5_AVG>4</PM2.5_AVG>\\r\\n    <PM10_AVG>13</PM10_AVG>\\r\\n    <SO2_AVG>1</SO2_AVG>\\r\\n    <Longitude>120.685306</Longitude>\\r\\n    <Latitude>23.913</Latitude>\\r\\n  </Data>\\r\\n  <Data>\\r\\n    <SiteName>\\xe4\\xba\\x8c\\xe6\\x9e\\x97</SiteName>\\r\\n    <County>\\xe5\\xbd\\xb0\\xe5\\x8c\\x96\\xe7\\xb8\\xa3</County>\\r\\n    <AQI>31</AQI>\\r\\n    <Pollutant></Pollutant>\\r\\n    <Status>\\xe8\\x89\\xaf\\xe5\\xa5\\xbd</Status>\\r\\n    <SO2>1.8</SO2>\\r\\n    <CO>0.17</CO>\\r\\n    <CO_8hr>0.1</CO_8hr>\\r\\n    <O3>24</O3>\\r\\n    <O3_8hr>34</O3_8hr>\\r\\n    <PM10>14</PM10>\\r\\n    <PM2.5>12</PM2.5>\\r\\n    <NO2>7.8</NO2>\\r\\n    <NOx>8.5</NOx>\\r\\n    <NO>0.7</NO>\\r\\n    <WindSpeed>1.8</WindSpeed>\\r\\n    <WindDirec>165</WindDirec>\\r\\n    <PublishTime>2019-06-26 19:00</PublishTime>\\r\\n    <PM2.5_AVG>9</PM2.5_AVG>\\r\\n    <PM10_AVG>13</PM10_AVG>\\r\\n    <SO2_AVG>2</SO2_AVG>\\r\\n    <Longitude>120.409653</Longitude>\\r\\n    <Latitude>23.925175</Latitude>\\r\\n  </Data>\\r\\n  <Data>\\r\\n    <SiteName>\\xe7\\xb7\\x9a\\xe8\\xa5\\xbf</SiteName>\\r\\n    <County>\\xe5\\xbd\\xb0\\xe5\\x8c\\x96\\xe7\\xb8\\xa3</County>\\r\\n    <AQI>34</AQI>\\r\\n    <Pollutant></Pollutant>\\r\\n    <Status>\\xe8\\x89\\xaf\\xe5\\xa5\\xbd</Status>\\r\\n    <SO2>2.7</SO2>\\r\\n    <CO>0.23</CO>\\r\\n    <CO_8hr>0.2</CO_8hr>\\r\\n    <O3>31</O3>\\r\\n    <O3_8hr>37</O3_8hr>\\r\\n    <PM10>13</PM10>\\r\\n    <PM2.5>8</PM2.5>\\r\\n    <NO2>7.8</NO2>\\r\\n    <NOx>9</NOx>\\r\\n    <NO>1.2</NO>\\r\\n    <WindSpeed>2.4</WindSpeed>\\r\\n    <WindDirec>194</WindDirec>\\r\\n    <PublishTime>2019-06-26 19:00</PublishTime>\\r\\n    <PM2.5_AVG>6</PM2.5_AVG>\\r\\n    <PM10_AVG>13</PM10_AVG>\\r\\n    <SO2_AVG>3</SO2_AVG>\\r\\n    <Longitude>120.469061</Longitude>\\r\\n    <Latitude>24.131672</Latitude>\\r\\n  </Data>\\r\\n  <Data>\\r\\n    <SiteName>\\xe5\\xbd\\xb0\\xe5\\x8c\\x96</SiteName>\\r\\n    <County>\\xe5\\xbd\\xb0\\xe5\\x8c\\x96\\xe7\\xb8\\xa3</County>\\r\\n    <AQI>31</AQI>\\r\\n    <Pollutant></Pollutant>\\r\\n    <Status>\\xe8\\x89\\xaf\\xe5\\xa5\\xbd</Status>\\r\\n    <SO2>1.9</SO2>\\r\\n    <CO>0.31</CO>\\r\\n    <CO_8hr>0.2</CO_8hr>\\r\\n    <O3>28</O3>\\r\\n    <O3_8hr>33</O3_8hr>\\r\\n    <PM10></PM10>\\r\\n    <PM2.5>11</PM2.5>\\r\\n    <NO2>8.7</NO2>\\r\\n    <NOx>9</NOx>\\r\\n    <NO>0.3</NO>\\r\\n    <WindSpeed>1.7</WindSpeed>\\r\\n    <WindDirec>184</WindDirec>\\r\\n    <PublishTime>2019-06-26 19:00</PublishTime>\\r\\n    <PM2.5_AVG>8</PM2.5_AVG>\\r\\n    <PM10_AVG></PM10_AVG>\\r\\n    <SO2_AVG>2</SO2_AVG>\\r\\n    <Longitude>120.541519</Longitude>\\r\\n    <Latitude>24.066</Latitude>\\r\\n  </Data>\\r\\n  <Data>\\r\\n    <SiteName>\\xe8\\xa5\\xbf\\xe5\\xb1\\xaf</SiteName>\\r\\n    <County>\\xe8\\x87\\xba\\xe4\\xb8\\xad\\xe5\\xb8\\x82</County>\\r\\n    <AQI>35</AQI>\\r\\n    <Pollutant></Pollutant>\\r\\n    <Status>\\xe8\\x89\\xaf\\xe5\\xa5\\xbd</Status>\\r\\n    <SO2>3.5</SO2>\\r\\n    <CO>0.3</CO>\\r\\n    <CO_8hr>0.2</CO_8hr>\\r\\n    <O3>27</O3>\\r\\n    <O3_8hr>38</O3_8hr>\\r\\n    <PM10>14</PM10>\\r\\n    <PM2.5>10</PM2.5>\\r\\n    <NO2>14</NO2>\\r\\n    <NOx>16</NOx>\\r\\n    <NO>1.4</NO>\\r\\n    <WindSpeed>2.6</WindSpeed>\\r\\n    <WindDirec>135</WindDirec>\\r\\n    <PublishTime>2019-06-26 19:00</PublishTime>\\r\\n    <PM2.5_AVG>8</PM2.5_AVG>\\r\\n    <PM10_AVG>22</PM10_AVG>\\r\\n    <SO2_AVG>3</SO2_AVG>\\r\\n    <Longitude>120.616917</Longitude>\\r\\n    <Latitude>24.162197</Latitude>\\r\\n  </Data>\\r\\n  <Data>\\r\\n    <SiteName>\\xe5\\xbf\\xa0\\xe6\\x98\\x8e</SiteName>\\r\\n    <County>\\xe8\\x87\\xba\\xe4\\xb8\\xad\\xe5\\xb8\\x82</County>\\r\\n    <AQI>42</AQI>\\r\\n    <Pollutant></Pollutant>\\r\\n    <Status>\\xe8\\x89\\xaf\\xe5\\xa5\\xbd</Status>\\r\\n    <SO2>1.6</SO2>\\r\\n    <CO>0.35</CO>\\r\\n    <CO_8hr>0.3</CO_8hr>\\r\\n    <O3>27</O3>\\r\\n    <O3_8hr>34</O3_8hr>\\r\\n    <PM10>6</PM10>\\r\\n    <PM2.5>7</PM2.5>\\r\\n    <NO2>12</NO2>\\r\\n    <NOx>14</NOx>\\r\\n    <NO>1.1</NO>\\r\\n    <WindSpeed>2.1</WindSpeed>\\r\\n    <WindDirec>152</WindDirec>\\r\\n    <PublishTime>2019-06-26 19:00</PublishTime>\\r\\n    <PM2.5_AVG>13</PM2.5_AVG>\\r\\n    <PM10_AVG>10</PM10_AVG>\\r\\n    <SO2_AVG>2</SO2_AVG>\\r\\n    <Longitude>120.641092</Longitude>\\r\\n    <Latitude>24.151958</Latitude>\\r\\n  </Data>\\r\\n  <Data>\\r\\n    <SiteName>\\xe5\\xa4\\xa7\\xe9\\x87\\x8c</SiteName>\\r\\n    <County>\\xe8\\x87\\xba\\xe4\\xb8\\xad\\xe5\\xb8\\x82</County>\\r\\n    <AQI>30</AQI>\\r\\n    <Pollutant></Pollutant>\\r\\n    <Status>\\xe8\\x89\\xaf\\xe5\\xa5\\xbd</Status>\\r\\n    <SO2>2.4</SO2>\\r\\n    <CO>0.43</CO>\\r\\n    <CO_8hr>0.3</CO_8hr>\\r\\n    <O3>25</O3>\\r\\n    <O3_8hr>32</O3_8hr>\\r\\n    <PM10>10</PM10>\\r\\n    <PM2.5>ND</PM2.5>\\r\\n    <NO2>11</NO2>\\r\\n    <NOx>12</NOx>\\r\\n    <NO>1.4</NO>\\r\\n    <WindSpeed>1.1</WindSpeed>\\r\\n    <WindDirec>243</WindDirec>\\r\\n    <PublishTime>2019-06-26 19:00</PublishTime>\\r\\n    <PM2.5_AVG>7</PM2.5_AVG>\\r\\n    <PM10_AVG>17</PM10_AVG>\\r\\n    <SO2_AVG>3</SO2_AVG>\\r\\n    <Longitude>120.677689</Longitude>\\r\\n    <Latitude>24.099611</Latitude>\\r\\n  </Data>\\r\\n  <Data>\\r\\n    <SiteName>\\xe6\\xb2\\x99\\xe9\\xb9\\xbf</SiteName>\\r\\n    <County>\\xe8\\x87\\xba\\xe4\\xb8\\xad\\xe5\\xb8\\x82</County>\\r\\n    <AQI>34</AQI>\\r\\n    <Pollutant></Pollutant>\\r\\n    <Status>\\xe8\\x89\\xaf\\xe5\\xa5\\xbd</Status>\\r\\n    <SO2>1.8</SO2>\\r\\n    <CO>0.3</CO>\\r\\n    <CO_8hr>0.3</CO_8hr>\\r\\n    <O3>27</O3>\\r\\n    <O3_8hr>37</O3_8hr>\\r\\n    <PM10>5</PM10>\\r\\n    <PM2.5>ND</PM2.5>\\r\\n    <NO2>13</NO2>\\r\\n    <NOx>15</NOx>\\r\\n    <NO>2</NO>\\r\\n    <WindSpeed>3.2</WindSpeed>\\r\\n    <WindDirec>157</WindDirec>\\r\\n    <PublishTime>2019-06-26 19:00</PublishTime>\\r\\n    <PM2.5_AVG>2</PM2.5_AVG>\\r\\n    <PM10_AVG>8</PM10_AVG>\\r\\n    <SO2_AVG>2</SO2_AVG>\\r\\n    <Longitude>120.568794</Longitude>\\r\\n    <Latitude>24.225628</Latitude>\\r\\n  </Data>\\r\\n  <Data>\\r\\n    <SiteName>\\xe8\\xb1\\x90\\xe5\\x8e\\x9f</SiteName>\\r\\n    <County>\\xe8\\x87\\xba\\xe4\\xb8\\xad\\xe5\\xb8\\x82</County>\\r\\n    <AQI>40</AQI>\\r\\n    <Pollutant></Pollutant>\\r\\n    <Status>\\xe8\\x89\\xaf\\xe5\\xa5\\xbd</Status>\\r\\n    <SO2>0.7</SO2>\\r\\n    <CO>0.19</CO>\\r\\n    <CO_8hr>0.3</CO_8hr>\\r\\n    <O3>35</O3>\\r\\n    <O3_8hr>43</O3_8hr>\\r\\n    <PM10>6</PM10>\\r\\n    <PM2.5>5</PM2.5>\\r\\n    <NO2>5.5</NO2>\\r\\n    <NOx>7.1</NOx>\\r\\n    <NO>1.7</NO>\\r\\n    <WindSpeed>3.4</WindSpeed>\\r\\n    <WindDirec>172</WindDirec>\\r\\n    <PublishTime>2019-06-26 19:00</PublishTime>\\r\\n    <PM2.5_AVG>11</PM2.5_AVG>\\r\\n    <PM10_AVG>22</PM10_AVG>\\r\\n    <SO2_AVG>1</SO2_AVG>\\r\\n    <Longitude>120.741711</Longitude>\\r\\n    <Latitude>24.256586</Latitude>\\r\\n  </Data>\\r\\n  <Data>\\r\\n    <SiteName>\\xe4\\xb8\\x89\\xe7\\xbe\\xa9</SiteName>\\r\\n    <County>\\xe8\\x8b\\x97\\xe6\\xa0\\x97\\xe7\\xb8\\xa3</County>\\r\\n    <AQI>36</AQI>\\r\\n    <Pollutant></Pollutant>\\r\\n    <Status>\\xe8\\x89\\xaf\\xe5\\xa5\\xbd</Status>\\r\\n    <SO2>5.1</SO2>\\r\\n    <CO>0.17</CO>\\r\\n    <CO_8hr>0.2</CO_8hr>\\r\\n    <O3>32</O3>\\r\\n    <O3_8hr>39</O3_8hr>\\r\\n    <PM10>15</PM10>\\r\\n    <PM2.5>5</PM2.5>\\r\\n    <NO2>4.1</NO2>\\r\\n    <NOx>5.6</NOx>\\r\\n    <NO>1.5</NO>\\r\\n    <WindSpeed>2.6</WindSpeed>\\r\\n    <WindDirec>197</WindDirec>\\r\\n    <PublishTime>2019-06-26 19:00</PublishTime>\\r\\n    <PM2.5_AVG>6</PM2.5_AVG>\\r\\n    <PM10_AVG>17</PM10_AVG>\\r\\n    <SO2_AVG>3</SO2_AVG>\\r\\n    <Longitude>120.758833</Longitude>\\r\\n    <Latitude>24.382942</Latitude>\\r\\n  </Data>\\r\\n  <Data>\\r\\n    <SiteName>\\xe8\\x8b\\x97\\xe6\\xa0\\x97</SiteName>\\r\\n    <County>\\xe8\\x8b\\x97\\xe6\\xa0\\x97\\xe7\\xb8\\xa3</County>\\r\\n    <AQI>38</AQI>\\r\\n    <Pollutant></Pollutant>\\r\\n    <Status>\\xe8\\x89\\xaf\\xe5\\xa5\\xbd</Status>\\r\\n    <SO2>1.5</SO2>\\r\\n    <CO>0.33</CO>\\r\\n    <CO_8hr>0.3</CO_8hr>\\r\\n    <O3>25</O3>\\r\\n    <O3_8hr>41</O3_8hr>\\r\\n    <PM10>13</PM10>\\r\\n    <PM2.5>7</PM2.5>\\r\\n    <NO2>9.7</NO2>\\r\\n    <NOx>11</NOx>\\r\\n    <NO>1.3</NO>\\r\\n    <WindSpeed>3.3</WindSpeed>\\r\\n    <WindDirec>205</WindDirec>\\r\\n    <PublishTime>2019-06-26 19:00</PublishTime>\\r\\n    <PM2.5_AVG>12</PM2.5_AVG>\\r\\n    <PM10_AVG>16</PM10_AVG>\\r\\n    <SO2_AVG>2</SO2_AVG>\\r\\n    <Longitude>120.8202</Longitude>\\r\\n    <Latitude>24.565269</Latitude>\\r\\n  </Data>\\r\\n  <Data>\\r\\n    <SiteName>\\xe9\\xa0\\xad\\xe4\\xbb\\xbd</SiteName>\\r\\n    <County>\\xe8\\x8b\\x97\\xe6\\xa0\\x97\\xe7\\xb8\\xa3</County>\\r\\n    <AQI>46</AQI>\\r\\n    <Pollutant></Pollutant>\\r\\n    <Status>\\xe8\\x89\\xaf\\xe5\\xa5\\xbd</Status>\\r\\n    <SO2>-0.3</SO2>\\r\\n    <CO>0.28</CO>\\r\\n    <CO_8hr>0.3</CO_8hr>\\r\\n    <O3>34</O3>\\r\\n    <O3_8hr>50</O3_8hr>\\r\\n    <PM10>12</PM10>\\r\\n    <PM2.5>9</PM2.5>\\r\\n    <NO2>9.8</NO2>\\r\\n    <NOx>12</NOx>\\r\\n    <NO>1.8</NO>\\r\\n    <WindSpeed>2.8</WindSpeed>\\r\\n    <WindDirec>252</WindDirec>\\r\\n    <PublishTime>2019-06-26 19:00</PublishTime>\\r\\n    <PM2.5_AVG>12</PM2.5_AVG>\\r\\n    <PM10_AVG>17</PM10_AVG>\\r\\n    <SO2_AVG>1</SO2_AVG>\\r\\n    <Longitude>120.898572</Longitude>\\r\\n    <Latitude>24.696969</Latitude>\\r\\n  </Data>\\r\\n  <Data>\\r\\n    <SiteName>\\xe6\\x96\\xb0\\xe7\\xab\\xb9</SiteName>\\r\\n    <County>\\xe6\\x96\\xb0\\xe7\\xab\\xb9\\xe5\\xb8\\x82</County>\\r\\n    <AQI>46</AQI>\\r\\n    <Pollutant></Pollutant>\\r\\n    <Status>\\xe8\\x89\\xaf\\xe5\\xa5\\xbd</Status>\\r\\n    <SO2>2.8</SO2>\\r\\n    <CO>0.44</CO>\\r\\n    <CO_8hr>0.3</CO_8hr>\\r\\n    <O3>32</O3>\\r\\n    <O3_8hr>50</O3_8hr>\\r\\n    <PM10>30</PM10>\\r\\n    <PM2.5>8</PM2.5>\\r\\n    <NO2>15</NO2>\\r\\n    <NOx>16</NOx>\\r\\n    <NO>1.1</NO>\\r\\n    <WindSpeed>3.3</WindSpeed>\\r\\n    <WindDirec>255</WindDirec>\\r\\n    <PublishTime>2019-06-26 19:00</PublishTime>\\r\\n    <PM2.5_AVG>9</PM2.5_AVG>\\r\\n    <PM10_AVG>27</PM10_AVG>\\r\\n    <SO2_AVG>2</SO2_AVG>\\r\\n    <Longitude>120.972075</Longitude>\\r\\n    <Latitude>24.805619</Latitude>\\r\\n  </Data>\\r\\n  <Data>\\r\\n    <SiteName>\\xe7\\xab\\xb9\\xe6\\x9d\\xb1</SiteName>\\r\\n    <County>\\xe6\\x96\\xb0\\xe7\\xab\\xb9\\xe7\\xb8\\xa3</County>\\r\\n    <AQI>74</AQI>\\r\\n    <Pollutant>\\xe8\\x87\\xad\\xe6\\xb0\\xa7\\xe5\\x85\\xab\\xe5\\xb0\\x8f\\xe6\\x99\\x82</Pollutant>\\r\\n    <Status>\\xe6\\x99\\xae\\xe9\\x80\\x9a</Status>\\r\\n    <SO2>1.8</SO2>\\r\\n    <CO>0.3</CO>\\r\\n    <CO_8hr>0.3</CO_8hr>\\r\\n    <O3>44</O3>\\r\\n    <O3_8hr>62</O3_8hr>\\r\\n    <PM10>24</PM10>\\r\\n    <PM2.5>ND</PM2.5>\\r\\n    <NO2>8.6</NO2>\\r\\n    <NOx>8.9</NOx>\\r\\n    <NO>0.3</NO>\\r\\n    <WindSpeed>1.7</WindSpeed>\\r\\n    <WindDirec>263</WindDirec>\\r\\n    <PublishTime>2019-06-26 19:00</PublishTime>\\r\\n    <PM2.5_AVG>2</PM2.5_AVG>\\r\\n    <PM10_AVG>26</PM10_AVG>\\r\\n    <SO2_AVG>2</SO2_AVG>\\r\\n    <Longitude>121.088903</Longitude>\\r\\n    <Latitude>24.740644</Latitude>\\r\\n  </Data>\\r\\n  <Data>\\r\\n    <SiteName>\\xe6\\xb9\\x96\\xe5\\x8f\\xa3</SiteName>\\r\\n    <County>\\xe6\\x96\\xb0\\xe7\\xab\\xb9\\xe7\\xb8\\xa3</County>\\r\\n    <AQI>49</AQI>\\r\\n    <Pollutant></Pollutant>\\r\\n    <Status>\\xe8\\x89\\xaf\\xe5\\xa5\\xbd</Status>\\r\\n    <SO2>2.8</SO2>\\r\\n    <CO>0.19</CO>\\r\\n    <CO_8hr>0.2</CO_8hr>\\r\\n    <O3>38</O3>\\r\\n    <O3_8hr>53</O3_8hr>\\r\\n    <PM10>25</PM10>\\r\\n    <PM2.5>8</PM2.5>\\r\\n    <NO2>6.8</NO2>\\r\\n    <NOx>8.2</NOx>\\r\\n    <NO>1.5</NO>\\r\\n    <WindSpeed>2.5</WindSpeed>\\r\\n    <WindDirec>238</WindDirec>\\r\\n    <PublishTime>2019-06-26 19:00</PublishTime>\\r\\n    <PM2.5_AVG>11</PM2.5_AVG>\\r\\n    <PM10_AVG></PM10_AVG>\\r\\n    <SO2_AVG>2</SO2_AVG>\\r\\n    <Longitude>121.038653</Longitude>\\r\\n    <Latitude>24.900142</Latitude>\\r\\n  </Data>\\r\\n  <Data>\\r\\n    <SiteName>\\xe9\\xbe\\x8d\\xe6\\xbd\\xad</SiteName>\\r\\n    <County>\\xe6\\xa1\\x83\\xe5\\x9c\\x92\\xe5\\xb8\\x82</County>\\r\\n    <AQI>64</AQI>\\r\\n    <Pollutant>\\xe7\\xb4\\xb0\\xe6\\x87\\xb8\\xe6\\xb5\\xae\\xe5\\xbe\\xae\\xe7\\xb2\\x92</Pollutant>\\r\\n    <Status>\\xe6\\x99\\xae\\xe9\\x80\\x9a</Status>\\r\\n    <SO2>4.1</SO2>\\r\\n    <CO>0.55</CO>\\r\\n    <CO_8hr>0.4</CO_8hr>\\r\\n    <O3>50</O3>\\r\\n    <O3_8hr>58</O3_8hr>\\r\\n    <PM10>53</PM10>\\r\\n    <PM2.5>32</PM2.5>\\r\\n    <NO2>21</NO2>\\r\\n    <NOx>23</NOx>\\r\\n    <NO>2.1</NO>\\r\\n    <WindSpeed>1.6</WindSpeed>\\r\\n    <WindDirec>25</WindDirec>\\r\\n    <PublishTime>2019-06-26 19:00</PublishTime>\\r\\n    <PM2.5_AVG>21</PM2.5_AVG>\\r\\n    <PM10_AVG>37</PM10_AVG>\\r\\n    <SO2_AVG>3</SO2_AVG>\\r\\n    <Longitude>121.21635</Longitude>\\r\\n    <Latitude>24.863869</Latitude>\\r\\n  </Data>\\r\\n  <Data>\\r\\n    <SiteName>\\xe5\\xb9\\xb3\\xe9\\x8e\\xae</SiteName>\\r\\n    <County>\\xe6\\xa1\\x83\\xe5\\x9c\\x92\\xe5\\xb8\\x82</County>\\r\\n    <AQI>58</AQI>\\r\\n    <Pollutant>\\xe7\\xb4\\xb0\\xe6\\x87\\xb8\\xe6\\xb5\\xae\\xe5\\xbe\\xae\\xe7\\xb2\\x92</Pollutant>\\r\\n    <Status>\\xe6\\x99\\xae\\xe9\\x80\\x9a</Status>\\r\\n    <SO2>3.3</SO2>\\r\\n    <CO>0.32</CO>\\r\\n    <CO_8hr>0.3</CO_8hr>\\r\\n    <O3>37</O3>\\r\\n    <O3_8hr>50</O3_8hr>\\r\\n    <PM10>26</PM10>\\r\\n    <PM2.5>6</PM2.5>\\r\\n    <NO2>15</NO2>\\r\\n    <NOx>16</NOx>\\r\\n    <NO>1</NO>\\r\\n    <WindSpeed>1.6</WindSpeed>\\r\\n    <WindDirec>237</WindDirec>\\r\\n    <PublishTime>2019-06-26 19:00</PublishTime>\\r\\n    <PM2.5_AVG>18</PM2.5_AVG>\\r\\n    <PM10_AVG>24</PM10_AVG>\\r\\n    <SO2_AVG>3</SO2_AVG>\\r\\n    <Longitude>121.203986</Longitude>\\r\\n    <Latitude>24.952786</Latitude>\\r\\n  </Data>\\r\\n  <Data>\\r\\n    <SiteName>\\xe8\\xa7\\x80\\xe9\\x9f\\xb3</SiteName>\\r\\n    <County>\\xe6\\xa1\\x83\\xe5\\x9c\\x92\\xe5\\xb8\\x82</County>\\r\\n    <AQI>44</AQI>\\r\\n    <Pollutant></Pollutant>\\r\\n    <Status>\\xe8\\x89\\xaf\\xe5\\xa5\\xbd</Status>\\r\\n    <SO2>2</SO2>\\r\\n    <CO>0.14</CO>\\r\\n    <CO_8hr>0.2</CO_8hr>\\r\\n    <O3>45</O3>\\r\\n    <O3_8hr>48</O3_8hr>\\r\\n    <PM10>17</PM10>\\r\\n    <PM2.5>7</PM2.5>\\r\\n    <NO2>3.8</NO2>\\r\\n    <NOx>5.1</NOx>\\r\\n    <NO>1.3</NO>\\r\\n    <WindSpeed>4.2</WindSpeed>\\r\\n    <WindDirec>255</WindDirec>\\r\\n    <PublishTime>2019-06-26 19:00</PublishTime>\\r\\n    <PM2.5_AVG>10</PM2.5_AVG>\\r\\n    <PM10_AVG>22</PM10_AVG>\\r\\n    <SO2_AVG>4</SO2_AVG>\\r\\n    <Longitude>121.082761</Longitude>\\r\\n    <Latitude>25.035503</Latitude>\\r\\n  </Data>\\r\\n  <Data>\\r\\n    <SiteName>\\xe5\\xa4\\xa7\\xe5\\x9c\\x92</SiteName>\\r\\n    <County>\\xe6\\xa1\\x83\\xe5\\x9c\\x92\\xe5\\xb8\\x82</County>\\r\\n    <AQI>47</AQI>\\r\\n    <Pollutant></Pollutant>\\r\\n    <Status>\\xe8\\x89\\xaf\\xe5\\xa5\\xbd</Status>\\r\\n    <SO2>1.8</SO2>\\r\\n    <CO>0.21</CO>\\r\\n    <CO_8hr>0.3</CO_8hr>\\r\\n    <O3>48</O3>\\r\\n    <O3_8hr>51</O3_8hr>\\r\\n    <PM10>25</PM10>\\r\\n    <PM2.5>6</PM2.5>\\r\\n    <NO2>5.1</NO2>\\r\\n    <NOx>6.5</NOx>\\r\\n    <NO>1.5</NO>\\r\\n    <WindSpeed>3</WindSpeed>\\r\\n    <WindDirec>253</WindDirec>\\r\\n    <PublishTime>2019-06-26 19:00</PublishTime>\\r\\n    <PM2.5_AVG>12</PM2.5_AVG>\\r\\n    <PM10_AVG>30</PM10_AVG>\\r\\n    <SO2_AVG>3</SO2_AVG>\\r\\n    <Longitude>121.201811</Longitude>\\r\\n    <Latitude>25.060344</Latitude>\\r\\n  </Data>\\r\\n  <Data>\\r\\n    <SiteName>\\xe6\\xa1\\x83\\xe5\\x9c\\x92</SiteName>\\r\\n    <County>\\xe6\\xa1\\x83\\xe5\\x9c\\x92\\xe5\\xb8\\x82</County>\\r\\n    <AQI></AQI>\\r\\n    <Pollutant></Pollutant>\\r\\n    <Status>\\xe8\\xa8\\xad\\xe5\\x82\\x99\\xe7\\xb6\\xad\\xe8\\xad\\xb7</Status>\\r\\n    <SO2></SO2>\\r\\n    <CO></CO>\\r\\n    <CO_8hr></CO_8hr>\\r\\n    <O3></O3>\\r\\n    <O3_8hr></O3_8hr>\\r\\n    <PM10></PM10>\\r\\n    <PM2.5></PM2.5>\\r\\n    <NO2></NO2>\\r\\n    <NOx></NOx>\\r\\n    <NO></NO>\\r\\n    <WindSpeed></WindSpeed>\\r\\n    <WindDirec></WindDirec>\\r\\n    <PublishTime>2019-06-26 19:00</PublishTime>\\r\\n    <PM2.5_AVG></PM2.5_AVG>\\r\\n    <PM10_AVG></PM10_AVG>\\r\\n    <SO2_AVG></SO2_AVG>\\r\\n    <Longitude>121.304383</Longitude>\\r\\n    <Latitude>24.995368</Latitude>\\r\\n  </Data>\\r\\n  <Data>\\r\\n    <SiteName>\\xe5\\xa4\\xa7\\xe5\\x90\\x8c</SiteName>\\r\\n    <County>\\xe8\\x87\\xba\\xe5\\x8c\\x97\\xe5\\xb8\\x82</County>\\r\\n    <AQI>47</AQI>\\r\\n    <Pollutant></Pollutant>\\r\\n    <Status>\\xe8\\x89\\xaf\\xe5\\xa5\\xbd</Status>\\r\\n    <SO2>2.4</SO2>\\r\\n    <CO>1.8</CO>\\r\\n    <CO_8hr>1.2</CO_8hr>\\r\\n    <O3>-</O3>\\r\\n    <O3_8hr></O3_8hr>\\r\\n    <PM10>33</PM10>\\r\\n    <PM2.5>15</PM2.5>\\r\\n    <NO2>49</NO2>\\r\\n    <NOx>101</NOx>\\r\\n    <NO>52</NO>\\r\\n    <WindSpeed></WindSpeed>\\r\\n    <WindDirec></WindDirec>\\r\\n    <PublishTime>2019-06-26 19:00</PublishTime>\\r\\n    <PM2.5_AVG>15</PM2.5_AVG>\\r\\n    <PM10_AVG>31</PM10_AVG>\\r\\n    <SO2_AVG>2</SO2_AVG>\\r\\n    <Longitude>121.513311</Longitude>\\r\\n    <Latitude>25.0632</Latitude>\\r\\n  </Data>\\r\\n  <Data>\\r\\n    <SiteName>\\xe6\\x9d\\xbe\\xe5\\xb1\\xb1</SiteName>\\r\\n    <County>\\xe8\\x87\\xba\\xe5\\x8c\\x97\\xe5\\xb8\\x82</County>\\r\\n    <AQI>44</AQI>\\r\\n    <Pollutant></Pollutant>\\r\\n    <Status>\\xe8\\x89\\xaf\\xe5\\xa5\\xbd</Status>\\r\\n    <SO2>3.2</SO2>\\r\\n    <CO>0.47</CO>\\r\\n    <CO_8hr>0.3</CO_8hr>\\r\\n    <O3>38</O3>\\r\\n    <O3_8hr>48</O3_8hr>\\r\\n    <PM10>22</PM10>\\r\\n    <PM2.5>14</PM2.5>\\r\\n    <NO2>25</NO2>\\r\\n    <NOx>26</NOx>\\r\\n    <NO>1.1</NO>\\r\\n    <WindSpeed>1.8</WindSpeed>\\r\\n    <WindDirec>151</WindDirec>\\r\\n    <PublishTime>2019-06-26 19:00</PublishTime>\\r\\n    <PM2.5_AVG>13</PM2.5_AVG>\\r\\n    <PM10_AVG>25</PM10_AVG>\\r\\n    <SO2_AVG>2</SO2_AVG>\\r\\n    <Longitude>121.578611</Longitude>\\r\\n    <Latitude>25.05</Latitude>\\r\\n  </Data>\\r\\n  <Data>\\r\\n    <SiteName>\\xe5\\x8f\\xa4\\xe4\\xba\\xad</SiteName>\\r\\n    <County>\\xe8\\x87\\xba\\xe5\\x8c\\x97\\xe5\\xb8\\x82</County>\\r\\n    <AQI>47</AQI>\\r\\n    <Pollutant></Pollutant>\\r\\n    <Status>\\xe8\\x89\\xaf\\xe5\\xa5\\xbd</Status>\\r\\n    <SO2>3.5</SO2>\\r\\n    <CO>0.63</CO>\\r\\n    <CO_8hr>0.4</CO_8hr>\\r\\n    <O3>36</O3>\\r\\n    <O3_8hr>51</O3_8hr>\\r\\n    <PM10>23</PM10>\\r\\n    <PM2.5>15</PM2.5>\\r\\n    <NO2>27</NO2>\\r\\n    <NOx>31</NOx>\\r\\n    <NO>3.6</NO>\\r\\n    <WindSpeed>1</WindSpeed>\\r\\n    <WindDirec>68</WindDirec>\\r\\n    <PublishTime>2019-06-26 19:00</PublishTime>\\r\\n    <PM2.5_AVG>12</PM2.5_AVG>\\r\\n    <PM10_AVG>22</PM10_AVG>\\r\\n    <SO2_AVG>3</SO2_AVG>\\r\\n    <Longitude>121.529556</Longitude>\\r\\n    <Latitude>25.020608</Latitude>\\r\\n  </Data>\\r\\n  <Data>\\r\\n    <SiteName>\\xe8\\x90\\xac\\xe8\\x8f\\xaf</SiteName>\\r\\n    <County>\\xe8\\x87\\xba\\xe5\\x8c\\x97\\xe5\\xb8\\x82</County>\\r\\n    <AQI>54</AQI>\\r\\n    <Pollutant>\\xe7\\xb4\\xb0\\xe6\\x87\\xb8\\xe6\\xb5\\xae\\xe5\\xbe\\xae\\xe7\\xb2\\x92</Pollutant>\\r\\n    <Status>\\xe6\\x99\\xae\\xe9\\x80\\x9a</Status>\\r\\n    <SO2>2</SO2>\\r\\n    <CO>0.89</CO>\\r\\n    <CO_8hr>0.6</CO_8hr>\\r\\n    <O3>21</O3>\\r\\n    <O3_8hr>41</O3_8hr>\\r\\n    <PM10>29</PM10>\\r\\n    <PM2.5>25</PM2.5>\\r\\n    <NO2>42</NO2>\\r\\n    <NOx>45</NOx>\\r\\n    <NO>3.5</NO>\\r\\n    <WindSpeed>1</WindSpeed>\\r\\n    <WindDirec>35</WindDirec>\\r\\n    <PublishTime>2019-06-26 19:00</PublishTime>\\r\\n    <PM2.5_AVG>17</PM2.5_AVG>\\r\\n    <PM10_AVG>28</PM10_AVG>\\r\\n    <SO2_AVG>2</SO2_AVG>\\r\\n    <Longitude>121.507972</Longitude>\\r\\n    <Latitude>25.046503</Latitude>\\r\\n  </Data>\\r\\n  <Data>\\r\\n    <SiteName>\\xe4\\xb8\\xad\\xe5\\xb1\\xb1</SiteName>\\r\\n    <County>\\xe8\\x87\\xba\\xe5\\x8c\\x97\\xe5\\xb8\\x82</County>\\r\\n    <AQI>45</AQI>\\r\\n    <Pollutant></Pollutant>\\r\\n    <Status>\\xe8\\x89\\xaf\\xe5\\xa5\\xbd</Status>\\r\\n    <SO2>1.8</SO2>\\r\\n    <CO>0.8</CO>\\r\\n    <CO_8hr>0.6</CO_8hr>\\r\\n    <O3>25</O3>\\r\\n    <O3_8hr>40</O3_8hr>\\r\\n    <PM10>37</PM10>\\r\\n    <PM2.5>15</PM2.5>\\r\\n    <NO2>36</NO2>\\r\\n    <NOx>43</NOx>\\r\\n    <NO>7.7</NO>\\r\\n    <WindSpeed>1.3</WindSpeed>\\r\\n    <WindDirec>332</WindDirec>\\r\\n    <PublishTime>2019-06-26 19:00</PublishTime>\\r\\n    <PM2.5_AVG>14</PM2.5_AVG>\\r\\n    <PM10_AVG>32</PM10_AVG>\\r\\n    <SO2_AVG>2</SO2_AVG>\\r\\n    <Longitude>121.526528</Longitude>\\r\\n    <Latitude>25.062361</Latitude>\\r\\n  </Data>\\r\\n  <Data>\\r\\n    <SiteName>\\xe5\\xa3\\xab\\xe6\\x9e\\x97</SiteName>\\r\\n    <County>\\xe8\\x87\\xba\\xe5\\x8c\\x97\\xe5\\xb8\\x82</County>\\r\\n    <AQI>51</AQI>\\r\\n    <Pollutant>\\xe8\\x87\\xad\\xe6\\xb0\\xa7\\xe5\\x85\\xab\\xe5\\xb0\\x8f\\xe6\\x99\\x82</Pollutant>\\r\\n    <Status>\\xe6\\x99\\xae\\xe9\\x80\\x9a</Status>\\r\\n    <SO2>2.2</SO2>\\r\\n    <CO>0.48</CO>\\r\\n    <CO_8hr>0.3</CO_8hr>\\r\\n    <O3>45</O3>\\r\\n    <O3_8hr>55</O3_8hr>\\r\\n    <PM10>29</PM10>\\r\\n    <PM2.5>17</PM2.5>\\r\\n    <NO2></NO2>\\r\\n    <NOx></NOx>\\r\\n    <NO></NO>\\r\\n    <WindSpeed>1.8</WindSpeed>\\r\\n    <WindDirec>81</WindDirec>\\r\\n    <PublishTime>2019-06-26 19:00</PublishTime>\\r\\n    <PM2.5_AVG>15</PM2.5_AVG>\\r\\n    <PM10_AVG>27</PM10_AVG>\\r\\n    <SO2_AVG>2</SO2_AVG>\\r\\n    <Longitude>121.515389</Longitude>\\r\\n    <Latitude>25.105417</Latitude>\\r\\n  </Data>\\r\\n  <Data>\\r\\n    <SiteName>\\xe6\\xb7\\xa1\\xe6\\xb0\\xb4</SiteName>\\r\\n    <County>\\xe6\\x96\\xb0\\xe5\\x8c\\x97\\xe5\\xb8\\x82</County>\\r\\n    <AQI>47</AQI>\\r\\n    <Pollutant></Pollutant>\\r\\n    <Status>\\xe8\\x89\\xaf\\xe5\\xa5\\xbd</Status>\\r\\n    <SO2>1.7</SO2>\\r\\n    <CO>0.39</CO>\\r\\n    <CO_8hr>0.2</CO_8hr>\\r\\n    <O3>42</O3>\\r\\n    <O3_8hr>51</O3_8hr>\\r\\n    <PM10></PM10>\\r\\n    <PM2.5>9</PM2.5>\\r\\n    <NO2>12</NO2>\\r\\n    <NOx>12</NOx>\\r\\n    <NO>0.6</NO>\\r\\n    <WindSpeed></WindSpeed>\\r\\n    <WindDirec></WindDirec>\\r\\n    <PublishTime>2019-06-26 19:00</PublishTime>\\r\\n    <PM2.5_AVG>7</PM2.5_AVG>\\r\\n    <PM10_AVG></PM10_AVG>\\r\\n    <SO2_AVG>2</SO2_AVG>\\r\\n    <Longitude>121.449239</Longitude>\\r\\n    <Latitude>25.1645</Latitude>\\r\\n  </Data>\\r\\n  <Data>\\r\\n    <SiteName>\\xe6\\x9e\\x97\\xe5\\x8f\\xa3</SiteName>\\r\\n    <County>\\xe6\\x96\\xb0\\xe5\\x8c\\x97\\xe5\\xb8\\x82</County>\\r\\n    <AQI>47</AQI>\\r\\n    <Pollutant></Pollutant>\\r\\n    <Status>\\xe8\\x89\\xaf\\xe5\\xa5\\xbd</Status>\\r\\n    <SO2>2</SO2>\\r\\n    <CO>0.24</CO>\\r\\n    <CO_8hr>0.2</CO_8hr>\\r\\n    <O3>47</O3>\\r\\n    <O3_8hr>51</O3_8hr>\\r\\n    <PM10>27</PM10>\\r\\n    <PM2.5>5</PM2.5>\\r\\n    <NO2>11</NO2>\\r\\n    <NOx>13</NOx>\\r\\n    <NO>1.8</NO>\\r\\n    <WindSpeed>2.6</WindSpeed>\\r\\n    <WindDirec>92</WindDirec>\\r\\n    <PublishTime>2019-06-26 19:00</PublishTime>\\r\\n    <PM2.5_AVG>8</PM2.5_AVG>\\r\\n    <PM10_AVG>31</PM10_AVG>\\r\\n    <SO2_AVG>2</SO2_AVG>\\r\\n    <Longitude>121.376869</Longitude>\\r\\n    <Latitude>25.077197</Latitude>\\r\\n  </Data>\\r\\n  <Data>\\r\\n    <SiteName>\\xe8\\x8f\\x9c\\xe5\\xaf\\xae</SiteName>\\r\\n    <County>\\xe6\\x96\\xb0\\xe5\\x8c\\x97\\xe5\\xb8\\x82</County>\\r\\n    <AQI>41</AQI>\\r\\n    <Pollutant></Pollutant>\\r\\n    <Status>\\xe8\\x89\\xaf\\xe5\\xa5\\xbd</Status>\\r\\n    <SO2>1.8</SO2>\\r\\n    <CO>0.65</CO>\\r\\n    <CO_8hr>0.4</CO_8hr>\\r\\n    <O3>35</O3>\\r\\n    <O3_8hr>44</O3_8hr>\\r\\n    <PM10>36</PM10>\\r\\n    <PM2.5>21</PM2.5>\\r\\n    <NO2>25</NO2>\\r\\n    <NOx>27</NOx>\\r\\n    <NO>2.5</NO>\\r\\n    <WindSpeed>1.8</WindSpeed>\\r\\n    <WindDirec>72</WindDirec>\\r\\n    <PublishTime>2019-06-26 19:00</PublishTime>\\r\\n    <PM2.5_AVG>12</PM2.5_AVG>\\r\\n    <PM10_AVG>33</PM10_AVG>\\r\\n    <SO2_AVG>2</SO2_AVG>\\r\\n    <Longitude>121.481028</Longitude>\\r\\n    <Latitude>25.06895</Latitude>\\r\\n  </Data>\\r\\n  <Data>\\r\\n    <SiteName>\\xe6\\x96\\xb0\\xe8\\x8e\\x8a</SiteName>\\r\\n    <County>\\xe6\\x96\\xb0\\xe5\\x8c\\x97\\xe5\\xb8\\x82</County>\\r\\n    <AQI>57</AQI>\\r\\n    <Pollutant>\\xe7\\xb4\\xb0\\xe6\\x87\\xb8\\xe6\\xb5\\xae\\xe5\\xbe\\xae\\xe7\\xb2\\x92</Pollutant>\\r\\n    <Status>\\xe6\\x99\\xae\\xe9\\x80\\x9a</Status>\\r\\n    <SO2>2.5</SO2>\\r\\n    <CO>0.82</CO>\\r\\n    <CO_8hr>0.4</CO_8hr>\\r\\n    <O3>23</O3>\\r\\n    <O3_8hr>46</O3_8hr>\\r\\n    <PM10>29</PM10>\\r\\n    <PM2.5>24</PM2.5>\\r\\n    <NO2>40</NO2>\\r\\n    <NOx>42</NOx>\\r\\n    <NO>2.6</NO>\\r\\n    <WindSpeed>3.2</WindSpeed>\\r\\n    <WindDirec>32</WindDirec>\\r\\n    <PublishTime>2019-06-26 19:00</PublishTime>\\r\\n    <PM2.5_AVG>18</PM2.5_AVG>\\r\\n    <PM10_AVG>26</PM10_AVG>\\r\\n    <SO2_AVG>3</SO2_AVG>\\r\\n    <Longitude>121.4325</Longitude>\\r\\n    <Latitude>25.037972</Latitude>\\r\\n  </Data>\\r\\n  <Data>\\r\\n    <SiteName>\\xe6\\x9d\\xbf\\xe6\\xa9\\x8b</SiteName>\\r\\n    <County>\\xe6\\x96\\xb0\\xe5\\x8c\\x97\\xe5\\xb8\\x82</County>\\r\\n    <AQI>62</AQI>\\r\\n    <Pollutant>\\xe7\\xb4\\xb0\\xe6\\x87\\xb8\\xe6\\xb5\\xae\\xe5\\xbe\\xae\\xe7\\xb2\\x92</Pollutant>\\r\\n    <Status>\\xe6\\x99\\xae\\xe9\\x80\\x9a</Status>\\r\\n    <SO2>2.9</SO2>\\r\\n    <CO>0.99</CO>\\r\\n    <CO_8hr>0.5</CO_8hr>\\r\\n    <O3>25</O3>\\r\\n    <O3_8hr>44</O3_8hr>\\r\\n    <PM10>39</PM10>\\r\\n    <PM2.5>28</PM2.5>\\r\\n    <NO2>40</NO2>\\r\\n    <NOx>41</NOx>\\r\\n    <NO>1.5</NO>\\r\\n    <WindSpeed>1.9</WindSpeed>\\r\\n    <WindDirec>68</WindDirec>\\r\\n    <PublishTime>2019-06-26 19:00</PublishTime>\\r\\n    <PM2.5_AVG>20</PM2.5_AVG>\\r\\n    <PM10_AVG>35</PM10_AVG>\\r\\n    <SO2_AVG>3</SO2_AVG>\\r\\n    <Longitude>121.458667</Longitude>\\r\\n    <Latitude>25.012972</Latitude>\\r\\n  </Data>\\r\\n  <Data>\\r\\n    <SiteName>\\xe5\\x9c\\x9f\\xe5\\x9f\\x8e</SiteName>\\r\\n    <County>\\xe6\\x96\\xb0\\xe5\\x8c\\x97\\xe5\\xb8\\x82</County>\\r\\n    <AQI>55</AQI>\\r\\n    <Pollutant>\\xe7\\xb4\\xb0\\xe6\\x87\\xb8\\xe6\\xb5\\xae\\xe5\\xbe\\xae\\xe7\\xb2\\x92</Pollutant>\\r\\n    <Status>\\xe6\\x99\\xae\\xe9\\x80\\x9a</Status>\\r\\n    <SO2>2.5</SO2>\\r\\n    <CO>0.9</CO>\\r\\n    <CO_8hr>0.5</CO_8hr>\\r\\n    <O3>31</O3>\\r\\n    <O3_8hr>54</O3_8hr>\\r\\n    <PM10>39</PM10>\\r\\n    <PM2.5>29</PM2.5>\\r\\n    <NO2>35</NO2>\\r\\n    <NOx>36</NOx>\\r\\n    <NO>1</NO>\\r\\n    <WindSpeed>1.1</WindSpeed>\\r\\n    <WindDirec>0.8</WindDirec>\\r\\n    <PublishTime>2019-06-26 19:00</PublishTime>\\r\\n    <PM2.5_AVG>17</PM2.5_AVG>\\r\\n    <PM10_AVG>33</PM10_AVG>\\r\\n    <SO2_AVG>2</SO2_AVG>\\r\\n    <Longitude>121.451861</Longitude>\\r\\n    <Latitude>24.982528</Latitude>\\r\\n  </Data>\\r\\n  <Data>\\r\\n    <SiteName>\\xe6\\x96\\xb0\\xe5\\xba\\x97</SiteName>\\r\\n    <County>\\xe6\\x96\\xb0\\xe5\\x8c\\x97\\xe5\\xb8\\x82</County>\\r\\n    <AQI>50</AQI>\\r\\n    <Pollutant></Pollutant>\\r\\n    <Status>\\xe8\\x89\\xaf\\xe5\\xa5\\xbd</Status>\\r\\n    <SO2>2.5</SO2>\\r\\n    <CO>0.59</CO>\\r\\n    <CO_8hr>0.4</CO_8hr>\\r\\n    <O3>37</O3>\\r\\n    <O3_8hr>54</O3_8hr>\\r\\n    <PM10>30</PM10>\\r\\n    <PM2.5>19</PM2.5>\\r\\n    <NO2>26</NO2>\\r\\n    <NOx>27</NOx>\\r\\n    <NO>1</NO>\\r\\n    <WindSpeed>1.4</WindSpeed>\\r\\n    <WindDirec>360</WindDirec>\\r\\n    <PublishTime>2019-06-26 19:00</PublishTime>\\r\\n    <PM2.5_AVG>15</PM2.5_AVG>\\r\\n    <PM10_AVG>23</PM10_AVG>\\r\\n    <SO2_AVG>2</SO2_AVG>\\r\\n    <Longitude>121.537778</Longitude>\\r\\n    <Latitude>24.977222</Latitude>\\r\\n  </Data>\\r\\n  <Data>\\r\\n    <SiteName>\\xe8\\x90\\xac\\xe9\\x87\\x8c</SiteName>\\r\\n    <County>\\xe6\\x96\\xb0\\xe5\\x8c\\x97\\xe5\\xb8\\x82</County>\\r\\n    <AQI>44</AQI>\\r\\n    <Pollutant></Pollutant>\\r\\n    <Status>\\xe8\\x89\\xaf\\xe5\\xa5\\xbd</Status>\\r\\n    <SO2>2.2</SO2>\\r\\n    <CO>0.16</CO>\\r\\n    <CO_8hr>0.1</CO_8hr>\\r\\n    <O3>52</O3>\\r\\n    <O3_8hr>47</O3_8hr>\\r\\n    <PM10>10</PM10>\\r\\n    <PM2.5>11</PM2.5>\\r\\n    <NO2>4.5</NO2>\\r\\n    <NOx>5.4</NOx>\\r\\n    <NO>0.9</NO>\\r\\n    <WindSpeed>1.9</WindSpeed>\\r\\n    <WindDirec>313</WindDirec>\\r\\n    <PublishTime>2019-06-26 19:00</PublishTime>\\r\\n    <PM2.5_AVG>9</PM2.5_AVG>\\r\\n    <PM10_AVG>8</PM10_AVG>\\r\\n    <SO2_AVG>2</SO2_AVG>\\r\\n    <Longitude>121.689881</Longitude>\\r\\n    <Latitude>25.179667</Latitude>\\r\\n  </Data>\\r\\n  <Data>\\r\\n    <SiteName>\\xe6\\xb1\\x90\\xe6\\xad\\xa2</SiteName>\\r\\n    <County>\\xe6\\x96\\xb0\\xe5\\x8c\\x97\\xe5\\xb8\\x82</County>\\r\\n    <AQI>46</AQI>\\r\\n    <Pollutant></Pollutant>\\r\\n    <Status>\\xe8\\x89\\xaf\\xe5\\xa5\\xbd</Status>\\r\\n    <SO2>1.5</SO2>\\r\\n    <CO>0.37</CO>\\r\\n    <CO_8hr>0.3</CO_8hr>\\r\\n    <O3>43</O3>\\r\\n    <O3_8hr>50</O3_8hr>\\r\\n    <PM10>28</PM10>\\r\\n    <PM2.5>12</PM2.5>\\r\\n    <NO2>14</NO2>\\r\\n    <NOx>16</NOx>\\r\\n    <NO>2</NO>\\r\\n    <WindSpeed>2.1</WindSpeed>\\r\\n    <WindDirec>55</WindDirec>\\r\\n    <PublishTime>2019-06-26 19:00</PublishTime>\\r\\n    <PM2.5_AVG>12</PM2.5_AVG>\\r\\n    <PM10_AVG>30</PM10_AVG>\\r\\n    <SO2_AVG>2</SO2_AVG>\\r\\n    <Longitude>121.6423</Longitude>\\r\\n    <Latitude>25.067131</Latitude>\\r\\n  </Data>\\r\\n  <Data>\\r\\n    <SiteName>\\xe5\\x9f\\xba\\xe9\\x9a\\x86</SiteName>\\r\\n    <County>\\xe5\\x9f\\xba\\xe9\\x9a\\x86\\xe5\\xb8\\x82</County>\\r\\n    <AQI>34</AQI>\\r\\n    <Pollutant></Pollutant>\\r\\n    <Status>\\xe8\\x89\\xaf\\xe5\\xa5\\xbd</Status>\\r\\n    <SO2>2.8</SO2>\\r\\n    <CO>0.2</CO>\\r\\n    <CO_8hr>0.2</CO_8hr>\\r\\n    <O3>43</O3>\\r\\n    <O3_8hr>37</O3_8hr>\\r\\n    <PM10>21</PM10>\\r\\n    <PM2.5>9</PM2.5>\\r\\n    <NO2>9.8</NO2>\\r\\n    <NOx>11</NOx>\\r\\n    <NO>1</NO>\\r\\n    <WindSpeed>0.7</WindSpeed>\\r\\n    <WindDirec>51</WindDirec>\\r\\n    <PublishTime>2019-06-26 19:00</PublishTime>\\r\\n    <PM2.5_AVG>8</PM2.5_AVG>\\r\\n    <PM10_AVG>21</PM10_AVG>\\r\\n    <SO2_AVG>2</SO2_AVG>\\r\\n    <Longitude>121.760056</Longitude>\\r\\n    <Latitude>25.129167</Latitude>\\r\\n  </Data>\\r\\n</AQI>'\n"
          ],
          "name": "stdout"
        }
      ]
    },
    {
      "cell_type": "code",
      "metadata": {
        "id": "egREPp6Wkhqh",
        "colab_type": "code",
        "colab": {
          "base_uri": "https://localhost:8080/",
          "height": 34
        },
        "outputId": "6e2f592b-3e15-4ef9-e640-7911933fe75b"
      },
      "source": [
        "type(r.text)"
      ],
      "execution_count": null,
      "outputs": [
        {
          "output_type": "execute_result",
          "data": {
            "text/plain": [
              "str"
            ]
          },
          "metadata": {
            "tags": []
          },
          "execution_count": 6
        }
      ]
    },
    {
      "cell_type": "code",
      "metadata": {
        "id": "Jqm4M1UbkvW1",
        "colab_type": "code",
        "colab": {}
      },
      "source": [
        "print(r.text)"
      ],
      "execution_count": null,
      "outputs": []
    },
    {
      "cell_type": "code",
      "metadata": {
        "id": "ealDPTMNku_0",
        "colab_type": "code",
        "colab": {
          "base_uri": "https://localhost:8080/",
          "height": 54
        },
        "outputId": "2a3abbeb-0cc0-4298-a67a-981d3f35cd2c"
      },
      "source": [
        "from lxml import etree\n",
        "from io import BytesIO\n",
        "\n",
        "f = BytesIO(r.content)\n",
        "tree = etree.parse(f)\n",
        "site_names = [t.text for t in tree.xpath(\"//SiteName\")]\n",
        "print(site_names)"
      ],
      "execution_count": null,
      "outputs": [
        {
          "output_type": "stream",
          "text": [
            "['斗六', '屏東(琉球)', '苗栗(後龍)', '彰化(大城)', '臺南(麻豆)', '富貴角', '麥寮', '關山', '馬公', '金門', '馬祖', '埔里', '復興', '永和', '竹山', '中壢', '三重', '冬山', '宜蘭', '陽明', '花蓮', '臺東', '恆春', '潮州', '屏東', '小港', '前鎮', '前金', '左營', '楠梓', '林園', '大寮', '鳳山', '仁武', '橋頭', '美濃', '臺南', '安南', '善化', '新營', '嘉義', '臺西', '朴子', '新港', '崙背', '斗六', '南投', '二林', '線西', '彰化', '西屯', '忠明', '大里', '沙鹿', '豐原', '三義', '苗栗', '頭份', '新竹', '竹東', '湖口', '龍潭', '平鎮', '觀音', '大園', '桃園', '大同', '松山', '古亭', '萬華', '中山', '士林', '淡水', '林口', '菜寮', '新莊', '板橋', '土城', '新店', '萬里', '汐止', '基隆']\n"
          ],
          "name": "stdout"
        }
      ]
    },
    {
      "cell_type": "code",
      "metadata": {
        "id": "Mw6rGchRm7em",
        "colab_type": "code",
        "colab": {
          "base_uri": "https://localhost:8080/",
          "height": 54
        },
        "outputId": "f44509aa-23f6-430e-8478-c90e52ac79d0"
      },
      "source": [
        "counties = [t.text for t in tree.xpath(\"//County\")]\n",
        "print(counties)"
      ],
      "execution_count": null,
      "outputs": [
        {
          "output_type": "stream",
          "text": [
            "['雲林縣', '屏東縣', '苗栗縣', '彰化縣', '臺南市', '新北市', '雲林縣', '臺東縣', '澎湖縣', '金門縣', '連江縣', '南投縣', '高雄市', '新北市', '南投縣', '桃園市', '新北市', '宜蘭縣', '宜蘭縣', '臺北市', '花蓮縣', '臺東縣', '屏東縣', '屏東縣', '屏東縣', '高雄市', '高雄市', '高雄市', '高雄市', '高雄市', '高雄市', '高雄市', '高雄市', '高雄市', '高雄市', '高雄市', '臺南市', '臺南市', '臺南市', '臺南市', '嘉義市', '雲林縣', '嘉義縣', '嘉義縣', '雲林縣', '雲林縣', '南投縣', '彰化縣', '彰化縣', '彰化縣', '臺中市', '臺中市', '臺中市', '臺中市', '臺中市', '苗栗縣', '苗栗縣', '苗栗縣', '新竹市', '新竹縣', '新竹縣', '桃園市', '桃園市', '桃園市', '桃園市', '桃園市', '臺北市', '臺北市', '臺北市', '臺北市', '臺北市', '臺北市', '新北市', '新北市', '新北市', '新北市', '新北市', '新北市', '新北市', '新北市', '新北市', '基隆市']\n"
          ],
          "name": "stdout"
        }
      ]
    },
    {
      "cell_type": "code",
      "metadata": {
        "id": "5hlFjP1Us_r8",
        "colab_type": "code",
        "colab": {
          "base_uri": "https://localhost:8080/",
          "height": 196
        },
        "outputId": "263b77a0-0760-4d6d-f72a-280e5940ff5d"
      },
      "source": [
        "pip install -U BeautifulSoup4 pyquery"
      ],
      "execution_count": null,
      "outputs": [
        {
          "output_type": "stream",
          "text": [
            "Requirement already up-to-date: BeautifulSoup4 in /usr/local/lib/python3.6/dist-packages (4.7.1)\n",
            "Collecting pyquery\n",
            "  Downloading https://files.pythonhosted.org/packages/09/c7/ce8c9c37ab8ff8337faad3335c088d60bed4a35a4bed33a64f0e64fbcf29/pyquery-1.4.0-py2.py3-none-any.whl\n",
            "Requirement already satisfied, skipping upgrade: soupsieve>=1.2 in /usr/local/lib/python3.6/dist-packages (from BeautifulSoup4) (1.9.2)\n",
            "Requirement already satisfied, skipping upgrade: lxml>=2.1 in /usr/local/lib/python3.6/dist-packages (from pyquery) (4.2.6)\n",
            "Collecting cssselect>0.7.9 (from pyquery)\n",
            "  Downloading https://files.pythonhosted.org/packages/7b/44/25b7283e50585f0b4156960691d951b05d061abf4a714078393e51929b30/cssselect-1.0.3-py2.py3-none-any.whl\n",
            "Installing collected packages: cssselect, pyquery\n",
            "Successfully installed cssselect-1.0.3 pyquery-1.4.0\n"
          ],
          "name": "stdout"
        }
      ]
    },
    {
      "cell_type": "code",
      "metadata": {
        "id": "j67Z9j52tUQZ",
        "colab_type": "code",
        "colab": {}
      },
      "source": [
        "from bs4 import BeautifulSoup\n",
        "from pyquery import PyQuery as pq\n",
        "import requests"
      ],
      "execution_count": null,
      "outputs": []
    },
    {
      "cell_type": "code",
      "metadata": {
        "id": "yUUrnm4VuRTV",
        "colab_type": "code",
        "colab": {
          "base_uri": "https://localhost:8080/",
          "height": 34
        },
        "outputId": "46d2298f-d61f-4fc8-c99a-90f1cc9bad3f"
      },
      "source": [
        "r = requests.get(\"https://www.imdb.com/title/tt4154796/\")\n",
        "print(r.status_code)"
      ],
      "execution_count": null,
      "outputs": [
        {
          "output_type": "stream",
          "text": [
            "200\n"
          ],
          "name": "stdout"
        }
      ]
    },
    {
      "cell_type": "code",
      "metadata": {
        "id": "M7a-w13vuWvo",
        "colab_type": "code",
        "colab": {
          "base_uri": "https://localhost:8080/",
          "height": 34
        },
        "outputId": "244581b5-3d6d-4950-c26e-394eff1d5da1"
      },
      "source": [
        "len(r.text)"
      ],
      "execution_count": null,
      "outputs": [
        {
          "output_type": "execute_result",
          "data": {
            "text/plain": [
              "258710"
            ]
          },
          "metadata": {
            "tags": []
          },
          "execution_count": 25
        }
      ]
    },
    {
      "cell_type": "code",
      "metadata": {
        "id": "JhMc-oUaunb4",
        "colab_type": "code",
        "colab": {
          "base_uri": "https://localhost:8080/",
          "height": 34
        },
        "outputId": "7f0d354b-7a42-4439-8143-16ce3a95cec4"
      },
      "source": [
        "type(r.text)"
      ],
      "execution_count": null,
      "outputs": [
        {
          "output_type": "execute_result",
          "data": {
            "text/plain": [
              "str"
            ]
          },
          "metadata": {
            "tags": []
          },
          "execution_count": 23
        }
      ]
    },
    {
      "cell_type": "code",
      "metadata": {
        "id": "bGLIwpPUvIr6",
        "colab_type": "code",
        "colab": {
          "base_uri": "https://localhost:8080/",
          "height": 34
        },
        "outputId": "0273f676-f4f3-46ee-e49a-b17ad38eabd1"
      },
      "source": [
        "soup = BeautifulSoup(r.text)\n",
        "print(type(soup))\n",
        "#BeautifulSoup()：創建 soup 類別\n",
        "#soup.find()：尋找第一個符合標記名稱的資料\n",
        "#soup.find_all()：尋找所有符合標記名稱的資料\n",
        "#soup.select()：尋找所有符合 CSS Selectors 的資料\n",
        "#element.Tag.text：取出標記中的文字值\n",
        "#element.Tag.get(attr)：取出標記中的指定屬性"
      ],
      "execution_count": null,
      "outputs": [
        {
          "output_type": "stream",
          "text": [
            "<class 'bs4.BeautifulSoup'>\n"
          ],
          "name": "stdout"
        }
      ]
    },
    {
      "cell_type": "code",
      "metadata": {
        "id": "CZRM1pKNvY9x",
        "colab_type": "code",
        "colab": {
          "base_uri": "https://localhost:8080/",
          "height": 34
        },
        "outputId": "f7a51574-f333-4aff-ca1a-2122402b120a"
      },
      "source": [
        "movie_title_elem = soup.find(\"h1\")\n",
        "print(type(movie_title_elem))"
      ],
      "execution_count": null,
      "outputs": [
        {
          "output_type": "stream",
          "text": [
            "<class 'bs4.element.Tag'>\n"
          ],
          "name": "stdout"
        }
      ]
    },
    {
      "cell_type": "code",
      "metadata": {
        "id": "G5lSdGWzvbMS",
        "colab_type": "code",
        "colab": {
          "base_uri": "https://localhost:8080/",
          "height": 34
        },
        "outputId": "ef8ba41b-8ceb-46e6-bcad-88774550bc3f"
      },
      "source": [
        "movie_title_elem = soup.find(\"h1\")\n",
        "print(type(movie_title_elem))"
      ],
      "execution_count": null,
      "outputs": [
        {
          "output_type": "stream",
          "text": [
            "<class 'bs4.element.Tag'>\n"
          ],
          "name": "stdout"
        }
      ]
    },
    {
      "cell_type": "code",
      "metadata": {
        "id": "CZERRgp5vqne",
        "colab_type": "code",
        "colab": {
          "base_uri": "https://localhost:8080/",
          "height": 34
        },
        "outputId": "d60b6ba4-3951-4988-d45f-3e47b869499e"
      },
      "source": [
        "movie_title=movie_title_elem.text\n",
        "print(movie_title)"
      ],
      "execution_count": null,
      "outputs": [
        {
          "output_type": "stream",
          "text": [
            "Avengers: Endgame (2019) \n"
          ],
          "name": "stdout"
        }
      ]
    },
    {
      "cell_type": "code",
      "metadata": {
        "id": "wljgr6yDvqQj",
        "colab_type": "code",
        "colab": {
          "base_uri": "https://localhost:8080/",
          "height": 70
        },
        "outputId": "6b4e6ebc-75be-417e-f0a8-f11bbca4a829"
      },
      "source": [
        "soup.select(\".ratingValue span\")"
      ],
      "execution_count": null,
      "outputs": [
        {
          "output_type": "execute_result",
          "data": {
            "text/plain": [
              "[<span itemprop=\"ratingValue\">8.7</span>,\n",
              " <span class=\"grey\">/</span>,\n",
              " <span class=\"grey\" itemprop=\"bestRating\">10</span>]"
            ]
          },
          "metadata": {
            "tags": []
          },
          "execution_count": 34
        }
      ]
    },
    {
      "cell_type": "code",
      "metadata": {
        "id": "eq6KGeU7wJZj",
        "colab_type": "code",
        "colab": {
          "base_uri": "https://localhost:8080/",
          "height": 34
        },
        "outputId": "2fb9c5da-7169-4b5d-9846-92300a49b077"
      },
      "source": [
        "float(soup.select(\".ratingValue span\")[0].text)"
      ],
      "execution_count": null,
      "outputs": [
        {
          "output_type": "execute_result",
          "data": {
            "text/plain": [
              "8.7"
            ]
          },
          "metadata": {
            "tags": []
          },
          "execution_count": 35
        }
      ]
    },
    {
      "cell_type": "code",
      "metadata": {
        "id": "oHbFqt46wkcd",
        "colab_type": "code",
        "colab": {}
      },
      "source": [
        "elem_list=soup.select(\".subtext a\")\n",
        "release_date_elem=elem_list.pop()"
      ],
      "execution_count": null,
      "outputs": []
    },
    {
      "cell_type": "code",
      "metadata": {
        "id": "n2eEo2wUwkFp",
        "colab_type": "code",
        "colab": {
          "base_uri": "https://localhost:8080/",
          "height": 34
        },
        "outputId": "0970e354-cf62-450a-a323-3cbba36e9ad8"
      },
      "source": [
        "# conventional\n",
        "genre = []\n",
        "for e in elem_list:\n",
        "    genre.append(e.text)\n",
        "print(genre)"
      ],
      "execution_count": null,
      "outputs": [
        {
          "output_type": "stream",
          "text": [
            "['Action', 'Adventure', 'Sci-Fi']\n"
          ],
          "name": "stdout"
        }
      ]
    },
    {
      "cell_type": "code",
      "metadata": {
        "id": "uqFqeuMy3w2g",
        "colab_type": "code",
        "colab": {
          "base_uri": "https://localhost:8080/",
          "height": 34
        },
        "outputId": "5fbad25c-b6f7-4874-cf08-ffbe2ca1e0bf"
      },
      "source": [
        "# list comprehension\n",
        "genre = [e.text for e in elem_list]\n",
        "print(genre)"
      ],
      "execution_count": null,
      "outputs": [
        {
          "output_type": "stream",
          "text": [
            "['Action', 'Adventure', 'Sci-Fi']\n"
          ],
          "name": "stdout"
        }
      ]
    },
    {
      "cell_type": "code",
      "metadata": {
        "id": "fMKZomu57S1k",
        "colab_type": "code",
        "colab": {
          "base_uri": "https://localhost:8080/",
          "height": 72
        },
        "outputId": "3fb72f2b-7788-40f9-aea8-b54523aef6a5"
      },
      "source": [
        "cast = [e.text for e in soup.select(\".primary_photo+ td a\")]\n",
        "print(cast)\n",
        "print(len(cast))"
      ],
      "execution_count": null,
      "outputs": [
        {
          "output_type": "stream",
          "text": [
            "[' Robert Downey Jr.\\n', ' Chris Evans\\n', ' Mark Ruffalo\\n', ' Chris Hemsworth\\n', ' Scarlett Johansson\\n', ' Jeremy Renner\\n', ' Don Cheadle\\n', ' Paul Rudd\\n', ' Benedict Cumberbatch\\n', ' Chadwick Boseman\\n', ' Brie Larson\\n', ' Tom Holland\\n', ' Karen Gillan\\n', ' Zoe Saldana\\n', ' Evangeline Lilly\\n']\n",
            "15\n"
          ],
          "name": "stdout"
        }
      ]
    },
    {
      "cell_type": "code",
      "metadata": {
        "id": "jfthtg5b6dNt",
        "colab_type": "code",
        "colab": {
          "base_uri": "https://localhost:8080/",
          "height": 54
        },
        "outputId": "dcd091d2-1b41-42c7-d970-adde3f7f769f"
      },
      "source": [
        "elem_tag=soup.select(\".poster img\")[0]\n",
        "print(elem_tag)"
      ],
      "execution_count": null,
      "outputs": [
        {
          "output_type": "stream",
          "text": [
            "<img alt=\"Avengers: Endgame Poster\" src=\"https://m.media-amazon.com/images/M/MV5BMTc5MDE2ODcwNV5BMl5BanBnXkFtZTgwMzI2NzQ2NzM@._V1_UX182_CR0,0,182,268_AL_.jpg\" title=\"Avengers: Endgame Poster\"/>\n"
          ],
          "name": "stdout"
        }
      ]
    },
    {
      "cell_type": "code",
      "metadata": {
        "id": "-1M37pUR7gPM",
        "colab_type": "code",
        "colab": {
          "base_uri": "https://localhost:8080/",
          "height": 34
        },
        "outputId": "b66ab6fd-ef5c-43b8-90eb-74deecdfa4b3"
      },
      "source": [
        "print(elem_tag.get(\"alt\"))"
      ],
      "execution_count": null,
      "outputs": [
        {
          "output_type": "stream",
          "text": [
            "Avengers: Endgame Poster\n"
          ],
          "name": "stdout"
        }
      ]
    },
    {
      "cell_type": "code",
      "metadata": {
        "id": "DAat9PUD7p8h",
        "colab_type": "code",
        "colab": {
          "base_uri": "https://localhost:8080/",
          "height": 34
        },
        "outputId": "b9ddb80e-03b8-4721-f00a-22d0d9396365"
      },
      "source": [
        "print(elem_tag.get(\"src\"))#圖片位置"
      ],
      "execution_count": null,
      "outputs": [
        {
          "output_type": "stream",
          "text": [
            "https://m.media-amazon.com/images/M/MV5BMTc5MDE2ODcwNV5BMl5BanBnXkFtZTgwMzI2NzQ2NzM@._V1_UX182_CR0,0,182,268_AL_.jpg\n"
          ],
          "name": "stdout"
        }
      ]
    },
    {
      "cell_type": "code",
      "metadata": {
        "id": "7rGjO2wv8Tci",
        "colab_type": "code",
        "colab": {}
      },
      "source": [
        "cast_img_elem_list = soup.select(\"#titleCast .loadlate\")#卡司圖片"
      ],
      "execution_count": null,
      "outputs": []
    },
    {
      "cell_type": "code",
      "metadata": {
        "id": "6pmCnQ1w81OD",
        "colab_type": "code",
        "colab": {
          "base_uri": "https://localhost:8080/",
          "height": 54
        },
        "outputId": "27512c8b-ff58-4f72-959e-af1d92ed034c"
      },
      "source": [
        "cast = [e.get(\"alt\") for e in cast_img_elem_list]\n",
        "print(cast)"
      ],
      "execution_count": null,
      "outputs": [
        {
          "output_type": "stream",
          "text": [
            "['Robert Downey Jr.', 'Chris Evans', 'Mark Ruffalo', 'Chris Hemsworth', 'Scarlett Johansson', 'Jeremy Renner', 'Don Cheadle', 'Paul Rudd', 'Benedict Cumberbatch', 'Chadwick Boseman', 'Brie Larson', 'Tom Holland', 'Karen Gillan', 'Zoe Saldana', 'Evangeline Lilly']\n"
          ],
          "name": "stdout"
        }
      ]
    },
    {
      "cell_type": "code",
      "metadata": {
        "id": "UjeXNk3I8tpz",
        "colab_type": "code",
        "colab": {
          "base_uri": "https://localhost:8080/",
          "height": 54
        },
        "outputId": "e0805946-8d5b-461d-8f06-20eff72d020f"
      },
      "source": [
        "cast = [e.get(\"title\") for e in cast_img_elem_list]\n",
        "print(cast)"
      ],
      "execution_count": null,
      "outputs": [
        {
          "output_type": "stream",
          "text": [
            "['Robert Downey Jr.', 'Chris Evans', 'Mark Ruffalo', 'Chris Hemsworth', 'Scarlett Johansson', 'Jeremy Renner', 'Don Cheadle', 'Paul Rudd', 'Benedict Cumberbatch', 'Chadwick Boseman', 'Brie Larson', 'Tom Holland', 'Karen Gillan', 'Zoe Saldana', 'Evangeline Lilly']\n"
          ],
          "name": "stdout"
        }
      ]
    },
    {
      "cell_type": "code",
      "metadata": {
        "id": "UhWhEEo39bvL",
        "colab_type": "code",
        "colab": {
          "base_uri": "https://localhost:8080/",
          "height": 54
        },
        "outputId": "111e143f-ee33-4e3b-8512-34add1711484"
      },
      "source": [
        "cast_img = [e.get(\"loadlate\") for e in cast_img_elem_list]\n",
        "print(cast_img)"
      ],
      "execution_count": null,
      "outputs": [
        {
          "output_type": "stream",
          "text": [
            "['https://m.media-amazon.com/images/M/MV5BNzg1MTUyNDYxOF5BMl5BanBnXkFtZTgwNTQ4MTE2MjE@._V1_UX32_CR0,0,32,44_AL_.jpg', 'https://m.media-amazon.com/images/M/MV5BMTU2NTg1OTQzMF5BMl5BanBnXkFtZTcwNjIyMjkyMg@@._V1_UX32_CR0,0,32,44_AL_.jpg', 'https://m.media-amazon.com/images/M/MV5BNDQyNzMzZTMtYjlkNS00YzFhLWFhMTctY2M4YmQ1NmRhODBkXkEyXkFqcGdeQXVyNjcyNzgyOTE@._V1_UY44_CR1,0,32,44_AL_.jpg', 'https://m.media-amazon.com/images/M/MV5BOTU2MTI0NTIyNV5BMl5BanBnXkFtZTcwMTA4Nzc3OA@@._V1_UX32_CR0,0,32,44_AL_.jpg', 'https://m.media-amazon.com/images/M/MV5BMTM3OTUwMDYwNl5BMl5BanBnXkFtZTcwNTUyNzc3Nw@@._V1_UY44_CR2,0,32,44_AL_.jpg', 'https://m.media-amazon.com/images/M/MV5BOTk2NDc2ODgzMF5BMl5BanBnXkFtZTcwMTMzOTQ4Nw@@._V1_UX32_CR0,0,32,44_AL_.jpg', 'https://m.media-amazon.com/images/M/MV5BNDMxNDM3MzY5N15BMl5BanBnXkFtZTcwMjkzOTY4MQ@@._V1_UY44_CR1,0,32,44_AL_.jpg', 'https://m.media-amazon.com/images/M/MV5BMTY4NTEwNDg1MV5BMl5BanBnXkFtZTgwODMwMDA0ODE@._V1_UY44_CR1,0,32,44_AL_.jpg', 'https://m.media-amazon.com/images/M/MV5BMjE0MDkzMDQwOF5BMl5BanBnXkFtZTgwOTE1Mjg1MzE@._V1_UX32_CR0,0,32,44_AL_.jpg', 'https://m.media-amazon.com/images/M/MV5BMTk2OTY5MzcwMV5BMl5BanBnXkFtZTgwODM4MDI5MjI@._V1_UX32_CR0,0,32,44_AL_.jpg', 'https://m.media-amazon.com/images/M/MV5BMjExODkxODU3NF5BMl5BanBnXkFtZTgwNTM0MTk3NjE@._V1_UX32_CR0,0,32,44_AL_.jpg', 'https://m.media-amazon.com/images/M/MV5BNTAzMzA3NjQwOF5BMl5BanBnXkFtZTgwMDUzODQ5MTI@._V1_UY44_CR2,0,32,44_AL_.jpg', 'https://m.media-amazon.com/images/M/MV5BMTQwMDQ0NDk1OV5BMl5BanBnXkFtZTcwNDcxOTExNg@@._V1_UX32_CR0,0,32,44_AL_.jpg', 'https://m.media-amazon.com/images/M/MV5BMTM2MjIwOTc0Nl5BMl5BanBnXkFtZTcwNzQ5ODM1Mw@@._V1_UX32_CR0,0,32,44_AL_.jpg', 'https://m.media-amazon.com/images/M/MV5BMTc2MDMzODU0OV5BMl5BanBnXkFtZTgwODIwOTAxMzI@._V1_UY44_CR3,0,32,44_AL_.jpg']\n"
          ],
          "name": "stdout"
        }
      ]
    },
    {
      "cell_type": "code",
      "metadata": {
        "id": "CPU1ekBU9_Ua",
        "colab_type": "code",
        "colab": {
          "base_uri": "https://localhost:8080/",
          "height": 303
        },
        "outputId": "527221f7-8289-478a-ed1e-7b824267e057"
      },
      "source": [
        "cast_img_elem_list"
      ],
      "execution_count": null,
      "outputs": [
        {
          "output_type": "execute_result",
          "data": {
            "text/plain": [
              "[<img alt=\"Robert Downey Jr.\" class=\"loadlate hidden\" height=\"44\" loadlate=\"https://m.media-amazon.com/images/M/MV5BNzg1MTUyNDYxOF5BMl5BanBnXkFtZTgwNTQ4MTE2MjE@._V1_UX32_CR0,0,32,44_AL_.jpg\" src=\"https://m.media-amazon.com/images/G/01/imdb/images/nopicture/32x44/name-2138558783._CB470041625_.png\" title=\"Robert Downey Jr.\" width=\"32\"/>,\n",
              " <img alt=\"Chris Evans\" class=\"loadlate hidden\" height=\"44\" loadlate=\"https://m.media-amazon.com/images/M/MV5BMTU2NTg1OTQzMF5BMl5BanBnXkFtZTcwNjIyMjkyMg@@._V1_UX32_CR0,0,32,44_AL_.jpg\" src=\"https://m.media-amazon.com/images/G/01/imdb/images/nopicture/32x44/name-2138558783._CB470041625_.png\" title=\"Chris Evans\" width=\"32\"/>,\n",
              " <img alt=\"Mark Ruffalo\" class=\"loadlate hidden\" height=\"44\" loadlate=\"https://m.media-amazon.com/images/M/MV5BNDQyNzMzZTMtYjlkNS00YzFhLWFhMTctY2M4YmQ1NmRhODBkXkEyXkFqcGdeQXVyNjcyNzgyOTE@._V1_UY44_CR1,0,32,44_AL_.jpg\" src=\"https://m.media-amazon.com/images/G/01/imdb/images/nopicture/32x44/name-2138558783._CB470041625_.png\" title=\"Mark Ruffalo\" width=\"32\"/>,\n",
              " <img alt=\"Chris Hemsworth\" class=\"loadlate hidden\" height=\"44\" loadlate=\"https://m.media-amazon.com/images/M/MV5BOTU2MTI0NTIyNV5BMl5BanBnXkFtZTcwMTA4Nzc3OA@@._V1_UX32_CR0,0,32,44_AL_.jpg\" src=\"https://m.media-amazon.com/images/G/01/imdb/images/nopicture/32x44/name-2138558783._CB470041625_.png\" title=\"Chris Hemsworth\" width=\"32\"/>,\n",
              " <img alt=\"Scarlett Johansson\" class=\"loadlate hidden\" height=\"44\" loadlate=\"https://m.media-amazon.com/images/M/MV5BMTM3OTUwMDYwNl5BMl5BanBnXkFtZTcwNTUyNzc3Nw@@._V1_UY44_CR2,0,32,44_AL_.jpg\" src=\"https://m.media-amazon.com/images/G/01/imdb/images/nopicture/32x44/name-2138558783._CB470041625_.png\" title=\"Scarlett Johansson\" width=\"32\"/>,\n",
              " <img alt=\"Jeremy Renner\" class=\"loadlate hidden\" height=\"44\" loadlate=\"https://m.media-amazon.com/images/M/MV5BOTk2NDc2ODgzMF5BMl5BanBnXkFtZTcwMTMzOTQ4Nw@@._V1_UX32_CR0,0,32,44_AL_.jpg\" src=\"https://m.media-amazon.com/images/G/01/imdb/images/nopicture/32x44/name-2138558783._CB470041625_.png\" title=\"Jeremy Renner\" width=\"32\"/>,\n",
              " <img alt=\"Don Cheadle\" class=\"loadlate hidden\" height=\"44\" loadlate=\"https://m.media-amazon.com/images/M/MV5BNDMxNDM3MzY5N15BMl5BanBnXkFtZTcwMjkzOTY4MQ@@._V1_UY44_CR1,0,32,44_AL_.jpg\" src=\"https://m.media-amazon.com/images/G/01/imdb/images/nopicture/32x44/name-2138558783._CB470041625_.png\" title=\"Don Cheadle\" width=\"32\"/>,\n",
              " <img alt=\"Paul Rudd\" class=\"loadlate hidden\" height=\"44\" loadlate=\"https://m.media-amazon.com/images/M/MV5BMTY4NTEwNDg1MV5BMl5BanBnXkFtZTgwODMwMDA0ODE@._V1_UY44_CR1,0,32,44_AL_.jpg\" src=\"https://m.media-amazon.com/images/G/01/imdb/images/nopicture/32x44/name-2138558783._CB470041625_.png\" title=\"Paul Rudd\" width=\"32\"/>,\n",
              " <img alt=\"Benedict Cumberbatch\" class=\"loadlate hidden\" height=\"44\" loadlate=\"https://m.media-amazon.com/images/M/MV5BMjE0MDkzMDQwOF5BMl5BanBnXkFtZTgwOTE1Mjg1MzE@._V1_UX32_CR0,0,32,44_AL_.jpg\" src=\"https://m.media-amazon.com/images/G/01/imdb/images/nopicture/32x44/name-2138558783._CB470041625_.png\" title=\"Benedict Cumberbatch\" width=\"32\"/>,\n",
              " <img alt=\"Chadwick Boseman\" class=\"loadlate hidden\" height=\"44\" loadlate=\"https://m.media-amazon.com/images/M/MV5BMTk2OTY5MzcwMV5BMl5BanBnXkFtZTgwODM4MDI5MjI@._V1_UX32_CR0,0,32,44_AL_.jpg\" src=\"https://m.media-amazon.com/images/G/01/imdb/images/nopicture/32x44/name-2138558783._CB470041625_.png\" title=\"Chadwick Boseman\" width=\"32\"/>,\n",
              " <img alt=\"Brie Larson\" class=\"loadlate hidden\" height=\"44\" loadlate=\"https://m.media-amazon.com/images/M/MV5BMjExODkxODU3NF5BMl5BanBnXkFtZTgwNTM0MTk3NjE@._V1_UX32_CR0,0,32,44_AL_.jpg\" src=\"https://m.media-amazon.com/images/G/01/imdb/images/nopicture/32x44/name-2138558783._CB470041625_.png\" title=\"Brie Larson\" width=\"32\"/>,\n",
              " <img alt=\"Tom Holland\" class=\"loadlate hidden\" height=\"44\" loadlate=\"https://m.media-amazon.com/images/M/MV5BNTAzMzA3NjQwOF5BMl5BanBnXkFtZTgwMDUzODQ5MTI@._V1_UY44_CR2,0,32,44_AL_.jpg\" src=\"https://m.media-amazon.com/images/G/01/imdb/images/nopicture/32x44/name-2138558783._CB470041625_.png\" title=\"Tom Holland\" width=\"32\"/>,\n",
              " <img alt=\"Karen Gillan\" class=\"loadlate hidden\" height=\"44\" loadlate=\"https://m.media-amazon.com/images/M/MV5BMTQwMDQ0NDk1OV5BMl5BanBnXkFtZTcwNDcxOTExNg@@._V1_UX32_CR0,0,32,44_AL_.jpg\" src=\"https://m.media-amazon.com/images/G/01/imdb/images/nopicture/32x44/name-2138558783._CB470041625_.png\" title=\"Karen Gillan\" width=\"32\"/>,\n",
              " <img alt=\"Zoe Saldana\" class=\"loadlate hidden\" height=\"44\" loadlate=\"https://m.media-amazon.com/images/M/MV5BMTM2MjIwOTc0Nl5BMl5BanBnXkFtZTcwNzQ5ODM1Mw@@._V1_UX32_CR0,0,32,44_AL_.jpg\" src=\"https://m.media-amazon.com/images/G/01/imdb/images/nopicture/32x44/name-2138558783._CB470041625_.png\" title=\"Zoe Saldana\" width=\"32\"/>,\n",
              " <img alt=\"Evangeline Lilly\" class=\"loadlate hidden\" height=\"44\" loadlate=\"https://m.media-amazon.com/images/M/MV5BMTc2MDMzODU0OV5BMl5BanBnXkFtZTgwODIwOTAxMzI@._V1_UY44_CR3,0,32,44_AL_.jpg\" src=\"https://m.media-amazon.com/images/G/01/imdb/images/nopicture/32x44/name-2138558783._CB470041625_.png\" title=\"Evangeline Lilly\" width=\"32\"/>]"
            ]
          },
          "metadata": {
            "tags": []
          },
          "execution_count": 70
        }
      ]
    },
    {
      "cell_type": "code",
      "metadata": {
        "id": "7Wwl0erf-Dfc",
        "colab_type": "code",
        "colab": {
          "base_uri": "https://localhost:8080/",
          "height": 34
        },
        "outputId": "362e9dec-cab9-4234-ffb9-b44507d82a49"
      },
      "source": [
        "d = pq(r.text)\n",
        "print(type(d))"
      ],
      "execution_count": null,
      "outputs": [
        {
          "output_type": "stream",
          "text": [
            "<class 'pyquery.pyquery.PyQuery'>\n"
          ],
          "name": "stdout"
        }
      ]
    },
    {
      "cell_type": "code",
      "metadata": {
        "id": "nUVXOKjh35_-",
        "colab_type": "code",
        "colab": {
          "base_uri": "https://localhost:8080/",
          "height": 34
        },
        "outputId": "d2a159c0-e016-45bc-e4a1-59e128605d51"
      },
      "source": [
        "#常用的 pyquery 方法、屬性\n",
        "#PyQuery()：創建 PyQuery 類別\n",
        "#d(\"YOUR-CSS-SELECTOR\")：尋找所有符合 CSS Selectors 的資料\n",
        "#d(\"YOUR-CSS-SELECTOR\").items()：回傳所有符合 CSS Selectors 的文字與屬性\n",
        "#elem.text()：取出標記中的文字值\n",
        "#elem.attr(ATTR)：取出標記中的指定屬性\n",
        "d=pq(r.text)\n",
        "print(type(d))"
      ],
      "execution_count": null,
      "outputs": [
        {
          "output_type": "stream",
          "text": [
            "<class 'pyquery.pyquery.PyQuery'>\n"
          ],
          "name": "stdout"
        }
      ]
    },
    {
      "cell_type": "code",
      "metadata": {
        "id": "klGKwSLi_3Uo",
        "colab_type": "code",
        "colab": {
          "base_uri": "https://localhost:8080/",
          "height": 34
        },
        "outputId": "7a127690-9ec2-4a8a-8a85-5ea3cb581365"
      },
      "source": [
        "movie_rating = [float(e.text()) for e in d(\"strong span\").items()][0]\n",
        "print(movie_rating)"
      ],
      "execution_count": null,
      "outputs": [
        {
          "output_type": "stream",
          "text": [
            "8.7\n"
          ],
          "name": "stdout"
        }
      ]
    },
    {
      "cell_type": "code",
      "metadata": {
        "id": "u8A8mn7QAxzW",
        "colab_type": "code",
        "colab": {
          "base_uri": "https://localhost:8080/",
          "height": 34
        },
        "outputId": "ffe5da51-12fc-40b7-b96d-6ae95c22a553"
      },
      "source": [
        "movie_title = [e.text() for e in d(\"h1\").items()][0]\n",
        "print(movie_title)"
      ],
      "execution_count": null,
      "outputs": [
        {
          "output_type": "stream",
          "text": [
            "Avengers: Endgame (2019)\n"
          ],
          "name": "stdout"
        }
      ]
    },
    {
      "cell_type": "code",
      "metadata": {
        "id": "0BHZayuuBcsG",
        "colab_type": "code",
        "colab": {
          "base_uri": "https://localhost:8080/",
          "height": 34
        },
        "outputId": "3df5d52f-d51c-4bf2-b08f-0be63c181bce"
      },
      "source": [
        "movie_poster_link = [e.attr(\"src\") for e in d(\".poster img\").items()][0]\n",
        "print(movie_poster_link)"
      ],
      "execution_count": null,
      "outputs": [
        {
          "output_type": "stream",
          "text": [
            "https://m.media-amazon.com/images/M/MV5BMTc5MDE2ODcwNV5BMl5BanBnXkFtZTgwMzI2NzQ2NzM@._V1_UX182_CR0,0,182,268_AL_.jpg\n"
          ],
          "name": "stdout"
        }
      ]
    },
    {
      "cell_type": "code",
      "metadata": {
        "id": "i5Kie1DUBcXn",
        "colab_type": "code",
        "colab": {
          "base_uri": "https://localhost:8080/",
          "height": 87
        },
        "outputId": "cb320aaf-50fd-48cd-8ab2-4e9bdfd66609"
      },
      "source": [
        "for i in d(\".subtext a\").items():\n",
        "    print(i.text())"
      ],
      "execution_count": null,
      "outputs": [
        {
          "output_type": "stream",
          "text": [
            "Action\n",
            "Adventure\n",
            "Sci-Fi\n",
            "26 April 2019 (USA)\n"
          ],
          "name": "stdout"
        }
      ]
    },
    {
      "cell_type": "code",
      "metadata": {
        "id": "80-YsaZ4DOgR",
        "colab_type": "code",
        "colab": {
          "base_uri": "https://localhost:8080/",
          "height": 34
        },
        "outputId": "d2986b75-360b-48fd-d238-bd3ddee6293b"
      },
      "source": [
        "genre = [e.text() for e in d(\".subtext a\").items()]\n",
        "genre.pop()\n",
        "print(genre)"
      ],
      "execution_count": null,
      "outputs": [
        {
          "output_type": "stream",
          "text": [
            "['Action', 'Adventure', 'Sci-Fi']\n"
          ],
          "name": "stdout"
        }
      ]
    },
    {
      "cell_type": "code",
      "metadata": {
        "id": "gACuRiyMCxfv",
        "colab_type": "code",
        "colab": {
          "base_uri": "https://localhost:8080/",
          "height": 54
        },
        "outputId": "79891a25-9938-47f7-c52e-6fa1b44d8df2"
      },
      "source": [
        "cast = [e.attr(\"title\") for e in d(\"#titleCast .loadlate\").items()]\n",
        "print(cast)"
      ],
      "execution_count": null,
      "outputs": [
        {
          "output_type": "stream",
          "text": [
            "['Robert Downey Jr.', 'Chris Evans', 'Mark Ruffalo', 'Chris Hemsworth', 'Scarlett Johansson', 'Jeremy Renner', 'Don Cheadle', 'Paul Rudd', 'Benedict Cumberbatch', 'Chadwick Boseman', 'Brie Larson', 'Tom Holland', 'Karen Gillan', 'Zoe Saldana', 'Evangeline Lilly']\n"
          ],
          "name": "stdout"
        }
      ]
    },
    {
      "cell_type": "code",
      "metadata": {
        "id": "P7qp3KgRDBDV",
        "colab_type": "code",
        "colab": {}
      },
      "source": [
        "import requests\n",
        "from pyquery import PyQuery as pq\n",
        "\n",
        "def get_movie_data(movie_url):\n",
        "    r = requests.get(movie_url)\n",
        "    d = pq(r.text)\n",
        "    movie_title = [i.text() for i in d(\"h1\").items()][0]\n",
        "    movie_poster = [i.attr(\"src\") for i in d(\".poster img\").items()][0]\n",
        "    movie_rating = [float(i.text()) for i in d(\"strong span\").items()][0]\n",
        "    movie_genre = [i.text() for i in d(\".subtext a\").items()]\n",
        "    movie_genre.pop()\n",
        "    movie_cast = [i.text() for i in d(\".primary_photo+ td a\").items()]\n",
        "    movie_data = {\n",
        "        \"movieTitle\": movie_title,\n",
        "        \"moviePoster\": movie_poster,\n",
        "        \"movieRating\": movie_rating,\n",
        "        \"movieGenre\": movie_genre,\n",
        "        \"movieCast\": movie_cast\n",
        "    }\n",
        "    return movie_data"
      ],
      "execution_count": null,
      "outputs": []
    },
    {
      "cell_type": "code",
      "metadata": {
        "id": "HHS3EeKXDAiP",
        "colab_type": "code",
        "colab": {
          "base_uri": "https://localhost:8080/",
          "height": 354
        },
        "outputId": "af3c2016-a857-4262-9e64-05b6aa05c8e1"
      },
      "source": [
        "get_movie_data(\"https://www.imdb.com/title/tt1979376\")"
      ],
      "execution_count": null,
      "outputs": [
        {
          "output_type": "execute_result",
          "data": {
            "text/plain": [
              "{'movieCast': ['Tom Hanks',\n",
              "  'Tim Allen',\n",
              "  'Annie Potts',\n",
              "  'Tony Hale',\n",
              "  'Keegan-Michael Key',\n",
              "  'Madeleine McGraw',\n",
              "  'Christina Hendricks',\n",
              "  'Jordan Peele',\n",
              "  'Keanu Reeves',\n",
              "  'Ally Maki',\n",
              "  'Jay Hernandez',\n",
              "  'Lori Alan',\n",
              "  'Joan Cusack',\n",
              "  'Bonnie Hunt',\n",
              "  'Kristen Schaal'],\n",
              " 'movieGenre': ['Animation', 'Adventure', 'Comedy'],\n",
              " 'moviePoster': 'https://m.media-amazon.com/images/M/MV5BMTYzMDM4NzkxOV5BMl5BanBnXkFtZTgwNzM1Mzg2NzM@._V1_UX182_CR0,0,182,268_AL_.jpg',\n",
              " 'movieRating': 8.5,\n",
              " 'movieTitle': 'Toy Story 4\\xa0(2019)'}"
            ]
          },
          "metadata": {
            "tags": []
          },
          "execution_count": 81
        }
      ]
    },
    {
      "cell_type": "code",
      "metadata": {
        "id": "waEWqhQVFs1L",
        "colab_type": "code",
        "colab": {
          "base_uri": "https://localhost:8080/",
          "height": 34
        },
        "outputId": "9b6bf996-0dea-4ae0-a99d-1858db56a2c6"
      },
      "source": [
        "from urllib.parse import quote_plus\n",
        "\n",
        "print(quote_plus(\"Avengers: Endgame (2019)\"))"
      ],
      "execution_count": null,
      "outputs": [
        {
          "output_type": "stream",
          "text": [
            "Avengers%3A+Endgame+%282019%29\n"
          ],
          "name": "stdout"
        }
      ]
    },
    {
      "cell_type": "code",
      "metadata": {
        "id": "bu__Z7mSFsVI",
        "colab_type": "code",
        "colab": {}
      },
      "source": [
        "from urllib.parse import quote_plus\n",
        "\n",
        "def get_movie_url(movie_title):\n",
        "    query_str = quote_plus(movie_title)\n",
        "    query_url = \"https://www.imdb.com/find?ref_=nv_sr_fn&q={}&s=all\".format(query_str)\n",
        "    r = requests.get(query_url)\n",
        "    soup = BeautifulSoup(r.text)\n",
        "    first_elem = soup.select(\".result_text a\")[0]\n",
        "    movie_url = \"https://www.imdb.com\" + first_elem.get(\"href\")\n",
        "    return movie_url\n",
        "    "
      ],
      "execution_count": null,
      "outputs": []
    },
    {
      "cell_type": "code",
      "metadata": {
        "id": "vjCsaDo5HESN",
        "colab_type": "code",
        "colab": {
          "base_uri": "https://localhost:8080/",
          "height": 34
        },
        "outputId": "35f11b30-313c-4f1b-b878-80dd2a698fbe"
      },
      "source": [
        "get_movie_url(\"Avengers: Endgame (2019)\")"
      ],
      "execution_count": null,
      "outputs": [
        {
          "output_type": "execute_result",
          "data": {
            "text/plain": [
              "'https://www.imdb.com/title/tt4154796/'"
            ]
          },
          "metadata": {
            "tags": []
          },
          "execution_count": 85
        }
      ]
    },
    {
      "cell_type": "code",
      "metadata": {
        "id": "-uBKD6JQHDyq",
        "colab_type": "code",
        "colab": {
          "base_uri": "https://localhost:8080/",
          "height": 54
        },
        "outputId": "9a0613c2-dc32-43d0-a653-42f37dbfda66"
      },
      "source": [
        "movie_title = \"Toy Story 4\"\n",
        "movie_url = get_movie_url(movie_title)\n",
        "movie_data = get_movie_data(movie_url)\n",
        "print(movie_data)"
      ],
      "execution_count": null,
      "outputs": [
        {
          "output_type": "stream",
          "text": [
            "{'movieTitle': 'Toy Story 4\\xa0(2019)', 'moviePoster': 'https://m.media-amazon.com/images/M/MV5BMTYzMDM4NzkxOV5BMl5BanBnXkFtZTgwNzM1Mzg2NzM@._V1_UX182_CR0,0,182,268_AL_.jpg', 'movieRating': 8.5, 'movieGenre': ['Animation', 'Adventure', 'Comedy'], 'movieCast': ['Tom Hanks', 'Tim Allen', 'Annie Potts', 'Tony Hale', 'Keegan-Michael Key', 'Madeleine McGraw', 'Christina Hendricks', 'Jordan Peele', 'Keanu Reeves', 'Ally Maki', 'Jay Hernandez', 'Lori Alan', 'Joan Cusack', 'Bonnie Hunt', 'Kristen Schaal']}\n"
          ],
          "name": "stdout"
        }
      ]
    },
    {
      "cell_type": "code",
      "metadata": {
        "id": "ZnddYr1C6mIZ",
        "colab_type": "code",
        "colab": {
          "base_uri": "https://localhost:8080/",
          "height": 92
        },
        "outputId": "f186fdc8-9699-4c44-c8ee-f48452de0ab2"
      },
      "source": [
        "import requests\n",
        "from bs4 import BeautifulSoup\n",
        "import time\n",
        "  \n",
        "\n",
        "today = time.strftime('%m/%d').lstrip('0') \n",
        "\n",
        "\n",
        "\n",
        "\n",
        "\n",
        "def pttgraduate(url):\n",
        "    resp = requests.get(url)\n",
        "    if resp.status_code != 200:\n",
        "        print('URL發生錯誤：' + url)\n",
        "        return\n",
        "    \n",
        "    soup = BeautifulSoup(resp.text, 'html5lib')\n",
        "    paging = soup.find('div', 'btn-group btn-group-paging').find_all('a')[1]['href']\n",
        "    \n",
        "    articles = []\n",
        "    rents = soup.find_all('div', 'r-ent')\n",
        "    for rent in rents:\n",
        "        title = rent.find('div', 'title').text.strip()\n",
        "        count = rent.find('div', 'nrec').text.strip()\n",
        "        date = rent.find('div', 'meta').find('div', 'date').text.strip()\n",
        "        article = '%s %s:%s' % (date, count, title)\n",
        "        \n",
        "        try:\n",
        "            if today == date and int(count) > 5:\n",
        "                articles.append(article)\n",
        "        except:\n",
        "            if today == date and count == '爆':\n",
        "                articles.append(article)\n",
        "    \n",
        "    if len(articles) != 0:\n",
        "        for article in articles:\n",
        "            print(article)\n",
        "        pttsex('https://www.ptt.cc' + paging)\n",
        "    else:\n",
        "        return\n",
        "    \n",
        "pttgraduate('https://www.ptt.cc/bbs/graduate/index.html')"
      ],
      "execution_count": null,
      "outputs": [
        {
          "output_type": "stream",
          "text": [
            "6/24 7:[討論] 為什麼爛教授沒有淘汰機制\n",
            "6/24 11:[請益] 私立科大推甄\n",
            "6/24 6:[討論] 陽明碩士班薪水\n",
            "6/24 14:[請益] 台大新聞所及師大傳播所抉擇\n"
          ],
          "name": "stdout"
        }
      ]
    }
  ]
}
